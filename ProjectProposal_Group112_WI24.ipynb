{
 "cells": [
  {
   "cell_type": "markdown",
   "metadata": {},
   "source": [
    "# COGS 108 - Project Proposal"
   ]
  },
  {
   "cell_type": "markdown",
   "metadata": {},
   "source": [
    "# Names\n",
    "\n",
    "- Sandra Gomez\n",
    "- Aydin Tabatabai\n",
    "- Brandon Ng\n",
    "- Sophia Yu\n",
    "- Aarya Patel"
   ]
  },
  {
   "cell_type": "markdown",
   "metadata": {},
   "source": [
    "# Research Question"
   ]
  },
  {
   "cell_type": "markdown",
   "metadata": {},
   "source": [
    "How is a Japanese manga’s popularity affected by the author, publisher, audience demographic, genre, anime adaptation, length of manga, and whether it’s done publishing or still running? Furthermore, among these factors, which one has the greatest impact on a manga’s popularity?"
   ]
  },
  {
   "cell_type": "markdown",
   "metadata": {},
   "source": [
    "## Background and Prior Work"
   ]
  },
  {
   "cell_type": "markdown",
   "metadata": {},
   "source": [
    "Since the 70s in the United States, there has been an increase in sales of Japanese comics (manga). It continues to increase as we see things like American comics struggle to keep up with sales. Many argue that a major reason for this is because it’s easier to keep pace with manga storylines than it is to keep up with American comics.<a name=\"cite_ref-1\"></a>[<sup>1</sup>](#cite_note-1) American comics have had the same characters on top and refuse to change while manga has a lot of variety and diversity. According to Rutgers University, manga didn’t truly take off until the 80s because it was hard to get over the language barrier and reading format. However, its fantastical stories involving ordinary adolescents eventually made readers realize how easy it was to fall in love with these stories.<a name=\"cite_ref-2\"></a>[<sup>2</sup>](#cite_note-2) This made my team wonder what of these stories make them the most popular? What makes them produce the most sales internationally?\n",
    "\n",
    "On this topic we know that One Piece was the best-selling manga series for eleven consecutive years from 2008 until 2018.<a name=\"cite_ref-3\"></a>[<sup>3</sup>](#cite_note-3) This is what originally inspired us to take on this question. However, we noticed that while One Piece is still ongoing, a lot of manga that were popular do not tend to still be ongoing in our data unless it is recent. This leaves a lot of room for discovery and perhaps we can see trends between the decades. \n",
    "  \n",
    "There are many websites showing what the best selling manga is from past decades and from today. However, one source that was particularly helpful in showing data on the industry was statista.com.<a name=\"cite_ref-4\"></a>[<sup>4</sup>](#cite_note-4) We can see digital media sales, print media sales, publishing market sales and consumer data from 2014 to 2022 in Japan.  \n",
    " \n",
    "A different post by the New York Public Library explains some of the different genres that there are within manga including shonen, shojo, seinen and josei.<a name=\"cite_ref-5\"></a>[<sup>5</sup>](#cite_note-5) Although this doesn’t necessarily give data, it gives us a good background of how we can count our sales based on genre. We can generalize some of the themes in the manga which is really helpful as my team has not read every single item in the data we collected.\n",
    "\n",
    "1. <a name=\"cite_note-1\"></a> [^](#cite_ref-1) Stafford, M. (13 Jun 2023) Why Comic Book Sales are Actually Falling. *Medium*. https://mattstafford-4818.medium.com/why-comic-book-sales-are-actually-falling-d9f4e998a7a5\n",
    "2. <a name=\"cite_note-2\"></a> [^](#cite_ref-2) Medina, C. (5 Dec 2019) Why Are Manga Outselling Superhero Comics?. *Rutgers Today*. https://www.rutgers.edu/news/why-are-manga-outselling-superhero-comics#:~:text=Manga%20are%20Japanese%20comics%20%E2%80%93%20and,serious%20readership%20in%20the%201980s.\n",
    "3. <a name=\"cite_note-3\"></a> [^](#cite_ref-3) Loo, E. (4 Dec 2009) 2009's Top-Selling Manga in Japan, by Series. *Anime News Network*. https://www.animenewsnetwork.com/news/2009-12-04/2009-top-selling-manga-in-japan-by-series\n",
    "4. <a name=\"cite_note-4\"></a> [^](#cite_ref-4) (19 Dec 2023) Manga industry in Japan - statistics and facts. *Statista*. https://www.statista.com/topics/7559/manga-industry-in-japan/#topicOverview\n",
    "5. <a name=\"cite_note-5\"></a> [^](#cite_ref-5) Pagan, A. (27 Dec 2018) A Beginner's Guide to Manga. *New York Public Library*. https://www.nypl.org/blog/2018/12/27/beginners-guide-manga\n"
   ]
  },
  {
   "cell_type": "markdown",
   "metadata": {},
   "source": [
    "# Hypothesis\n"
   ]
  },
  {
   "cell_type": "markdown",
   "metadata": {},
   "source": [
    "We believe that there is a strong relationship between factors like publisher, targeted demographic, and the existence of an anime adaptation on a manga’s popularity. More specifically, we believe that characteristics like unique publishing companies for manga books, differences in attachment between targeted demographics, and the ability of anime adaptations to capture new audiences will significantly influence popularity. "
   ]
  },
  {
   "cell_type": "markdown",
   "metadata": {},
   "source": [
    "# Data"
   ]
  },
  {
   "cell_type": "markdown",
   "metadata": {},
   "source": [
    "An ideal dataset for our research question would involve many variables quantifying aspects of manga/anime and its audience. The variables that we would measure in an ideal dataset would be author, publisher, demographic, genre, anime adaptation, length of manga, if it's currently being published, and revenue/sales. The revenue/sales of the manga would be our metric for success and the rest of the variables would show why one was successful. The data would ideally be measured on international manga and anime fans, with fans who purely read manga, purely watch anime, or do both. Our time period in analysis is the 1980s to the present day. This is because this is when manga’s readership started to popularize in the U.S., culminating in Japanese pop culture having a significant impact in the mid-to-late 1990s through anime, manga, and Japanese video games. This time period gives us a historical analysis of Japanese manga popularity, specifically a better understanding of how its pop culture became globalized. With datasets including this information, we believe a proper data analysis of manga and the factors influencing its popularity could be attained."
   ]
  },
  {
   "cell_type": "markdown",
   "metadata": {},
   "source": [
    "# Ethics & Privacy"
   ]
  },
  {
   "cell_type": "markdown",
   "metadata": {},
   "source": [
    "Regarding the project's ethics and privacy, we will guarantee that our approach respects these issues while remaining lawful and fair. This includes addressing any ethical and privacy concerns that may develop throughout the course of our project. The data that we've suggested can carry some inherent biases in which the selection of specific variables can potentially lead us to overlook certain factors while placing excessive emphasis on others. For instance, by focusing mainly on online popularity metrics and sales figure, we might undervalue genres that are less prevalent online but have significant cultural importance and dedicated readerships in specific regions. Additionally, there could be a geographical bias, as the data might be sourced predominantly from a local US database, potentially overlooking the perspectives of other countries in an international database that represent the popularity of anime and manga in non-English speaking countries. In terms of privacy, the data we proposed is publicly available. There are no human subjects involved which will not violate privacy standards of leaking personal information about individuals. Regarding the terms of use, there are no current issues. However, we will carefully review and comply with the data providers’ guidelines. This includes observing restrictions on data usage, adhering to intellectual property rights, and ensuring our use aligns with specified limitations.  \n",
    "\n",
    "To detect biases, our approach involves generalizing the data and creating subgroups for a more detailed exploration of data. We can actively assess the effects of cultural and regional bias, particularly when comparing the popularity of manga in different countries. Additionally, we can consider the option of building a more diverse dataset that utilizes both international and local datasets, if possible, or alternatively, acknowledge and narrow the scope of generalizations based on situational contexts. We can also incorporate new variables that can influence popularity and adjust the weight of each variable to enhance the accuracy and fairness of our analysis. Concerning potential issues related to data privacy and equitable impact in our topic area, we recognize the risk of influencing the popularity of specific manga through our research, inadvertently popularizing certain mangas or discouraging others. However, given that all the data used is publicly available, data privacy concerns are minimal.\n"
   ]
  },
  {
   "cell_type": "markdown",
   "metadata": {},
   "source": [
    "# Team Expectations "
   ]
  },
  {
   "cell_type": "markdown",
   "metadata": {},
   "source": [
    "* Maintain open and regular communication to keep all team members informed and engaged.\n",
    "* Take responsibility for your contributions, acknowledging both successes and areas for improvement.\n",
    "* Work collaboratively, offering and seeking support to leverage the team's collective strengths.\n",
    "* Acknowledge the importance of personal time, promoting flexibility to enhance well-being and productivity.\n",
    "* Prioritize transparency, especially during busy periods, to manage expectations and maintain trust."
   ]
  },
  {
   "cell_type": "markdown",
   "metadata": {},
   "source": [
    "# Project Timeline Proposal"
   ]
  },
  {
   "cell_type": "markdown",
   "metadata": {},
   "source": [
    "| Meeting Date  | Meeting Time| Completed Before Meeting  | Discuss at Meeting |\n",
    "|---|---|---|---|\n",
    "| 2/6  |  1 PM |  Do our own research on potential topic | Find and discuss topics; Choose a topic; Start looking at related datasets; Assign group members to complete each section of the project proposal | \n",
    "| 2/20  | 1 PM  | Find datasets correponding to the different time periods we want to analyze  | Discuss which datasets we want to use and how we will compile our data; Select datasets that we want to use and assign each person to think about how we will clean the data   |\n",
    "| 2/24  | 4 PM  | Think about what datasets are compatible | Review/Edit wrangling/EDA (and review for submission); Discuss Analysis Plan  |\n",
    "| 2/25  | Before 11:59 PM  | NA | Turn in Checkpoint #1: Data |\n",
    "| 2/27  | 1 PM  | Think about analysis details and what we need to complete | Discuss analysis; Assign subtasks for data analysis; Complete project check-in |\n",
    "| 3/5   | 1 PM   | Review analysis and draft conclusion points | Discuss/edit full project; Assign remaining necessary tasks |\n",
    "| 3/10  | Before 11:59 PM  | NA | Turn in Checkpoint #2: EDA |\n",
    "| 3/12  | 1 PM   | Continue to work on final tasks | Review project; Discuss points of improvement |\n",
    "| 3/20  | Before 11:59 PM  | NA | Turn in Final Project & Group Project Surveys |"
   ]
  },
  {
   "cell_type": "code",
   "execution_count": null,
   "metadata": {},
   "outputs": [],
   "source": []
  }
 ],
 "metadata": {
  "kernelspec": {
   "display_name": "Python 3 (ipykernel)",
   "language": "python",
   "name": "python3"
  },
  "language_info": {
   "codemirror_mode": {
    "name": "ipython",
    "version": 3
   },
   "file_extension": ".py",
   "mimetype": "text/x-python",
   "name": "python",
   "nbconvert_exporter": "python",
   "pygments_lexer": "ipython3",
   "version": "3.9.5"
  }
 },
 "nbformat": 4,
 "nbformat_minor": 2
}
