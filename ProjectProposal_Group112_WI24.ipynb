{
 "cells": [
  {
   "cell_type": "markdown",
   "metadata": {},
   "source": [
    "# COGS 108 - Project Proposal"
   ]
  },
  {
   "cell_type": "markdown",
   "metadata": {},
   "source": [
    "# Names\n",
    "\n",
    "- Sandra Gomez\n",
    "- Aydin Tabatabai\n",
    "- Brandon Ng\n",
    "- Sophia Yu\n",
    "- Aarya Patel"
   ]
  },
  {
   "cell_type": "markdown",
   "metadata": {},
   "source": [
    "# Research Question"
   ]
  },
  {
   "cell_type": "markdown",
   "metadata": {},
   "source": [
    "What are the primary factors affecting the popularity of Japanese animation (anime)? How significant are factors like season or year of release, format (TV, Movie, OVA), number of episodes, genre, average score, source, production studios, or ranking, and which among them holds the greatest significance?"
   ]
  },
  {
   "cell_type": "markdown",
   "metadata": {},
   "source": [
    "## Background and Prior Work"
   ]
  },
  {
   "cell_type": "markdown",
   "metadata": {},
   "source": [
    "Anime became popular in the 80s internationally but it wasn't until the 90s and early 2000s that it gained traction in the United States with shows like Pokemon, Dragon Ball and Sailor Moon being aired on television.<a name=\"cite_ref-1\"></a>[<sup>1</sup>](#cite_note-1)  Now platforms like Netflix, Crunchyroll and other streaming services make it easier for fans of the medium to come together. On this topic, we know that One Piece was the best-selling manga series from 2008 until 2018.<a name=\"cite_ref-2\"></a>[<sup>2</sup>](#cite_note-2) We then wondered if the One Piece anime was one of the most watched anime in the recent decade. Was it possible that its 1,000 chapter manga and 1094 episode adaptation (and counting!) allured audiences? Or was its length an outlier among other successful animes? This made us want to specifically investigate what are the specific trends between the most popular anime today. Does it matter how old the anime is, how long or if it's ongoing for it to have a high ranking among popularity? \n",
    "\n",
    "Themarysue.com investigates how anime became more accessible to foreign audiences through the internet.<a name=\"cite_ref-3\"></a>[<sup>3</sup>](#cite_note-3) This could be helpful to our project to see if popularity is affected by the year of release. There could be an argument that the internet is a massive factor in the ever-increasing sales. The article states that at first when the internet was first developing people would pirate content (although it was not easy) which eventually led the Japanese production companies to provide their animations for simulcasting. Now international audiences can keep up with local audiences which could increase a sense of community and the number of loyal fans. Thus popularity would be affected. \n",
    "  \n",
    "Themedialab.me investigates how streaming services have changed video media popularity by addressing seven key factors behind Netflix's popularity as a streaming service.<a name=\"cite_ref-4\"></a>[<sup>4</sup>](#cite_note-4) It would beat out even using television broadcasting for views. It concluded that being flexible, personalized, containing variety, and using technology to its advantage allowed it to become successful. Another website, cosmopolitan.com, tracked the most-watched Netflix series of all time in February 2024. <a name=\"cite_ref-5\"></a>[<sup>5</sup>](#cite_note-5) And it is true, every show mentioned (Wednesday, Stranger Things, Dahmer – Monster, Bridgerton, etc.) had similar genres (supernatural, horror, historical) but were all targeting very different demographics. This is different to anime where the demographics also act like a genre which means that we can generalize some of the themes in the anime as we have not read every single item in the data we collected. However, we believe that there is still uniqueness within these animes and so if we find that a genre trends more than the other we can assume that it is trending because there are a lot of unique storylines. Just like how though Wednesday and Stranger Things both have supernatural elements, they are very different experiences. This would show that as anime streaming is more flexible and personal to the viewer’s interests then it is more accurate to what fans actually enjoy. Not just what companies thought would do well with international audiences.  \n",
    "\n",
    "1. <a name=\"cite_note-1\"></a> [^](#cite_ref-1) D'souza, D. (05 Jun 2023) How did Anime go from Nerdy Cringey to mainstream Pop-Culture?. *LinkedIn*. https://www.linkedin.com/pulse/how-did-anime-go-from-nerdy-cringey-mainstream-deepa-d-souza/ \n",
    "2. <a name=\"cite_note-2\"></a> [^](#cite_ref-2) Loo, E. (04 Dec 2009) 2009's Top-Selling Manga in Japan, by Series. *Anime News Network*. https://www.animenewsnetwork.com/news/2009-12-04/2009-top-selling-manga-in-japan-by-series \n",
    "3. <a name=\"cite_note-3\"></a> [^](#cite_ref-3) Polo, S. (04 Jun 2014) Technology and Anime, a Beautiful Love Story. *The Mary Sue*. https://www.themarysue.com/technology-anime-history/ \n",
    "4. <a name=\"cite_note-4\"></a> [^](#cite_ref-4) 7 Key Factors Behind The Success Story Of Netflix. *The Media lab*. https://www.themedialab.me/7-key-factors-behind-success-story-netflix/ \n",
    "5. <a name=\"cite_note-5\"></a> [^](#cite_ref-5) Venn, L. (08 Feb 2024) Netflix: The most watched TV series' of all time. *Cosmopolitan*. https://www.cosmopolitan.com/uk/entertainment/g42176068/netflix-most-watched/ \n"
   ]
  },
  {
   "cell_type": "markdown",
   "metadata": {},
   "source": [
    "# Hypothesis\n"
   ]
  },
  {
   "cell_type": "markdown",
   "metadata": {},
   "source": [
    "We hypothesize that genre and average rating for an anime would have the highest correlation when determining the popularity of an anime. More specifically we believe that action and adventure would be the most popular genre. Certain genres may be targeted more effectively, leading to increased popularity, while others naturally appeal to a broader audience, contributing to heightened popularity. Additionally, the average rating contributes significantly to viewer satisfaction, attracting more viewers and ultimately contributing to the anime's popularity."
   ]
  },
  {
   "cell_type": "markdown",
   "metadata": {},
   "source": [
    "# Data"
   ]
  },
  {
   "cell_type": "markdown",
   "metadata": {},
   "source": [
    "An ideal dataset for our research question would involve multiple variables that quantify various aspects of anime and its audience. In an ideal dataset, we would measure variables such as author, publisher, demographic, genre, anime length, current publication status, source, ranking, and popularity. For example, the anime “Naruto”: its author is Masashi Kishimoto, published by Studio Pierrot, with a start date in October 2002 and end date in February 2007. The anime falls under the fall season, categorized as a Ninja, Shounen tag, presented in a TV format, and concluded with 220 episodes.The genres include action, adventure, and comedy, with an average score of 79, a ranking of 280, and a popularity rating of 519,209. The anime’s popularity and ranking would serve as out metric of success, or dependent variable, while the other variables act as independent variables.\n",
    "\n",
    "Our timeframe for our analysis spans from the 1980s to the present day. We chose the 1980s because the 1980s marked the period when anime began gaining popularity in the U.S, culminating in the significant impact of Japanese pop culture in the mid-to-late 1990s through manga, and Japanese video games. Analyzing data from this timeframe enables a historical analysis of Japanese anime popularity, offering a deeper understanding of how its cultural influence became globalized. With datasets containing this information, we anticipate conducting a thorough data analysis to explore the various factors influencing anime popularity."
   ]
  },
  {
   "cell_type": "markdown",
   "metadata": {},
   "source": [
    "# Ethics & Privacy"
   ]
  },
  {
   "cell_type": "markdown",
   "metadata": {},
   "source": [
    "Regarding the project's ethics and privacy, we will guarantee that our approach respects these issues while remaining lawful and fair. This includes addressing any ethical and privacy concerns that may develop throughout the course of our project. The data that we've suggested can carry some inherent biases in which the selection of specific variables can potentially lead us to overlook certain factors while placing excessive emphasis on others. For instance, by focusing mainly on online popularity metrics and sales figure, we might undervalue genres that are less prevalent online but have significant cultural importance and dedicated readerships in specific regions. Additionally, there could be a geographical bias, as the data might be sourced predominantly from a local US database, potentially overlooking the perspectives of other countries in an international database that represent the popularity of anime and manga in non-English speaking countries. In terms of privacy, the data we proposed is publicly available. There are no human subjects involved which will not violate privacy standards of leaking personal information about individuals. Regarding the terms of use, there are no current issues. However, we will carefully review and comply with the data providers’ guidelines. This includes observing restrictions on data usage, adhering to intellectual property rights, and ensuring our use aligns with specified limitations.  \n",
    "\n",
    "To detect biases, our approach involves generalizing the data and creating subgroups for a more detailed exploration of data. We can actively assess the effects of cultural and regional bias, particularly when comparing the popularity of manga in different countries. Additionally, we can consider the option of building a more diverse dataset that utilizes both international and local datasets, if possible, or alternatively, acknowledge and narrow the scope of generalizations based on situational contexts. We can also incorporate new variables that can influence popularity and adjust the weight of each variable to enhance the accuracy and fairness of our analysis. Concerning potential issues related to data privacy and equitable impact in our topic area, we recognize the risk of influencing the popularity of specific manga through our research, inadvertently popularizing certain mangas or discouraging others. However, given that all the data used is publicly available, data privacy concerns are minimal.\n"
   ]
  },
  {
   "cell_type": "markdown",
   "metadata": {},
   "source": [
    "# Team Expectations "
   ]
  },
  {
   "cell_type": "markdown",
   "metadata": {},
   "source": [
    "* *Maintain open and regular communication to keep all team members informed and engaged.*\n",
    "* *Take responsibility for your contributions, acknowledging both successes and areas for improvement.*\n",
    "* *Work collaboratively, offering and seeking support to leverage the team's collective strengths.*\n",
    "* *Acknowledge the importance of personal time, promoting flexibility to enhance well-being and productivity.*\n",
    "* *Prioritize transparency, especially during busy periods, to manage expectations and maintain trust.*\n",
    "* *Cultivate a collaborative and supportive team environment, prioritizing reliability, accountability, respect, openness to feedback, and a willingness to learn from mistakes*"
   ]
  },
  {
   "cell_type": "markdown",
   "metadata": {},
   "source": [
    "# Project Timeline Proposal"
   ]
  },
  {
   "cell_type": "markdown",
   "metadata": {},
   "source": [
    "| Meeting Date  | Meeting Time| Completed Before Meeting  | Discuss at Meeting |\n",
    "|---|---|---|---|\n",
    "| 2/6  |  1 PM |  Do our own research on potential topic | Find and discuss topics; Choose a topic; Start looking at related datasets; Assign group members to complete each section of the project proposal | \n",
    "| 2/20  | 1 PM  | Find datasets correponding to the different time periods we want to analyze  | Discuss which datasets we want to use and how we will compile our data; Select datasets that we want to use and assign each person to think about how we will clean the data   |\n",
    "| 2/24  | 4 PM  | Think about what datasets are compatible | Review/Edit wrangling/EDA (and review for submission); Discuss Analysis Plan  |\n",
    "| 2/25  | Before 11:59 PM  | Review project checkpoint | Turn in Checkpoint #1: Data |\n",
    "| 2/27  | 1 PM  | Think about analysis details and what we need to complete | Discuss analysis; Assign subtasks for data analysis; Complete project check-in |\n",
    "| 3/5   | 1 PM   | Review analysis and draft conclusion points | Discuss/edit full project; Assign remaining necessary tasks |\n",
    "| 3/10  | Before 11:59 PM  | Review project EDA | Turn in Checkpoint #2: EDA |\n",
    "| 3/12  | 1 PM   | Continue to work on final tasks | Review project; Discuss points of improvement |\n",
    "| 3/20  | Before 11:59 PM  | Finalize project | Turn in Final Project & Group Project Surveys |"
   ]
  },
  {
   "cell_type": "code",
   "execution_count": null,
   "metadata": {},
   "outputs": [],
   "source": []
  }
 ],
 "metadata": {
  "kernelspec": {
   "display_name": "Python 3 (ipykernel)",
   "language": "python",
   "name": "python3"
  },
  "language_info": {
   "codemirror_mode": {
    "name": "ipython",
    "version": 3
   },
   "file_extension": ".py",
   "mimetype": "text/x-python",
   "name": "python",
   "nbconvert_exporter": "python",
   "pygments_lexer": "ipython3",
   "version": "3.9.5"
  }
 },
 "nbformat": 4,
 "nbformat_minor": 2
}
