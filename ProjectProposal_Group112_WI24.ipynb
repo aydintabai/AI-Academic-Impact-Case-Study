{
 "cells": [
  {
   "cell_type": "markdown",
   "metadata": {},
   "source": [
    "# COGS 108 - Project Proposal"
   ]
  },
  {
   "cell_type": "markdown",
   "metadata": {},
   "source": [
    "# Names\n",
    "\n",
    "- Sandra Gomez\n",
    "- Aydin Tabatabai\n",
    "- Brandon Ng\n",
    "- Sophia Yu\n",
    "- Aarya Patel"
   ]
  },
  {
   "cell_type": "markdown",
   "metadata": {},
   "source": [
    "# Research Question"
   ]
  },
  {
   "cell_type": "markdown",
   "metadata": {},
   "source": [
    "How is a Japanese manga’s popularity affected by the author, publisher, audience demographic, genre, anime adaptation, length of manga, and whether it’s done publishing or still running? Furthermore, among these factors, which one has the greatest impact on a manga’s popularity?"
   ]
  },
  {
   "cell_type": "markdown",
   "metadata": {},
   "source": [
    "## Background and Prior Work"
   ]
  },
  {
   "cell_type": "markdown",
   "metadata": {},
   "source": [
    "Since the 70s in the United States, there has been an increase in sales of Japanese comics (manga). It continues to increase as American comics struggle to keep up with sales. One reason is that it is easier to keep pace with storylines in manga than in American comics <a name=\"cite_ref-1\"></a> [<sup>1</sup>](#cite_note-1). American comics tend to have the same characters branched into similar plots over the years, an example being Spider-Man or Iron Man. On the other hand, manga has a variety of storylines that make any series easy to follow. There are many diverse characters and hidden gem stories to explore. But was manga always so popular abroad? According to Rutgers University, manga did not take off internationally until the 80s as new readers got over the different reading format because its fantastical stories made readers fall in love. Since then, there has been a nonstop demand for these comics <a name=\"cite_ref-2\"></a> [<sup>2</sup>](#cite_note-2). On this topic, we know that One Piece was the best-selling manga series from 2008 until 2018 <a name=\"cite_ref-3\"></a> [<sup>3</sup>](#cite_note-3). This fact made us wonder if there are specific trends between the most popular manga in each decade since the 80s. Are there common factors that make them produce the most sales internationally? If so, what are they?\n",
    "\n",
    "A website that answers a similar question was themedialab.me <a name=\"cite_ref-4\"></a> [<sup>4</sup>](#cite_note-4) which addresses seven key factors behind Netflix's popularity as a streaming service. It concluded that being flexible, personalized, containing variety, and using technology to its advantage allowed it to become successful. Another website, digitalspy.com <a name=\"cite_ref-5\"></a> [<sup>5</sup>](#cite_note-5), tracked the most-watched Netflix series of all time in February 2024. If each view were a sale, the factors that go into popularizing Netflix shows must be similar to those contributing to sales in the best-selling manga. First, the originality of manga comes from its variety of genres, just like in other forms of media. The New York Public Library explains some of the various genres that there are within manga including shonen, shojo, seinen, and josei <a name=\"cite_ref-6\"></a> [<sup>6</sup>](#cite_note-6).  We can generalize some of the themes in the manga as we have not read every single item in the data we collected. This shows that manga can be flexible and personal to the reader's interests. Second, we realized the internet was important in bringing manga to pop culture. Thus, we initially wanted to investigate social media posts on manga to find keywords contributing to its popularity. \n",
    "\n",
    "Themarysue.com <a name=\"cite_ref-7\"></a> [<sup>7</sup>](#cite_note-7) investigates how anime became more accessible to foreign audiences through the internet. This could be helpful to our project. If we see similar trends between this article's loose timeline with the sales in manga, there could be an argument that the internet is a massive factor in the ever-increasing sales. The article states that at first when the internet was first developing people would pirate content (although it was not easy) which eventually led the Japanese production companies to provide their animations for simulcasting. Now international audiences can keep up with local audiences which could increase a sense of community and the number of loyal fans.\n",
    "\n"
  
    "1. <a name=\"cite_note-1\"></a> [^](#cite_ref-1) Stafford, M. (13 Jun 2023) Why Comic Book Sales are Actually Falling. *Medium*. https://mattstafford-4818.medium.com/why-comic-book-sales-are-actually-falling-d9f4e998a7a5 \n",
    "2. <a name=\"cite_note-2\"></a> [^](#cite_ref-2) Medina, C. (5 Dec 2019) Why Are Manga Outselling Superhero Comics?. *Rutgers Today*. https://www.rutgers.edu/news/why-are-manga-outselling-superhero-comics#:~:text=Manga%20are%20Japanese%20comics%20%E2%80%93%20and,serious%20readership%20in%20the%201980s.\n",
    "3. <a name=\"cite_note-3\"></a> [^](#cite_ref-3) Loo, E. (4 Dec 2009) 2009's Top-Selling Manga in Japan, by Series. *Anime News Network*. https://www.animenewsnetwork.com/news/2009-12-04/2009-top-selling-manga-in-japan-by-series \n",
    "4. <a name=\"cite_note-4\"></a> [^](#cite_ref-4) (19 Dec 2024) 7 Key Factors Behind The Success Story Of Netflix. *The Media Lab*. https://www.themedialab.me/7-key-factors-behind-success-story-netflix/\n",
    "5. <a name=\"cite_note-5\"></a> [^](#cite_ref-5) (12 Feb 2024) The Most-watched Netflix Movies of All Time. *Digital Spy*. https://www.digitalspy.com/movies/g45494015/most-watched-netflix-movies/ \n",
    "6. <a name=\"cite_note-6\"></a> [^](#cite_ref-6) Pagan, A. (27 Dec 2018) A Beginner's Guide to Manga. *New York Public Library*. https://www.nypl.org/blog/2018/12/27/beginners-guide-manga \n",
    "7. <a name=\"cite_note-7\"></a> [^](#cite_ref-7) Polo, S. (4 Jun 2014) Technology and Anime, a Beautiful Love Story. *The Mary Sue*. https://www.themarysue.com/technology-anime-history/ \n"
   ]
  },
  {
   "cell_type": "markdown",
   "metadata": {},
   "source": [
    "# Hypothesis\n"
   ]
  },
  {
   "cell_type": "markdown",
   "metadata": {},
   "source": [
    "We believe that there is a strong relationship between factors like publisher, targeted demographic, and the existence of an anime adaptation on a manga’s popularity. More specifically, we believe that characteristics like unique publishing companies for manga books, differences in attachment between targeted demographics, and the ability of anime adaptations to capture new audiences will significantly influence popularity. "
   ]
  },
  {
   "cell_type": "markdown",
   "metadata": {},
   "source": [
    "# Data"
   ]
  },
  {
   "cell_type": "markdown",
   "metadata": {},
   "source": [
    "An ideal dataset for our research question would involve many variables quantifying aspects of manga/anime and its audience. The variables that we would measure in an ideal dataset would be author, publisher, demographic, genre, anime adaptation, length of manga, if it's currently being published, and revenue/sales. The revenue/sales of the manga would be our metric for success and the rest of the variables would show why one was successful. The data would ideally be measured on international manga and anime fans, with fans who purely read manga, purely watch anime, or do both. Our time period in analysis is the 1980s to the present day. This is because this is when manga’s readership started to popularize in the U.S., culminating in Japanese pop culture having a significant impact in the mid-to-late 1990s through anime, manga, and Japanese video games. This time period gives us a historical analysis of Japanese manga popularity, specifically a better understanding of how its pop culture became globalized. With datasets including this information, we believe a proper data analysis of manga and the factors influencing its popularity could be attained."
   ]
  },
  {
   "cell_type": "markdown",
   "metadata": {},
   "source": [
    "# Ethics & Privacy"
   ]
  },
  {
   "cell_type": "markdown",
   "metadata": {},
   "source": [
    "Regarding the project's ethics and privacy, we will guarantee that our approach respects these issues while remaining lawful and fair. This includes addressing any ethical and privacy concerns that may develop throughout the course of our project. The data that we've suggested can carry some inherent biases in which the selection of specific variables can potentially lead us to overlook certain factors while placing excessive emphasis on others. For instance, by focusing mainly on online popularity metrics and sales figure, we might undervalue genres that are less prevalent online but have significant cultural importance and dedicated readerships in specific regions. Additionally, there could be a geographical bias, as the data might be sourced predominantly from a local US database, potentially overlooking the perspectives of other countries in an international database that represent the popularity of anime and manga in non-English speaking countries. In terms of privacy, the data we proposed is publicly available. There are no human subjects involved which will not violate privacy standards of leaking personal information about individuals. Regarding the terms of use, there are no current issues. However, we will carefully review and comply with the data providers’ guidelines. This includes observing restrictions on data usage, adhering to intellectual property rights, and ensuring our use aligns with specified limitations.  \n",
    "\n",
    "To detect biases, our approach involves generalizing the data and creating subgroups for a more detailed exploration of data. We can actively assess the effects of cultural and regional bias, particularly when comparing the popularity of manga in different countries. Additionally, we can consider the option of building a more diverse dataset that utilizes both international and local datasets, if possible, or alternatively, acknowledge and narrow the scope of generalizations based on situational contexts. We can also incorporate new variables that can influence popularity and adjust the weight of each variable to enhance the accuracy and fairness of our analysis. Concerning potential issues related to data privacy and equitable impact in our topic area, we recognize the risk of influencing the popularity of specific manga through our research, inadvertently popularizing certain mangas or discouraging others. However, given that all the data used is publicly available, data privacy concerns are minimal.\n"
   ]
  },
  {
   "cell_type": "markdown",
   "metadata": {},
   "source": [
    "# Team Expectations "
   ]
  },
  {
   "cell_type": "markdown",
   "metadata": {},
   "source": [
    "* Communicate effectively and be transparent\n",
    "* Hold yourself accountable for the work you do"
   ]
  },
  {
   "cell_type": "markdown",
   "metadata": {},
   "source": [
    "# Project Timeline Proposal"
   ]
  },
  {
   "cell_type": "markdown",
   "metadata": {},
   "source": [
    "| Meeting Date  | Meeting Time| Completed Before Meeting  | Discuss at Meeting |\n",
    "|---|---|---|---|\n",
    "| 1/20  |  1 PM | Read & Think about COGS 108 expectations; brainstorm topics/questions  | Determine best form of communication; Discuss and decide on final project topic; discuss hypothesis; begin background research | \n",
    "| 1/26  |  10 AM |  Do background research on topic | Discuss ideal dataset(s) and ethics; draft project proposal | \n",
    "| 2/1  | 10 AM  | Edit, finalize, and submit proposal; Search for datasets  | Discuss Wrangling and possible analytical approaches; Assign group members to lead each specific part   |\n",
    "| 2/14  | 6 PM  | Import & Wrangle Data (Ant Man); EDA (Hulk) | Review/Edit wrangling/EDA; Discuss Analysis Plan   |\n",
    "| 2/23  | 12 PM  | Finalize wrangling/EDA; Begin Analysis (Iron Man; Thor) | Discuss/edit Analysis; Complete project check-in |\n",
    "| 3/13  | 12 PM  | Complete analysis; Draft results/conclusion/discussion (Wasp)| Discuss/edit full project |\n",
    "| 3/20  | Before 11:59 PM  | NA | Turn in Final Project & Group Project Surveys |"
   ]
  }
 ],
 "metadata": {
  "kernelspec": {
   "display_name": "Python 3 (ipykernel)",
   "language": "python",
   "name": "python3"
  },
  "language_info": {
   "codemirror_mode": {
    "name": "ipython",
    "version": 3
   },
   "file_extension": ".py",
   "mimetype": "text/x-python",
   "name": "python",
   "nbconvert_exporter": "python",
   "pygments_lexer": "ipython3",
   "version": "3.9.5"
  }
 },
 "nbformat": 4,
 "nbformat_minor": 2
}
