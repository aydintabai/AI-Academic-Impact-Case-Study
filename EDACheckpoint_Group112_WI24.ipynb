{
 "cells": [
  {
   "cell_type": "markdown",
   "id": "cd832d71",
   "metadata": {},
   "source": [
    "**If you lost points on the last checkpoint you can get them back by responding to TA/IA feedback**  \n",
    "\n",
    "Update/change the relevant sections where you lost those points, make sure you respond on GitHub Issues to your TA/IA to call their attention to the changes you made here.\n",
    "\n",
    "Please update your Timeline... no battle plan survives contact with the enemy, so make sure we understand how your plans have changed."
   ]
  },
  {
   "cell_type": "markdown",
   "id": "bb0803f3",
   "metadata": {},
   "source": [
    "# COGS 108 - EDA Checkpoint"
   ]
  },
  {
   "cell_type": "markdown",
   "id": "0cc6e034",
   "metadata": {},
   "source": [
    "# Names\n",
    "\n",
    "- Brandon Ng\n",
    "- Sophia Yu\n",
    "- Sandra Gomez\n",
    "- Aydin Tabatabai\n",
    "- Aarya Patel"
   ]
  },
  {
   "cell_type": "markdown",
   "id": "061f595b",
   "metadata": {},
   "source": [
    "# Research Question"
   ]
  },
  {
   "cell_type": "markdown",
   "id": "6db0ee35",
   "metadata": {},
   "source": [
    "How has the introduction of AI applications such as ChatGPT affected UCSD students’ grades? More specifically, how has ChatGPT affected grades by schools, divisions, and departments?"
   ]
  },
  {
   "cell_type": "markdown",
   "id": "f37bb0ec",
   "metadata": {},
   "source": [
    "## Background and Prior Work"
   ]
  },
  {
   "cell_type": "markdown",
   "id": "54887fdd",
   "metadata": {},
   "source": [
    "In recent years, artificial intelligence has gradually broadened its scope with the emergence of powerful generative language models such as OpenAI’s ChatGPT. Since its launch in November 2022, ChatGPT represented a pivotal breakthrough in natural language processing, providing users the ability to engage in human-like conversations with AI. This innovation has revolutionized many industries, optimizing workflows and providing invaluable assistance to professionals. Furthermore, ChatGPT’s introduction has impacted individuals, providing users with a tool to not only help them throughout their daily life but also assist them through their academic endeavors. \n",
    "\n",
    "However, as ChatGPT’s presence grew, debates arose regarding how AI impacts learning among students. After a year since it was launched, ChatGPT was already being used by 30% of college students<a name=\"cite_ref-1\"></a>[<sup>1</sup>](#cite_note-1), and this number continues to increase today. Many professors and even students have expressed issues regarding the ethical implementation of AI in education, highlighting concerns about its potential to enable academic dishonesty and break integrity.\n",
    "\n",
    "In response, educational institutions have begun to address these issues. For example, UCSD has proactively engaged with this problem by implementing policies and guidelines concerning the use of AI tools like ChatGPT in academic settings. The school strongly encourages students to not use ChatGPT, unless approved by their professor or using it to aid brainstorming. <a name=\"cite_ref-2\"></a>[<sup>2</sup>](#cite_note-2) In addition, they have heavily emphasized the consequences of using ChatGPT, including being suspended and failing the class.\n",
    "\n",
    "Beyond policies, there are also other tools that have emerged to combat academic integrity violations involving ChatGPT, such as GPTZero—a tool created to identify whether a piece of text is written by AI. Especially for professors who are worried about plagiarized essays, GPTZero serves as a new tool to address their concerns. <a name=\"cite_ref-3\"></a>[<sup>3</sup>](#cite_note-3) This creation has even inspired the developer of ChatGPT, OpenAI, to take on this challenge to prevent AI plagiarism and other wrong doings.\n",
    "\n",
    "This appearance of AI presents a unique opportunity to explore the impact of ChatGPT and similar tools on academic integrity, student grades, and the broader educational landscape. Ever since ChatGPT was released, there have been numerous studies that delve into the impact and ethics of artificial intelligence in education. For example, in a study conducted by Scientific American, the researchers explored how ChatGPT can assist in academic tasks, helping students achieve notable grades. <a name=\"cite_ref-4\"></a>[<sup>4</sup>](#cite_note-4) On the other hand, another study focused on analyzing the impact of AI chatbots on high-education institutions, raising concerns about its negative impact on human-based interaction and learning. <a name=\"cite_ref-5\"></a>[<sup>5</sup>](#cite_note-5)\n",
    "\n",
    "This appearance of AI presents a unique opportunity to explore the impact of ChatGPT on student grades, while also considering the wider influence of technology on society. It encourages us to investigate how GPT and similar tools may transform industries beyond education, from healthcare and science to business and creative arts, potentially reshaping the global economic and social landscape. \n",
    "\n",
    "1. <a name=\"cite_note-1\"></a> [^](#cite_ref-1) (05 Sep 2023) ONE-THIRD OF COLLEGE STUDENTS USED CHATGPT FOR SCHOOLWORK DURING THE 2022-23 ACADEMIC YEAR . *Intelligent*. https://www.intelligent.com/one-third-of-college-students-used-chatgpt-for-schoolwork-during-the-2022-23-academic-year/#:~:text=30%25%20of%20college%20students%20used,the%20tool%20to%20another%20student \n",
    "2. <a name=\"cite_note-2\"></a> [^](#cite_ref-2) Q: Is it cheating to use ChatGPT?. *UCSanDiego Academic Integrity*. https://academicintegrity.ucsd.edu/excel-integrity/ai-in-education.html\n",
    "3. <a name=\"cite_note-3\"></a> [^](#cite_ref-3) Bowman, E. (09 Jan 2023) A college student created an app that can tell whether AI wrote an essay. *NPR*. https://www.npr.org/2023/01/09/1147549845/gptzero-ai-chatgpt-edward-tian-plagiarism\n",
    "4. <a name=\"cite_note-4\"></a> [^](#cite_ref-4) Leffer, L. (25 Aug 2023) ChatGPT Can Get Good Grades. What Should Educators Do about It?. *Scientific American*. https://www.scientificamerican.com/article/chatgpt-can-get-good-grades-what-should-educators-do-about-it/\n",
    "5. <a name=\"cite_note-5\"></a> [^](#cite_ref-5) Dempere, J., et al. (08 Sep 2023) The impact of ChatGPT on higher education. *Frontiers*. https://www.frontiersin.org/articles/10.3389/feduc.2023.1206936/full\n"
   ]
  },
  {
   "cell_type": "markdown",
   "id": "35755970",
   "metadata": {},
   "source": [
    "# Hypothesis\n"
   ]
  },
  {
   "cell_type": "markdown",
   "id": "18995808",
   "metadata": {},
   "source": [
    "Despite concerns about ChatGPT's accuracy and its potential impact on student motivation, we believe that grades have improved since the introduction of ChatGPT. Its efficiency and versatile capabilities, ranging from homework assistance to coding, have played a significant role in fostering an academic environment where achieving high grades is easier and more attainable."
   ]
  },
  {
   "cell_type": "markdown",
   "id": "30858667",
   "metadata": {},
   "source": [
    "# Data"
   ]
  },
  {
   "cell_type": "markdown",
   "id": "e25bfecb",
   "metadata": {},
   "source": [
    "## Data overview\n",
    "\n",
    "- Dataset #1\n",
    "  - Dataset Name: UCSD CAPES Data\n",
    "  - Link to the dataset: https://www.kaggle.com/datasets/sanbornpnguyen/ucsdcapes?utm_medium=social&utm_campaign=kaggle-dataset-share\n",
    "  - Number of observations: 63363\n",
    "  - Number of variables: 11\n",
    "\n",
    "UCSD CAPES Data is a Kaggle dataset that contains UCSD's course evaluation data from 2007 to 2023. The dataset contains both categorical variables such as instructor, course title, and quarter and numerical observations like study hours per week and average grade expected/received. In the UCSD CAPES dataset, we will be using the following variables: instructor name, course number and title, quarter the course was taught, number of hours spent studying, and average grade received in the class. \n",
    "\n",
    "  - Instructor (object): name of the instructor\n",
    "  - Course (object): code and title of the course\n",
    "  - Quarter (object): quarter that the course was taught\n",
    "  - Study Hours per Week (float): number of hours spent studying for the course\n",
    "  - Average Grade Received (object): average grade received in the course, including letter grade and GPA\n",
    "  \n",
    "Some limitations in our dataset include variables regarding UCSD [schools](https://evc.ucsd.edu/about/Divisions%20and%20Schools.html), [departments](https://ucsd.edu/academics/academics-detail.html), and course level. Therefore we will be manually incorporate that data ourselves.\n",
    "\n",
    "To wrangle and preprocess the dataset, tasks may involve standardizing data formats, ensuring consistency in naming conventions, and handling missing values. Furthermore, the data will need to be sorted and categorized based on which school, department, or division it falls under.\n"
   ]
  },
  {
   "cell_type": "markdown",
   "id": "05daaeed",
   "metadata": {},
   "source": [
    "## CAPES Dataset"
   ]
  },
  {
   "cell_type": "code",
   "execution_count": 1,
   "id": "e470d65b",
   "metadata": {},
   "outputs": [],
   "source": [
    "import pandas as pd\n",
    "import numpy as np\n",
    "import re ### Catching letters in course numbers\n",
    "import matplotlib.pyplot as plt\n",
    "import seaborn as sns\n",
    "from scipy import stats\n",
    "import patsy\n",
    "import statsmodels.api as sm"
   ]
  },
  {
   "cell_type": "markdown",
   "id": "e76f97e2",
   "metadata": {},
   "source": [
    "### Fetch Data and Store into Dataframe"
   ]
  },
  {
   "cell_type": "code",
   "execution_count": 2,
   "id": "5db60f2a",
   "metadata": {},
   "outputs": [
    {
     "data": {
      "text/html": [
       "<div>\n",
       "<style scoped>\n",
       "    .dataframe tbody tr th:only-of-type {\n",
       "        vertical-align: middle;\n",
       "    }\n",
       "\n",
       "    .dataframe tbody tr th {\n",
       "        vertical-align: top;\n",
       "    }\n",
       "\n",
       "    .dataframe thead th {\n",
       "        text-align: right;\n",
       "    }\n",
       "</style>\n",
       "<table border=\"1\" class=\"dataframe\">\n",
       "  <thead>\n",
       "    <tr style=\"text-align: right;\">\n",
       "      <th></th>\n",
       "      <th>Instructor</th>\n",
       "      <th>Course</th>\n",
       "      <th>Quarter</th>\n",
       "      <th>Total Enrolled in Course</th>\n",
       "      <th>Total CAPEs Given</th>\n",
       "      <th>Percentage Recommended Class</th>\n",
       "      <th>Percentage Recommended Professor</th>\n",
       "      <th>Study Hours per Week</th>\n",
       "      <th>Average Grade Expected</th>\n",
       "      <th>Average Grade Received</th>\n",
       "      <th>Evalulation URL</th>\n",
       "    </tr>\n",
       "  </thead>\n",
       "  <tbody>\n",
       "    <tr>\n",
       "      <th>0</th>\n",
       "      <td>Butler Elizabeth Annette</td>\n",
       "      <td>AAS 10 - Intro/African-American Studies (A)</td>\n",
       "      <td>SP23</td>\n",
       "      <td>66</td>\n",
       "      <td>48</td>\n",
       "      <td>93.5%</td>\n",
       "      <td>100.0%</td>\n",
       "      <td>2.80</td>\n",
       "      <td>A- (3.84)</td>\n",
       "      <td>B+ (3.67)</td>\n",
       "      <td>https://cape.ucsd.edu/CAPEReport.aspx?sectioni...</td>\n",
       "    </tr>\n",
       "    <tr>\n",
       "      <th>1</th>\n",
       "      <td>Butler Elizabeth Annette</td>\n",
       "      <td>AAS 170 - Legacies of Research (A)</td>\n",
       "      <td>SP23</td>\n",
       "      <td>20</td>\n",
       "      <td>7</td>\n",
       "      <td>100.0%</td>\n",
       "      <td>100.0%</td>\n",
       "      <td>2.50</td>\n",
       "      <td>A- (3.86)</td>\n",
       "      <td>A- (3.92)</td>\n",
       "      <td>https://cape.ucsd.edu/CAPEReport.aspx?sectioni...</td>\n",
       "    </tr>\n",
       "    <tr>\n",
       "      <th>2</th>\n",
       "      <td>Jones Ian William Nasser</td>\n",
       "      <td>ANAR 111 - Foundations of Archaeology (A)</td>\n",
       "      <td>SP23</td>\n",
       "      <td>16</td>\n",
       "      <td>3</td>\n",
       "      <td>100.0%</td>\n",
       "      <td>100.0%</td>\n",
       "      <td>3.83</td>\n",
       "      <td>B+ (3.67)</td>\n",
       "      <td>NaN</td>\n",
       "      <td>https://cape.ucsd.edu/CAPEReport.aspx?sectioni...</td>\n",
       "    </tr>\n",
       "    <tr>\n",
       "      <th>3</th>\n",
       "      <td>Shtienberg Gilad</td>\n",
       "      <td>ANAR 115 - Coastal Geomorphology/Environ (A)</td>\n",
       "      <td>SP23</td>\n",
       "      <td>26</td>\n",
       "      <td>6</td>\n",
       "      <td>100.0%</td>\n",
       "      <td>83.3%</td>\n",
       "      <td>3.83</td>\n",
       "      <td>B+ (3.50)</td>\n",
       "      <td>B (3.07)</td>\n",
       "      <td>https://cape.ucsd.edu/CAPEReport.aspx?sectioni...</td>\n",
       "    </tr>\n",
       "    <tr>\n",
       "      <th>4</th>\n",
       "      <td>Braswell Geoffrey E.</td>\n",
       "      <td>ANAR 155 - Stdy Abrd: Ancient Mesoamerica (A)</td>\n",
       "      <td>SP23</td>\n",
       "      <td>22</td>\n",
       "      <td>9</td>\n",
       "      <td>100.0%</td>\n",
       "      <td>100.0%</td>\n",
       "      <td>5.17</td>\n",
       "      <td>A (4.00)</td>\n",
       "      <td>A (4.00)</td>\n",
       "      <td>https://cape.ucsd.edu/CAPEReport.aspx?sectioni...</td>\n",
       "    </tr>\n",
       "  </tbody>\n",
       "</table>\n",
       "</div>"
      ],
      "text/plain": [
       "                 Instructor                                         Course  \\\n",
       "0  Butler Elizabeth Annette    AAS 10 - Intro/African-American Studies (A)   \n",
       "1  Butler Elizabeth Annette             AAS 170 - Legacies of Research (A)   \n",
       "2  Jones Ian William Nasser      ANAR 111 - Foundations of Archaeology (A)   \n",
       "3          Shtienberg Gilad   ANAR 115 - Coastal Geomorphology/Environ (A)   \n",
       "4      Braswell Geoffrey E.  ANAR 155 - Stdy Abrd: Ancient Mesoamerica (A)   \n",
       "\n",
       "  Quarter  Total Enrolled in Course  Total CAPEs Given  \\\n",
       "0    SP23                        66                 48   \n",
       "1    SP23                        20                  7   \n",
       "2    SP23                        16                  3   \n",
       "3    SP23                        26                  6   \n",
       "4    SP23                        22                  9   \n",
       "\n",
       "  Percentage Recommended Class Percentage Recommended Professor  \\\n",
       "0                        93.5%                           100.0%   \n",
       "1                       100.0%                           100.0%   \n",
       "2                       100.0%                           100.0%   \n",
       "3                       100.0%                            83.3%   \n",
       "4                       100.0%                           100.0%   \n",
       "\n",
       "   Study Hours per Week Average Grade Expected Average Grade Received  \\\n",
       "0                  2.80              A- (3.84)              B+ (3.67)   \n",
       "1                  2.50              A- (3.86)              A- (3.92)   \n",
       "2                  3.83              B+ (3.67)                    NaN   \n",
       "3                  3.83              B+ (3.50)               B (3.07)   \n",
       "4                  5.17               A (4.00)               A (4.00)   \n",
       "\n",
       "                                     Evalulation URL  \n",
       "0  https://cape.ucsd.edu/CAPEReport.aspx?sectioni...  \n",
       "1  https://cape.ucsd.edu/CAPEReport.aspx?sectioni...  \n",
       "2  https://cape.ucsd.edu/CAPEReport.aspx?sectioni...  \n",
       "3  https://cape.ucsd.edu/CAPEReport.aspx?sectioni...  \n",
       "4  https://cape.ucsd.edu/CAPEReport.aspx?sectioni...  "
      ]
     },
     "execution_count": 2,
     "metadata": {},
     "output_type": "execute_result"
    }
   ],
   "source": [
    "capes_df = pd.read_csv('capes_data.csv')\n",
    "capes_df.head()"
   ]
  },
  {
   "cell_type": "markdown",
   "id": "e6224ae9",
   "metadata": {},
   "source": [
    "### Dropping Irrelevant Columns\n",
    "Many columns, including Total CAPEs Given and Total Enrolled in Course, are not relevant for our project. Thus, we are removing them completely from our dataframe."
   ]
  },
  {
   "cell_type": "code",
   "execution_count": 3,
   "id": "dc05b511",
   "metadata": {},
   "outputs": [
    {
     "data": {
      "text/html": [
       "<div>\n",
       "<style scoped>\n",
       "    .dataframe tbody tr th:only-of-type {\n",
       "        vertical-align: middle;\n",
       "    }\n",
       "\n",
       "    .dataframe tbody tr th {\n",
       "        vertical-align: top;\n",
       "    }\n",
       "\n",
       "    .dataframe thead th {\n",
       "        text-align: right;\n",
       "    }\n",
       "</style>\n",
       "<table border=\"1\" class=\"dataframe\">\n",
       "  <thead>\n",
       "    <tr style=\"text-align: right;\">\n",
       "      <th></th>\n",
       "      <th>Instructor</th>\n",
       "      <th>Course</th>\n",
       "      <th>Quarter</th>\n",
       "      <th>Study Hours per Week</th>\n",
       "      <th>Average Grade Received</th>\n",
       "    </tr>\n",
       "  </thead>\n",
       "  <tbody>\n",
       "    <tr>\n",
       "      <th>0</th>\n",
       "      <td>Butler Elizabeth Annette</td>\n",
       "      <td>AAS 10 - Intro/African-American Studies (A)</td>\n",
       "      <td>SP23</td>\n",
       "      <td>2.80</td>\n",
       "      <td>B+ (3.67)</td>\n",
       "    </tr>\n",
       "    <tr>\n",
       "      <th>1</th>\n",
       "      <td>Butler Elizabeth Annette</td>\n",
       "      <td>AAS 170 - Legacies of Research (A)</td>\n",
       "      <td>SP23</td>\n",
       "      <td>2.50</td>\n",
       "      <td>A- (3.92)</td>\n",
       "    </tr>\n",
       "    <tr>\n",
       "      <th>2</th>\n",
       "      <td>Jones Ian William Nasser</td>\n",
       "      <td>ANAR 111 - Foundations of Archaeology (A)</td>\n",
       "      <td>SP23</td>\n",
       "      <td>3.83</td>\n",
       "      <td>NaN</td>\n",
       "    </tr>\n",
       "    <tr>\n",
       "      <th>3</th>\n",
       "      <td>Shtienberg Gilad</td>\n",
       "      <td>ANAR 115 - Coastal Geomorphology/Environ (A)</td>\n",
       "      <td>SP23</td>\n",
       "      <td>3.83</td>\n",
       "      <td>B (3.07)</td>\n",
       "    </tr>\n",
       "    <tr>\n",
       "      <th>4</th>\n",
       "      <td>Braswell Geoffrey E.</td>\n",
       "      <td>ANAR 155 - Stdy Abrd: Ancient Mesoamerica (A)</td>\n",
       "      <td>SP23</td>\n",
       "      <td>5.17</td>\n",
       "      <td>A (4.00)</td>\n",
       "    </tr>\n",
       "  </tbody>\n",
       "</table>\n",
       "</div>"
      ],
      "text/plain": [
       "                 Instructor                                         Course  \\\n",
       "0  Butler Elizabeth Annette    AAS 10 - Intro/African-American Studies (A)   \n",
       "1  Butler Elizabeth Annette             AAS 170 - Legacies of Research (A)   \n",
       "2  Jones Ian William Nasser      ANAR 111 - Foundations of Archaeology (A)   \n",
       "3          Shtienberg Gilad   ANAR 115 - Coastal Geomorphology/Environ (A)   \n",
       "4      Braswell Geoffrey E.  ANAR 155 - Stdy Abrd: Ancient Mesoamerica (A)   \n",
       "\n",
       "  Quarter  Study Hours per Week Average Grade Received  \n",
       "0    SP23                  2.80              B+ (3.67)  \n",
       "1    SP23                  2.50              A- (3.92)  \n",
       "2    SP23                  3.83                    NaN  \n",
       "3    SP23                  3.83               B (3.07)  \n",
       "4    SP23                  5.17               A (4.00)  "
      ]
     },
     "execution_count": 3,
     "metadata": {},
     "output_type": "execute_result"
    }
   ],
   "source": [
    "capes_df = capes_df.drop([\n",
    "    'Total Enrolled in Course',\n",
    "    'Total CAPEs Given',\n",
    "    'Percentage Recommended Class',\n",
    "    'Percentage Recommended Professor',\n",
    "    'Average Grade Expected',\n",
    "    'Evalulation URL'\n",
    "], axis=1)\n",
    "capes_df.head()"
   ]
  },
  {
   "cell_type": "markdown",
   "id": "064db65e",
   "metadata": {},
   "source": [
    "### Remove Rows with Null Values\n",
    "Any rows that contain missing information will have no impact on specific variable distributions. Thus, we are removing them for better analysis."
   ]
  },
  {
   "cell_type": "code",
   "execution_count": 4,
   "id": "8a6c5123",
   "metadata": {},
   "outputs": [
    {
     "name": "stdout",
     "output_type": "stream",
     "text": [
      "Columns with null values:  ['Study Hours per Week', 'Average Grade Received']\n"
     ]
    },
    {
     "data": {
      "text/html": [
       "<div>\n",
       "<style scoped>\n",
       "    .dataframe tbody tr th:only-of-type {\n",
       "        vertical-align: middle;\n",
       "    }\n",
       "\n",
       "    .dataframe tbody tr th {\n",
       "        vertical-align: top;\n",
       "    }\n",
       "\n",
       "    .dataframe thead th {\n",
       "        text-align: right;\n",
       "    }\n",
       "</style>\n",
       "<table border=\"1\" class=\"dataframe\">\n",
       "  <thead>\n",
       "    <tr style=\"text-align: right;\">\n",
       "      <th></th>\n",
       "      <th>Instructor</th>\n",
       "      <th>Course</th>\n",
       "      <th>Quarter</th>\n",
       "      <th>Study Hours per Week</th>\n",
       "      <th>Average Grade Received</th>\n",
       "    </tr>\n",
       "  </thead>\n",
       "  <tbody>\n",
       "    <tr>\n",
       "      <th>0</th>\n",
       "      <td>Butler Elizabeth Annette</td>\n",
       "      <td>AAS 10 - Intro/African-American Studies (A)</td>\n",
       "      <td>SP23</td>\n",
       "      <td>2.80</td>\n",
       "      <td>B+ (3.67)</td>\n",
       "    </tr>\n",
       "    <tr>\n",
       "      <th>1</th>\n",
       "      <td>Butler Elizabeth Annette</td>\n",
       "      <td>AAS 170 - Legacies of Research (A)</td>\n",
       "      <td>SP23</td>\n",
       "      <td>2.50</td>\n",
       "      <td>A- (3.92)</td>\n",
       "    </tr>\n",
       "    <tr>\n",
       "      <th>3</th>\n",
       "      <td>Shtienberg Gilad</td>\n",
       "      <td>ANAR 115 - Coastal Geomorphology/Environ (A)</td>\n",
       "      <td>SP23</td>\n",
       "      <td>3.83</td>\n",
       "      <td>B (3.07)</td>\n",
       "    </tr>\n",
       "    <tr>\n",
       "      <th>4</th>\n",
       "      <td>Braswell Geoffrey E.</td>\n",
       "      <td>ANAR 155 - Stdy Abrd: Ancient Mesoamerica (A)</td>\n",
       "      <td>SP23</td>\n",
       "      <td>5.17</td>\n",
       "      <td>A (4.00)</td>\n",
       "    </tr>\n",
       "    <tr>\n",
       "      <th>5</th>\n",
       "      <td>Hrvoj Mihic Branka</td>\n",
       "      <td>ANBI 111 - Human Evolution (A)</td>\n",
       "      <td>SP23</td>\n",
       "      <td>2.50</td>\n",
       "      <td>B- (2.95)</td>\n",
       "    </tr>\n",
       "  </tbody>\n",
       "</table>\n",
       "</div>"
      ],
      "text/plain": [
       "                 Instructor                                         Course  \\\n",
       "0  Butler Elizabeth Annette    AAS 10 - Intro/African-American Studies (A)   \n",
       "1  Butler Elizabeth Annette             AAS 170 - Legacies of Research (A)   \n",
       "3          Shtienberg Gilad   ANAR 115 - Coastal Geomorphology/Environ (A)   \n",
       "4      Braswell Geoffrey E.  ANAR 155 - Stdy Abrd: Ancient Mesoamerica (A)   \n",
       "5        Hrvoj Mihic Branka                 ANBI 111 - Human Evolution (A)   \n",
       "\n",
       "  Quarter  Study Hours per Week Average Grade Received  \n",
       "0    SP23                  2.80              B+ (3.67)  \n",
       "1    SP23                  2.50              A- (3.92)  \n",
       "3    SP23                  3.83               B (3.07)  \n",
       "4    SP23                  5.17               A (4.00)  \n",
       "5    SP23                  2.50              B- (2.95)  "
      ]
     },
     "execution_count": 4,
     "metadata": {},
     "output_type": "execute_result"
    }
   ],
   "source": [
    "# Identify which columns contain null values\n",
    "null_columns = capes_df.isnull().any()\n",
    "print(\"Columns with null values: \", null_columns[null_columns].index.tolist())\n",
    "\n",
    "# Drop rows that contain null values\n",
    "capes_df = capes_df.dropna(subset=['Study Hours per Week', 'Average Grade Received'])\n",
    "capes_df.head()"
   ]
  },
  {
   "cell_type": "markdown",
   "id": "72e64101",
   "metadata": {},
   "source": [
    "### Clean Course Column\n",
    "The course column contains the information to identify each class. It is a string that contains the department which the class is from, course number, full name of the course, and the section if there are multiple offered during the same quarter. To clean the course column, we will split each string and keep the abbreviated department name and course number. We will also create new columns that hold these values for later use and remove the class title section denoted by the '(A)'."
   ]
  },
  {
   "cell_type": "code",
   "execution_count": 5,
   "id": "88d42c8a",
   "metadata": {},
   "outputs": [
    {
     "data": {
      "text/html": [
       "<div>\n",
       "<style scoped>\n",
       "    .dataframe tbody tr th:only-of-type {\n",
       "        vertical-align: middle;\n",
       "    }\n",
       "\n",
       "    .dataframe tbody tr th {\n",
       "        vertical-align: top;\n",
       "    }\n",
       "\n",
       "    .dataframe thead th {\n",
       "        text-align: right;\n",
       "    }\n",
       "</style>\n",
       "<table border=\"1\" class=\"dataframe\">\n",
       "  <thead>\n",
       "    <tr style=\"text-align: right;\">\n",
       "      <th></th>\n",
       "      <th>Instructor</th>\n",
       "      <th>Course</th>\n",
       "      <th>Quarter</th>\n",
       "      <th>Study Hours per Week</th>\n",
       "      <th>Average Grade Received</th>\n",
       "      <th>Subject Code</th>\n",
       "      <th>Course Number</th>\n",
       "    </tr>\n",
       "  </thead>\n",
       "  <tbody>\n",
       "    <tr>\n",
       "      <th>0</th>\n",
       "      <td>Butler Elizabeth Annette</td>\n",
       "      <td>AAS 10 - Intro/African-American Studies</td>\n",
       "      <td>SP23</td>\n",
       "      <td>2.80</td>\n",
       "      <td>B+ (3.67)</td>\n",
       "      <td>AAS</td>\n",
       "      <td>10</td>\n",
       "    </tr>\n",
       "    <tr>\n",
       "      <th>1</th>\n",
       "      <td>Butler Elizabeth Annette</td>\n",
       "      <td>AAS 170 - Legacies of Research</td>\n",
       "      <td>SP23</td>\n",
       "      <td>2.50</td>\n",
       "      <td>A- (3.92)</td>\n",
       "      <td>AAS</td>\n",
       "      <td>170</td>\n",
       "    </tr>\n",
       "    <tr>\n",
       "      <th>3</th>\n",
       "      <td>Shtienberg Gilad</td>\n",
       "      <td>ANAR 115 - Coastal Geomorphology/Environ</td>\n",
       "      <td>SP23</td>\n",
       "      <td>3.83</td>\n",
       "      <td>B (3.07)</td>\n",
       "      <td>ANAR</td>\n",
       "      <td>115</td>\n",
       "    </tr>\n",
       "    <tr>\n",
       "      <th>4</th>\n",
       "      <td>Braswell Geoffrey E.</td>\n",
       "      <td>ANAR 155 - Stdy Abrd: Ancient Mesoamerica</td>\n",
       "      <td>SP23</td>\n",
       "      <td>5.17</td>\n",
       "      <td>A (4.00)</td>\n",
       "      <td>ANAR</td>\n",
       "      <td>155</td>\n",
       "    </tr>\n",
       "    <tr>\n",
       "      <th>5</th>\n",
       "      <td>Hrvoj Mihic Branka</td>\n",
       "      <td>ANBI 111 - Human Evolution</td>\n",
       "      <td>SP23</td>\n",
       "      <td>2.50</td>\n",
       "      <td>B- (2.95)</td>\n",
       "      <td>ANBI</td>\n",
       "      <td>111</td>\n",
       "    </tr>\n",
       "  </tbody>\n",
       "</table>\n",
       "</div>"
      ],
      "text/plain": [
       "                 Instructor                                      Course  \\\n",
       "0  Butler Elizabeth Annette    AAS 10 - Intro/African-American Studies    \n",
       "1  Butler Elizabeth Annette             AAS 170 - Legacies of Research    \n",
       "3          Shtienberg Gilad   ANAR 115 - Coastal Geomorphology/Environ    \n",
       "4      Braswell Geoffrey E.  ANAR 155 - Stdy Abrd: Ancient Mesoamerica    \n",
       "5        Hrvoj Mihic Branka                 ANBI 111 - Human Evolution    \n",
       "\n",
       "  Quarter  Study Hours per Week Average Grade Received Subject Code  \\\n",
       "0    SP23                  2.80              B+ (3.67)          AAS   \n",
       "1    SP23                  2.50              A- (3.92)          AAS   \n",
       "3    SP23                  3.83               B (3.07)         ANAR   \n",
       "4    SP23                  5.17               A (4.00)         ANAR   \n",
       "5    SP23                  2.50              B- (2.95)         ANBI   \n",
       "\n",
       "  Course Number  \n",
       "0            10  \n",
       "1           170  \n",
       "3           115  \n",
       "4           155  \n",
       "5           111  "
      ]
     },
     "execution_count": 5,
     "metadata": {},
     "output_type": "execute_result"
    }
   ],
   "source": [
    "# Department Code\n",
    "capes_df['Subject Code'] = capes_df['Course'].str.split().str.get(0)\n",
    "capes_df\n",
    "\n",
    "# Course Number\n",
    "def get_courseNumber(course):\n",
    "    return course.split(' ')[1]\n",
    "capes_df['Course Number'] = capes_df['Course'].apply(get_courseNumber)\n",
    "\n",
    "# Course\n",
    "def clean_course(course):\n",
    "    return course.split('(')[0]  \n",
    "capes_df['Course'] = capes_df['Course'].apply(clean_course)\n",
    "capes_df.head()"
   ]
  },
  {
   "cell_type": "markdown",
   "id": "d8cbc0e6",
   "metadata": {},
   "source": [
    "Next, we will also cateogrize the course numbers by division."
   ]
  },
  {
   "cell_type": "code",
   "execution_count": 6,
   "id": "a4f3bec6",
   "metadata": {},
   "outputs": [
    {
     "data": {
      "text/html": [
       "<div>\n",
       "<style scoped>\n",
       "    .dataframe tbody tr th:only-of-type {\n",
       "        vertical-align: middle;\n",
       "    }\n",
       "\n",
       "    .dataframe tbody tr th {\n",
       "        vertical-align: top;\n",
       "    }\n",
       "\n",
       "    .dataframe thead th {\n",
       "        text-align: right;\n",
       "    }\n",
       "</style>\n",
       "<table border=\"1\" class=\"dataframe\">\n",
       "  <thead>\n",
       "    <tr style=\"text-align: right;\">\n",
       "      <th></th>\n",
       "      <th>Instructor</th>\n",
       "      <th>Course</th>\n",
       "      <th>Quarter</th>\n",
       "      <th>Study Hours per Week</th>\n",
       "      <th>Average Grade Received</th>\n",
       "      <th>Subject Code</th>\n",
       "      <th>Course Number</th>\n",
       "      <th>Course Division</th>\n",
       "    </tr>\n",
       "  </thead>\n",
       "  <tbody>\n",
       "    <tr>\n",
       "      <th>0</th>\n",
       "      <td>Butler Elizabeth Annette</td>\n",
       "      <td>AAS 10 - Intro/African-American Studies</td>\n",
       "      <td>SP23</td>\n",
       "      <td>2.80</td>\n",
       "      <td>B+ (3.67)</td>\n",
       "      <td>AAS</td>\n",
       "      <td>10</td>\n",
       "      <td>Lower</td>\n",
       "    </tr>\n",
       "    <tr>\n",
       "      <th>1</th>\n",
       "      <td>Butler Elizabeth Annette</td>\n",
       "      <td>AAS 170 - Legacies of Research</td>\n",
       "      <td>SP23</td>\n",
       "      <td>2.50</td>\n",
       "      <td>A- (3.92)</td>\n",
       "      <td>AAS</td>\n",
       "      <td>170</td>\n",
       "      <td>Upper</td>\n",
       "    </tr>\n",
       "    <tr>\n",
       "      <th>3</th>\n",
       "      <td>Shtienberg Gilad</td>\n",
       "      <td>ANAR 115 - Coastal Geomorphology/Environ</td>\n",
       "      <td>SP23</td>\n",
       "      <td>3.83</td>\n",
       "      <td>B (3.07)</td>\n",
       "      <td>ANAR</td>\n",
       "      <td>115</td>\n",
       "      <td>Upper</td>\n",
       "    </tr>\n",
       "    <tr>\n",
       "      <th>4</th>\n",
       "      <td>Braswell Geoffrey E.</td>\n",
       "      <td>ANAR 155 - Stdy Abrd: Ancient Mesoamerica</td>\n",
       "      <td>SP23</td>\n",
       "      <td>5.17</td>\n",
       "      <td>A (4.00)</td>\n",
       "      <td>ANAR</td>\n",
       "      <td>155</td>\n",
       "      <td>Upper</td>\n",
       "    </tr>\n",
       "    <tr>\n",
       "      <th>5</th>\n",
       "      <td>Hrvoj Mihic Branka</td>\n",
       "      <td>ANBI 111 - Human Evolution</td>\n",
       "      <td>SP23</td>\n",
       "      <td>2.50</td>\n",
       "      <td>B- (2.95)</td>\n",
       "      <td>ANBI</td>\n",
       "      <td>111</td>\n",
       "      <td>Upper</td>\n",
       "    </tr>\n",
       "  </tbody>\n",
       "</table>\n",
       "</div>"
      ],
      "text/plain": [
       "                 Instructor                                      Course  \\\n",
       "0  Butler Elizabeth Annette    AAS 10 - Intro/African-American Studies    \n",
       "1  Butler Elizabeth Annette             AAS 170 - Legacies of Research    \n",
       "3          Shtienberg Gilad   ANAR 115 - Coastal Geomorphology/Environ    \n",
       "4      Braswell Geoffrey E.  ANAR 155 - Stdy Abrd: Ancient Mesoamerica    \n",
       "5        Hrvoj Mihic Branka                 ANBI 111 - Human Evolution    \n",
       "\n",
       "  Quarter  Study Hours per Week Average Grade Received Subject Code  \\\n",
       "0    SP23                  2.80              B+ (3.67)          AAS   \n",
       "1    SP23                  2.50              A- (3.92)          AAS   \n",
       "3    SP23                  3.83               B (3.07)         ANAR   \n",
       "4    SP23                  5.17               A (4.00)         ANAR   \n",
       "5    SP23                  2.50              B- (2.95)         ANBI   \n",
       "\n",
       "  Course Number Course Division  \n",
       "0            10           Lower  \n",
       "1           170           Upper  \n",
       "3           115           Upper  \n",
       "4           155           Upper  \n",
       "5           111           Upper  "
      ]
     },
     "execution_count": 6,
     "metadata": {},
     "output_type": "execute_result"
    }
   ],
   "source": [
    "# Remove rows that contain NaN\n",
    "capes_df = capes_df.dropna(subset=['Course Number'])\n",
    "\n",
    "# Function to categorize course numbers by division\n",
    "def categorize_course(number):\n",
    "    num_str = re.sub('[^0-9]', '', number)  # Remove non-numeric characters\n",
    "    num = int(num_str)\n",
    "    if 1 <= num <= 99:\n",
    "        return 'Lower'\n",
    "    elif 100 <= num <= 199:\n",
    "        return 'Upper'\n",
    "    elif num >= 200:\n",
    "        return 'Grad'\n",
    "    else:\n",
    "        return 'unknown' # Sanity check\n",
    "\n",
    "# Apply the function to create a new column for course division\n",
    "capes_df['Course Division'] = capes_df['Course Number'].apply(categorize_course)\n",
    "capes_df.head()"
   ]
  },
  {
   "cell_type": "markdown",
   "id": "031d9fed",
   "metadata": {},
   "source": [
    "### Extracting GPA Values\n",
    "Because quantitative values are more helpful in data analysis, we need to create a new column to hold the GPA values (without the letter grades)."
   ]
  },
  {
   "cell_type": "code",
   "execution_count": 7,
   "id": "362e98d5",
   "metadata": {},
   "outputs": [
    {
     "data": {
      "text/html": [
       "<div>\n",
       "<style scoped>\n",
       "    .dataframe tbody tr th:only-of-type {\n",
       "        vertical-align: middle;\n",
       "    }\n",
       "\n",
       "    .dataframe tbody tr th {\n",
       "        vertical-align: top;\n",
       "    }\n",
       "\n",
       "    .dataframe thead th {\n",
       "        text-align: right;\n",
       "    }\n",
       "</style>\n",
       "<table border=\"1\" class=\"dataframe\">\n",
       "  <thead>\n",
       "    <tr style=\"text-align: right;\">\n",
       "      <th></th>\n",
       "      <th>Instructor</th>\n",
       "      <th>Course</th>\n",
       "      <th>Quarter</th>\n",
       "      <th>Study Hours per Week</th>\n",
       "      <th>Average Grade Received</th>\n",
       "      <th>Subject Code</th>\n",
       "      <th>Course Number</th>\n",
       "      <th>Course Division</th>\n",
       "    </tr>\n",
       "  </thead>\n",
       "  <tbody>\n",
       "    <tr>\n",
       "      <th>0</th>\n",
       "      <td>Butler Elizabeth Annette</td>\n",
       "      <td>AAS 10 - Intro/African-American Studies</td>\n",
       "      <td>SP23</td>\n",
       "      <td>2.80</td>\n",
       "      <td>3.67</td>\n",
       "      <td>AAS</td>\n",
       "      <td>10</td>\n",
       "      <td>Lower</td>\n",
       "    </tr>\n",
       "    <tr>\n",
       "      <th>1</th>\n",
       "      <td>Butler Elizabeth Annette</td>\n",
       "      <td>AAS 170 - Legacies of Research</td>\n",
       "      <td>SP23</td>\n",
       "      <td>2.50</td>\n",
       "      <td>3.92</td>\n",
       "      <td>AAS</td>\n",
       "      <td>170</td>\n",
       "      <td>Upper</td>\n",
       "    </tr>\n",
       "    <tr>\n",
       "      <th>3</th>\n",
       "      <td>Shtienberg Gilad</td>\n",
       "      <td>ANAR 115 - Coastal Geomorphology/Environ</td>\n",
       "      <td>SP23</td>\n",
       "      <td>3.83</td>\n",
       "      <td>3.07</td>\n",
       "      <td>ANAR</td>\n",
       "      <td>115</td>\n",
       "      <td>Upper</td>\n",
       "    </tr>\n",
       "    <tr>\n",
       "      <th>4</th>\n",
       "      <td>Braswell Geoffrey E.</td>\n",
       "      <td>ANAR 155 - Stdy Abrd: Ancient Mesoamerica</td>\n",
       "      <td>SP23</td>\n",
       "      <td>5.17</td>\n",
       "      <td>4.00</td>\n",
       "      <td>ANAR</td>\n",
       "      <td>155</td>\n",
       "      <td>Upper</td>\n",
       "    </tr>\n",
       "    <tr>\n",
       "      <th>5</th>\n",
       "      <td>Hrvoj Mihic Branka</td>\n",
       "      <td>ANBI 111 - Human Evolution</td>\n",
       "      <td>SP23</td>\n",
       "      <td>2.50</td>\n",
       "      <td>2.95</td>\n",
       "      <td>ANBI</td>\n",
       "      <td>111</td>\n",
       "      <td>Upper</td>\n",
       "    </tr>\n",
       "  </tbody>\n",
       "</table>\n",
       "</div>"
      ],
      "text/plain": [
       "                 Instructor                                      Course  \\\n",
       "0  Butler Elizabeth Annette    AAS 10 - Intro/African-American Studies    \n",
       "1  Butler Elizabeth Annette             AAS 170 - Legacies of Research    \n",
       "3          Shtienberg Gilad   ANAR 115 - Coastal Geomorphology/Environ    \n",
       "4      Braswell Geoffrey E.  ANAR 155 - Stdy Abrd: Ancient Mesoamerica    \n",
       "5        Hrvoj Mihic Branka                 ANBI 111 - Human Evolution    \n",
       "\n",
       "  Quarter  Study Hours per Week  Average Grade Received Subject Code  \\\n",
       "0    SP23                  2.80                    3.67          AAS   \n",
       "1    SP23                  2.50                    3.92          AAS   \n",
       "3    SP23                  3.83                    3.07         ANAR   \n",
       "4    SP23                  5.17                    4.00         ANAR   \n",
       "5    SP23                  2.50                    2.95         ANBI   \n",
       "\n",
       "  Course Number Course Division  \n",
       "0            10           Lower  \n",
       "1           170           Upper  \n",
       "3           115           Upper  \n",
       "4           155           Upper  \n",
       "5           111           Upper  "
      ]
     },
     "execution_count": 7,
     "metadata": {},
     "output_type": "execute_result"
    }
   ],
   "source": [
    "# Average GPA\n",
    "capes_df['Average Grade Received'] = capes_df['Average Grade Received'].str.extract(r'\\((.*?)\\)').astype(float)\n",
    "capes_df.head()"
   ]
  },
  {
   "cell_type": "markdown",
   "id": "cc12af11",
   "metadata": {},
   "source": [
    "### Clean Quarter Column and Extract Data\n",
    "Since the dataset consists of course data from 2007 to 2023, each quarter term has a unique value. Therefore, we will need to categorize the courses by these generalized terms: Spring, Special Summer Session, Summer, Fall, and Winter."
   ]
  },
  {
   "cell_type": "code",
   "execution_count": 8,
   "id": "caf969cf",
   "metadata": {},
   "outputs": [
    {
     "data": {
      "text/html": [
       "<div>\n",
       "<style scoped>\n",
       "    .dataframe tbody tr th:only-of-type {\n",
       "        vertical-align: middle;\n",
       "    }\n",
       "\n",
       "    .dataframe tbody tr th {\n",
       "        vertical-align: top;\n",
       "    }\n",
       "\n",
       "    .dataframe thead th {\n",
       "        text-align: right;\n",
       "    }\n",
       "</style>\n",
       "<table border=\"1\" class=\"dataframe\">\n",
       "  <thead>\n",
       "    <tr style=\"text-align: right;\">\n",
       "      <th></th>\n",
       "      <th>Instructor</th>\n",
       "      <th>Course</th>\n",
       "      <th>Quarter</th>\n",
       "      <th>Study Hours per Week</th>\n",
       "      <th>Average Grade Received</th>\n",
       "      <th>Subject Code</th>\n",
       "      <th>Course Number</th>\n",
       "      <th>Course Division</th>\n",
       "      <th>Academic Term</th>\n",
       "    </tr>\n",
       "  </thead>\n",
       "  <tbody>\n",
       "    <tr>\n",
       "      <th>0</th>\n",
       "      <td>Butler Elizabeth Annette</td>\n",
       "      <td>AAS 10 - Intro/African-American Studies</td>\n",
       "      <td>SP23</td>\n",
       "      <td>2.80</td>\n",
       "      <td>3.67</td>\n",
       "      <td>AAS</td>\n",
       "      <td>10</td>\n",
       "      <td>Lower</td>\n",
       "      <td>Spring</td>\n",
       "    </tr>\n",
       "    <tr>\n",
       "      <th>1</th>\n",
       "      <td>Butler Elizabeth Annette</td>\n",
       "      <td>AAS 170 - Legacies of Research</td>\n",
       "      <td>SP23</td>\n",
       "      <td>2.50</td>\n",
       "      <td>3.92</td>\n",
       "      <td>AAS</td>\n",
       "      <td>170</td>\n",
       "      <td>Upper</td>\n",
       "      <td>Spring</td>\n",
       "    </tr>\n",
       "    <tr>\n",
       "      <th>3</th>\n",
       "      <td>Shtienberg Gilad</td>\n",
       "      <td>ANAR 115 - Coastal Geomorphology/Environ</td>\n",
       "      <td>SP23</td>\n",
       "      <td>3.83</td>\n",
       "      <td>3.07</td>\n",
       "      <td>ANAR</td>\n",
       "      <td>115</td>\n",
       "      <td>Upper</td>\n",
       "      <td>Spring</td>\n",
       "    </tr>\n",
       "    <tr>\n",
       "      <th>4</th>\n",
       "      <td>Braswell Geoffrey E.</td>\n",
       "      <td>ANAR 155 - Stdy Abrd: Ancient Mesoamerica</td>\n",
       "      <td>SP23</td>\n",
       "      <td>5.17</td>\n",
       "      <td>4.00</td>\n",
       "      <td>ANAR</td>\n",
       "      <td>155</td>\n",
       "      <td>Upper</td>\n",
       "      <td>Spring</td>\n",
       "    </tr>\n",
       "    <tr>\n",
       "      <th>5</th>\n",
       "      <td>Hrvoj Mihic Branka</td>\n",
       "      <td>ANBI 111 - Human Evolution</td>\n",
       "      <td>SP23</td>\n",
       "      <td>2.50</td>\n",
       "      <td>2.95</td>\n",
       "      <td>ANBI</td>\n",
       "      <td>111</td>\n",
       "      <td>Upper</td>\n",
       "      <td>Spring</td>\n",
       "    </tr>\n",
       "  </tbody>\n",
       "</table>\n",
       "</div>"
      ],
      "text/plain": [
       "                 Instructor                                      Course  \\\n",
       "0  Butler Elizabeth Annette    AAS 10 - Intro/African-American Studies    \n",
       "1  Butler Elizabeth Annette             AAS 170 - Legacies of Research    \n",
       "3          Shtienberg Gilad   ANAR 115 - Coastal Geomorphology/Environ    \n",
       "4      Braswell Geoffrey E.  ANAR 155 - Stdy Abrd: Ancient Mesoamerica    \n",
       "5        Hrvoj Mihic Branka                 ANBI 111 - Human Evolution    \n",
       "\n",
       "  Quarter  Study Hours per Week  Average Grade Received Subject Code  \\\n",
       "0    SP23                  2.80                    3.67          AAS   \n",
       "1    SP23                  2.50                    3.92          AAS   \n",
       "3    SP23                  3.83                    3.07         ANAR   \n",
       "4    SP23                  5.17                    4.00         ANAR   \n",
       "5    SP23                  2.50                    2.95         ANBI   \n",
       "\n",
       "  Course Number Course Division Academic Term  \n",
       "0            10           Lower        Spring  \n",
       "1           170           Upper        Spring  \n",
       "3           115           Upper        Spring  \n",
       "4           155           Upper        Spring  \n",
       "5           111           Upper        Spring  "
      ]
     },
     "execution_count": 8,
     "metadata": {},
     "output_type": "execute_result"
    }
   ],
   "source": [
    "# List all unique terms\n",
    "capes_df['Quarter'].unique()\n",
    "\n",
    "# Function to identify which term each course was taught in\n",
    "def get_term(quarter):\n",
    "    term = {'SP': 'Spring', \n",
    "            'S1': 'Special Summer Session 1', \n",
    "            'S2': 'Special Summer Session 2', \n",
    "            'S3': 'Special Summer Session 3',\n",
    "            'SU': 'Summer', \n",
    "            'FA': 'Fall', \n",
    "            'WI': 'Winter'}\n",
    "    \n",
    "    key = quarter[:2]\n",
    "    return term[key]\n",
    "\n",
    "capes_df['Academic Term'] = capes_df['Quarter'].apply(get_term)\n",
    "capes_df.head()"
   ]
  },
  {
   "cell_type": "markdown",
   "id": "28af6874",
   "metadata": {},
   "source": [
    "We will also create a new column for the year that the course was taught."
   ]
  },
  {
   "cell_type": "code",
   "execution_count": 9,
   "id": "9557d866",
   "metadata": {},
   "outputs": [
    {
     "data": {
      "text/html": [
       "<div>\n",
       "<style scoped>\n",
       "    .dataframe tbody tr th:only-of-type {\n",
       "        vertical-align: middle;\n",
       "    }\n",
       "\n",
       "    .dataframe tbody tr th {\n",
       "        vertical-align: top;\n",
       "    }\n",
       "\n",
       "    .dataframe thead th {\n",
       "        text-align: right;\n",
       "    }\n",
       "</style>\n",
       "<table border=\"1\" class=\"dataframe\">\n",
       "  <thead>\n",
       "    <tr style=\"text-align: right;\">\n",
       "      <th></th>\n",
       "      <th>Instructor</th>\n",
       "      <th>Course</th>\n",
       "      <th>Quarter</th>\n",
       "      <th>Study Hours per Week</th>\n",
       "      <th>Average Grade Received</th>\n",
       "      <th>Subject Code</th>\n",
       "      <th>Course Number</th>\n",
       "      <th>Course Division</th>\n",
       "      <th>Academic Term</th>\n",
       "      <th>Academic Year</th>\n",
       "    </tr>\n",
       "  </thead>\n",
       "  <tbody>\n",
       "    <tr>\n",
       "      <th>0</th>\n",
       "      <td>Butler Elizabeth Annette</td>\n",
       "      <td>AAS 10 - Intro/African-American Studies</td>\n",
       "      <td>SP23</td>\n",
       "      <td>2.80</td>\n",
       "      <td>3.67</td>\n",
       "      <td>AAS</td>\n",
       "      <td>10</td>\n",
       "      <td>Lower</td>\n",
       "      <td>Spring</td>\n",
       "      <td>2023</td>\n",
       "    </tr>\n",
       "    <tr>\n",
       "      <th>1</th>\n",
       "      <td>Butler Elizabeth Annette</td>\n",
       "      <td>AAS 170 - Legacies of Research</td>\n",
       "      <td>SP23</td>\n",
       "      <td>2.50</td>\n",
       "      <td>3.92</td>\n",
       "      <td>AAS</td>\n",
       "      <td>170</td>\n",
       "      <td>Upper</td>\n",
       "      <td>Spring</td>\n",
       "      <td>2023</td>\n",
       "    </tr>\n",
       "    <tr>\n",
       "      <th>3</th>\n",
       "      <td>Shtienberg Gilad</td>\n",
       "      <td>ANAR 115 - Coastal Geomorphology/Environ</td>\n",
       "      <td>SP23</td>\n",
       "      <td>3.83</td>\n",
       "      <td>3.07</td>\n",
       "      <td>ANAR</td>\n",
       "      <td>115</td>\n",
       "      <td>Upper</td>\n",
       "      <td>Spring</td>\n",
       "      <td>2023</td>\n",
       "    </tr>\n",
       "    <tr>\n",
       "      <th>4</th>\n",
       "      <td>Braswell Geoffrey E.</td>\n",
       "      <td>ANAR 155 - Stdy Abrd: Ancient Mesoamerica</td>\n",
       "      <td>SP23</td>\n",
       "      <td>5.17</td>\n",
       "      <td>4.00</td>\n",
       "      <td>ANAR</td>\n",
       "      <td>155</td>\n",
       "      <td>Upper</td>\n",
       "      <td>Spring</td>\n",
       "      <td>2023</td>\n",
       "    </tr>\n",
       "    <tr>\n",
       "      <th>5</th>\n",
       "      <td>Hrvoj Mihic Branka</td>\n",
       "      <td>ANBI 111 - Human Evolution</td>\n",
       "      <td>SP23</td>\n",
       "      <td>2.50</td>\n",
       "      <td>2.95</td>\n",
       "      <td>ANBI</td>\n",
       "      <td>111</td>\n",
       "      <td>Upper</td>\n",
       "      <td>Spring</td>\n",
       "      <td>2023</td>\n",
       "    </tr>\n",
       "  </tbody>\n",
       "</table>\n",
       "</div>"
      ],
      "text/plain": [
       "                 Instructor                                      Course  \\\n",
       "0  Butler Elizabeth Annette    AAS 10 - Intro/African-American Studies    \n",
       "1  Butler Elizabeth Annette             AAS 170 - Legacies of Research    \n",
       "3          Shtienberg Gilad   ANAR 115 - Coastal Geomorphology/Environ    \n",
       "4      Braswell Geoffrey E.  ANAR 155 - Stdy Abrd: Ancient Mesoamerica    \n",
       "5        Hrvoj Mihic Branka                 ANBI 111 - Human Evolution    \n",
       "\n",
       "  Quarter  Study Hours per Week  Average Grade Received Subject Code  \\\n",
       "0    SP23                  2.80                    3.67          AAS   \n",
       "1    SP23                  2.50                    3.92          AAS   \n",
       "3    SP23                  3.83                    3.07         ANAR   \n",
       "4    SP23                  5.17                    4.00         ANAR   \n",
       "5    SP23                  2.50                    2.95         ANBI   \n",
       "\n",
       "  Course Number Course Division Academic Term  Academic Year  \n",
       "0            10           Lower        Spring           2023  \n",
       "1           170           Upper        Spring           2023  \n",
       "3           115           Upper        Spring           2023  \n",
       "4           155           Upper        Spring           2023  \n",
       "5           111           Upper        Spring           2023  "
      ]
     },
     "execution_count": 9,
     "metadata": {},
     "output_type": "execute_result"
    }
   ],
   "source": [
    "# Function to categorize quarter terms into years\n",
    "# We know that are dataset is in the 20s therefore we just concat 20\n",
    "def get_year(quarter):\n",
    "    return int(\"20\" + quarter[2:])\n",
    "\n",
    "capes_df['Academic Year'] = capes_df['Quarter'].apply(get_year)\n",
    "capes_df.head()"
   ]
  },
  {
   "cell_type": "markdown",
   "id": "a7aa8f13",
   "metadata": {},
   "source": [
    "### Creating Department Column"
   ]
  },
  {
   "cell_type": "code",
   "execution_count": 10,
   "id": "1a8cb8e4",
   "metadata": {},
   "outputs": [
    {
     "data": {
      "text/plain": [
       "array(['AAS', 'ANAR', 'ANBI', 'ANSC', 'ANTH', 'AWP', 'BENG', 'BIBC',\n",
       "       'BICD', 'BIEB', 'BILD', 'BIMM', 'BIPN', 'BISP', 'CAT', 'CENG',\n",
       "       'CGS', 'CHEM', 'CHIN', 'COGS', 'COMM', 'CSE', 'CSS', 'DOC', 'DSC',\n",
       "       'DSGN', 'ECE', 'ECON', 'EDS', 'ENG', 'ENVR', 'ESYS', 'ETHN',\n",
       "       'FMPH', 'GLBH', 'HDS', 'HIAF', 'HIEA', 'HIEU', 'HIGL', 'HILA',\n",
       "       'HILD', 'HINE', 'HISC', 'HITO', 'HIUS', 'HUM', 'INTL', 'JAPN',\n",
       "       'LATI', 'LIGN', 'LIHL', 'LTAM', 'LTEA', 'LTEN', 'LTEU', 'LTKO',\n",
       "       'LTLA', 'LTSP', 'LTWL', 'LTWR', 'MAE', 'MATH', 'MGT', 'MMW', 'MUS',\n",
       "       'NANO', 'PHIL', 'PHYS', 'POLI', 'PSYC', 'RELI', 'SE', 'SIO',\n",
       "       'SOCI', 'SYN', 'TDAC', 'TDDE', 'TDDR', 'TDGE', 'TDHT', 'TDMV',\n",
       "       'TDPF', 'TDPR', 'TDTR', 'USP', 'VIS', 'WCWP', 'CCS', 'GSS', 'LTCH',\n",
       "       'LTTH', 'LTCS', 'LTGK', 'LTGM', 'TDDM', 'LAWS', 'ERC', 'TDPW',\n",
       "       'JWSP', 'LTFR', 'LTRU', 'HMNR', 'TWS', 'LTIT', 'HDP', 'ELWR',\n",
       "       'FPMU', 'ICAM', 'TDHD', 'JUDA', 'COCU', 'COGN', 'COHI', 'COMT',\n",
       "       'COSF', 'TDCH', 'TMC', 'LTAF', 'SOCE', 'STPA', 'SOCA', 'SOCB',\n",
       "       'SOCC', 'SOCD', 'SOCL'], dtype=object)"
      ]
     },
     "execution_count": 10,
     "metadata": {},
     "output_type": "execute_result"
    }
   ],
   "source": [
    "capes_df['Subject Code'].unique()"
   ]
  },
  {
   "cell_type": "code",
   "execution_count": 11,
   "id": "619e1f71",
   "metadata": {},
   "outputs": [],
   "source": [
    "department_dict = {\n",
    "    'AAS': 'African American Studies', \n",
    "    'ANAR': 'Anthropology', \n",
    "    'ANBI': 'Anthropology', \n",
    "    'ANSC': 'Anthropology', \n",
    "    'ANTH': 'Anthropology',\n",
    "    'AWP': 'Analytical Writing Program',\n",
    "    'BENG': 'Bioengineering',\n",
    "    'BIBC': 'Biology',\n",
    "    'BICD': 'Biology',\n",
    "    'BIEB': 'Biology',\n",
    "    'BILD': 'Biology', \n",
    "    'BIMM': 'Biology', \n",
    "    'BIPN': 'Biology', \n",
    "    'BISP': 'Biology', \n",
    "    'CAT': 'Sixth College Academic Programs', \n",
    "    'CENG': 'NanoEngineering Program', \n",
    "    'CGS': 'Critical Gender Studies',\n",
    "    'CHEM': 'Chemistry & Biochemistry',\n",
    "    'CHIN': 'Chinese Studies',\n",
    "    'COGS': 'Cognitive Science',\n",
    "    'COMM': 'Communication',\n",
    "    'CSE': 'Computer Science and Engineering',\n",
    "    'CSS': 'Cognitive Science', \n",
    "    'DOC': 'Dimensions of Culture Program',\n",
    "    'DSC': 'Data Science',\n",
    "    'DSGN': 'Cognitive Science',\n",
    "    'ECE': 'Electrical and Computer Engineering',\n",
    "    'ECON': 'Economics',\n",
    "    'EDS': 'Education Studies',\n",
    "    'ENG': 'Computer Science & Engineering',\n",
    "    'ENVR': 'Environmental Studies',\n",
    "    'ESYS': 'Environmental Systems',\n",
    "    'ETHN': 'Ethnic Studies', \n",
    "    'FMPH': 'Public Health',\n",
    "    'GLBH': 'Global Health Program',\n",
    "    'HDS': 'Human Developmental Sciences',\n",
    "    'HIAF': 'History',\n",
    "    'HIEA': 'History',\n",
    "    'HIEU': 'History',\n",
    "    'HIGL': 'History',\n",
    "    'HILA': 'History',\n",
    "    'HILD': 'History',\n",
    "    'HINE': 'History', \n",
    "    'HISC': 'History',\n",
    "    'HITO': 'History',\n",
    "    'HIUS': 'History',\n",
    "    'HUM': 'Humanities',\n",
    "    'INTL': 'International Studies',\n",
    "    'JAPN': 'Japanese Studies',\n",
    "    'LATI': 'Latin American Studies',\n",
    "    'LIGN': 'Linguistics',\n",
    "    'LIHL': 'Linguistics',\n",
    "    'LTAM': 'Literature',\n",
    "    'LTEA': 'Literature',\n",
    "    'LTEN': 'Literature',\n",
    "    'LTEU': 'Literature', \n",
    "    'LTKO': 'Literature',\n",
    "    'LTLA': 'Literature', \n",
    "    'LTSP': 'Literature', \n",
    "    'LTWL': 'Literature', \n",
    "    'LTWR': 'Literature',\n",
    "    'MAE': 'Mechanical and Aerospace Engineering', \n",
    "    'MATH': 'Mathematics', \n",
    "    'MGT': 'Rady School of Management', \n",
    "    'MMW': 'Making of the Modern World', \n",
    "    'MUS': 'Music', \n",
    "    'NANO': 'Nanoengineering', \n",
    "    'PHIL': 'Philosophy', \n",
    "    'PHYS': 'Physics', \n",
    "    'POLI': 'Political Science', \n",
    "    'PSYC': 'Psychology', \n",
    "    'RELI': 'Study of Religion',\n",
    "    'SE': 'Structural Engineering', \n",
    "    'SIO': 'Scripps Institution of Oceanography', \n",
    "    'SOCI': 'Sociology', \n",
    "    'SYN': 'Synthesis Program', \n",
    "    'TDAC': 'Theatre and Dance', \n",
    "    'TDDE': 'Theatre and Dance', \n",
    "    'TDDR': 'Theatre and Dance', \n",
    "    'TDGE': 'Theatre and Dance', \n",
    "    'TDHT': 'Theatre and Dance', \n",
    "    'TDMV': 'Theatre and Dance', \n",
    "    'TDPF': 'Theatre and Dance',\n",
    "    'TDPR': 'Theatre and Dance', \n",
    "    'TDTR': 'Theatre and Dance', \n",
    "    'USP': 'Urban Studies & Planning Prog', \n",
    "    'VIS': 'Visual Arts', \n",
    "    'WCWP': 'Warren College Writing Program', \n",
    "    'CCS': 'Scripps Institution of Oceanography', \n",
    "    'GSS': 'Global South Studies', \n",
    "    'LTCH': 'Literature', \n",
    "    'LTTH': 'Literature', \n",
    "    'LTCS': 'Literature', \n",
    "    'LTGK': 'Literature',\n",
    "    'LTGM': 'Literature', \n",
    "    'TDDM': 'Theatre and Dance', \n",
    "    'LAWS': 'Law and Society', \n",
    "    'ERC': 'Eleanor Roosevelt College', \n",
    "    'TDPW': 'Theatre and Dance', \n",
    "    'JWSP': 'Jewish Studies', \n",
    "    'LTFR': 'Literature', \n",
    "    'LTRU': 'Literature', \n",
    "    'HMNR': 'Human Rights', \n",
    "    'TWS': 'Global South Studies',\n",
    "    'LTIT': 'Literature', \n",
    "    'HDP': 'Human Developmental Sciences', \n",
    "    'ELWR': 'Entry Level Writing Requirement', \n",
    "    'FPMU': 'Family Medicine', \n",
    "    'ICAM': 'Visual Arts', \n",
    "    'TDHD': 'Theatre and Dance', \n",
    "    'JUDA': 'Jewish Studies', \n",
    "    'COCU': 'Communication and Culture',\n",
    "    'COGN': 'Communication', \n",
    "    'COHI': 'Communication',\n",
    "    'COMT': 'Communication', \n",
    "    'COSF': 'Communication', \n",
    "    'TDCH': 'Theatre and Dance', \n",
    "    'TMC': 'Thurgood Marshall College', \n",
    "    'LTAF': 'Literature', \n",
    "    'SOCE': 'Sociology', \n",
    "    'STPA': 'Political Science', \n",
    "    'SOCA': 'Sociology', \n",
    "    'SOCB': 'Sociology', \n",
    "    'SOCC': 'Sociology',\n",
    "    'SOCD': 'Sociology', \n",
    "    'SOCL': 'Sociology',\n",
    "}"
   ]
  },
  {
   "cell_type": "code",
   "execution_count": 12,
   "id": "600ff7cc",
   "metadata": {},
   "outputs": [
    {
     "data": {
      "text/html": [
       "<div>\n",
       "<style scoped>\n",
       "    .dataframe tbody tr th:only-of-type {\n",
       "        vertical-align: middle;\n",
       "    }\n",
       "\n",
       "    .dataframe tbody tr th {\n",
       "        vertical-align: top;\n",
       "    }\n",
       "\n",
       "    .dataframe thead th {\n",
       "        text-align: right;\n",
       "    }\n",
       "</style>\n",
       "<table border=\"1\" class=\"dataframe\">\n",
       "  <thead>\n",
       "    <tr style=\"text-align: right;\">\n",
       "      <th></th>\n",
       "      <th>Instructor</th>\n",
       "      <th>Course</th>\n",
       "      <th>Quarter</th>\n",
       "      <th>Study Hours per Week</th>\n",
       "      <th>Average Grade Received</th>\n",
       "      <th>Subject Code</th>\n",
       "      <th>Course Number</th>\n",
       "      <th>Course Division</th>\n",
       "      <th>Academic Term</th>\n",
       "      <th>Academic Year</th>\n",
       "      <th>Department</th>\n",
       "    </tr>\n",
       "  </thead>\n",
       "  <tbody>\n",
       "    <tr>\n",
       "      <th>0</th>\n",
       "      <td>Butler Elizabeth Annette</td>\n",
       "      <td>AAS 10 - Intro/African-American Studies</td>\n",
       "      <td>SP23</td>\n",
       "      <td>2.80</td>\n",
       "      <td>3.67</td>\n",
       "      <td>AAS</td>\n",
       "      <td>10</td>\n",
       "      <td>Lower</td>\n",
       "      <td>Spring</td>\n",
       "      <td>2023</td>\n",
       "      <td>African American Studies</td>\n",
       "    </tr>\n",
       "    <tr>\n",
       "      <th>1</th>\n",
       "      <td>Butler Elizabeth Annette</td>\n",
       "      <td>AAS 170 - Legacies of Research</td>\n",
       "      <td>SP23</td>\n",
       "      <td>2.50</td>\n",
       "      <td>3.92</td>\n",
       "      <td>AAS</td>\n",
       "      <td>170</td>\n",
       "      <td>Upper</td>\n",
       "      <td>Spring</td>\n",
       "      <td>2023</td>\n",
       "      <td>African American Studies</td>\n",
       "    </tr>\n",
       "    <tr>\n",
       "      <th>3</th>\n",
       "      <td>Shtienberg Gilad</td>\n",
       "      <td>ANAR 115 - Coastal Geomorphology/Environ</td>\n",
       "      <td>SP23</td>\n",
       "      <td>3.83</td>\n",
       "      <td>3.07</td>\n",
       "      <td>ANAR</td>\n",
       "      <td>115</td>\n",
       "      <td>Upper</td>\n",
       "      <td>Spring</td>\n",
       "      <td>2023</td>\n",
       "      <td>Anthropology</td>\n",
       "    </tr>\n",
       "    <tr>\n",
       "      <th>4</th>\n",
       "      <td>Braswell Geoffrey E.</td>\n",
       "      <td>ANAR 155 - Stdy Abrd: Ancient Mesoamerica</td>\n",
       "      <td>SP23</td>\n",
       "      <td>5.17</td>\n",
       "      <td>4.00</td>\n",
       "      <td>ANAR</td>\n",
       "      <td>155</td>\n",
       "      <td>Upper</td>\n",
       "      <td>Spring</td>\n",
       "      <td>2023</td>\n",
       "      <td>Anthropology</td>\n",
       "    </tr>\n",
       "    <tr>\n",
       "      <th>5</th>\n",
       "      <td>Hrvoj Mihic Branka</td>\n",
       "      <td>ANBI 111 - Human Evolution</td>\n",
       "      <td>SP23</td>\n",
       "      <td>2.50</td>\n",
       "      <td>2.95</td>\n",
       "      <td>ANBI</td>\n",
       "      <td>111</td>\n",
       "      <td>Upper</td>\n",
       "      <td>Spring</td>\n",
       "      <td>2023</td>\n",
       "      <td>Anthropology</td>\n",
       "    </tr>\n",
       "  </tbody>\n",
       "</table>\n",
       "</div>"
      ],
      "text/plain": [
       "                 Instructor                                      Course  \\\n",
       "0  Butler Elizabeth Annette    AAS 10 - Intro/African-American Studies    \n",
       "1  Butler Elizabeth Annette             AAS 170 - Legacies of Research    \n",
       "3          Shtienberg Gilad   ANAR 115 - Coastal Geomorphology/Environ    \n",
       "4      Braswell Geoffrey E.  ANAR 155 - Stdy Abrd: Ancient Mesoamerica    \n",
       "5        Hrvoj Mihic Branka                 ANBI 111 - Human Evolution    \n",
       "\n",
       "  Quarter  Study Hours per Week  Average Grade Received Subject Code  \\\n",
       "0    SP23                  2.80                    3.67          AAS   \n",
       "1    SP23                  2.50                    3.92          AAS   \n",
       "3    SP23                  3.83                    3.07         ANAR   \n",
       "4    SP23                  5.17                    4.00         ANAR   \n",
       "5    SP23                  2.50                    2.95         ANBI   \n",
       "\n",
       "  Course Number Course Division Academic Term  Academic Year  \\\n",
       "0            10           Lower        Spring           2023   \n",
       "1           170           Upper        Spring           2023   \n",
       "3           115           Upper        Spring           2023   \n",
       "4           155           Upper        Spring           2023   \n",
       "5           111           Upper        Spring           2023   \n",
       "\n",
       "                 Department  \n",
       "0  African American Studies  \n",
       "1  African American Studies  \n",
       "3              Anthropology  \n",
       "4              Anthropology  \n",
       "5              Anthropology  "
      ]
     },
     "execution_count": 12,
     "metadata": {},
     "output_type": "execute_result"
    }
   ],
   "source": [
    "def get_department(subject):\n",
    "    return department_dict[subject]\n",
    "\n",
    "capes_df['Department'] = capes_df['Subject Code'].apply(get_department)\n",
    "capes_df.head()"
   ]
  },
  {
   "cell_type": "code",
   "execution_count": 13,
   "id": "84d56682",
   "metadata": {},
   "outputs": [
    {
     "data": {
      "text/plain": [
       "array(['African American Studies', 'Anthropology',\n",
       "       'Analytical Writing Program', 'Bioengineering', 'Biology',\n",
       "       'Sixth College Academic Programs', 'NanoEngineering Program',\n",
       "       'Critical Gender Studies', 'Chemistry & Biochemistry',\n",
       "       'Chinese Studies', 'Cognitive Science', 'Communication',\n",
       "       'Computer Science and Engineering',\n",
       "       'Dimensions of Culture Program', 'Data Science',\n",
       "       'Electrical and Computer Engineering', 'Economics',\n",
       "       'Education Studies', 'Computer Science & Engineering',\n",
       "       'Environmental Studies', 'Environmental Systems', 'Ethnic Studies',\n",
       "       'Public Health', 'Global Health Program',\n",
       "       'Human Developmental Sciences', 'History', 'Humanities',\n",
       "       'International Studies', 'Japanese Studies',\n",
       "       'Latin American Studies', 'Linguistics', 'Literature',\n",
       "       'Mechanical and Aerospace Engineering', 'Mathematics',\n",
       "       'Rady School of Management', 'Making of the Modern World', 'Music',\n",
       "       'Nanoengineering', 'Philosophy', 'Physics', 'Political Science',\n",
       "       'Psychology', 'Study of Religion', 'Structural Engineering',\n",
       "       'Scripps Institution of Oceanography', 'Sociology',\n",
       "       'Synthesis Program', 'Theatre and Dance',\n",
       "       'Urban Studies & Planning Prog', 'Visual Arts',\n",
       "       'Warren College Writing Program', 'Global South Studies',\n",
       "       'Law and Society', 'Eleanor Roosevelt College', 'Jewish Studies',\n",
       "       'Human Rights', 'Entry Level Writing Requirement',\n",
       "       'Family Medicine', 'Communication and Culture',\n",
       "       'Thurgood Marshall College'], dtype=object)"
      ]
     },
     "execution_count": 13,
     "metadata": {},
     "output_type": "execute_result"
    }
   ],
   "source": [
    "capes_df['Department'].unique()"
   ]
  },
  {
   "cell_type": "code",
   "execution_count": 14,
   "id": "9ccfecab",
   "metadata": {},
   "outputs": [
    {
     "data": {
      "text/plain": [
       "60"
      ]
     },
     "execution_count": 14,
     "metadata": {},
     "output_type": "execute_result"
    }
   ],
   "source": [
    "len(capes_df['Department'].unique())"
   ]
  },
  {
   "cell_type": "markdown",
   "id": "53455977",
   "metadata": {},
   "source": [
    "### Creating School Affiliation Column\n",
    "This column provided a lot of difficulty for us as there was a lot of overlap between departments and schools. Some departments were a part of multiple schools IE: Economy being influential in the School of Global Police & Strategy and Rady School of Management. In order to combat this we decided to just put 1 department in each school. Another issue was courses changing over the years or courses being discontinued in which finding and categorizing them became difficult.\n",
    "\n",
    "Here are the cases in which we grouped courses that didn't match with the school departments descriptions and edited some courses: \n",
    "* Overlap between Global Policy & Strategy and Rady School of Management for economy as a result we put economy in Global Policy & Strategy\n",
    "* HDS and HDP are the same department renamed \n",
    "* SOCA, SOCB, SOCC, SOCD, SOCL are old Sociology courses therefore we group with Sociology\n",
    "* COCU, COGN, COHI, COMT, COSF are old Communication courses therefore we group with Communication\n",
    "* Group DSGN with COGS\n",
    "* ENVR and ESYS are both Environmental Studies courses\n",
    "* Put intro writing, Scripps, Environmental Studies into UCSD \n",
    "* Some courses like ERC are college affilated therefore these courses will be categorized by college instead of school\n"
   ]
  },
  {
   "cell_type": "code",
   "execution_count": 15,
   "id": "197fce95",
   "metadata": {},
   "outputs": [
    {
     "data": {
      "text/html": [
       "<div>\n",
       "<style scoped>\n",
       "    .dataframe tbody tr th:only-of-type {\n",
       "        vertical-align: middle;\n",
       "    }\n",
       "\n",
       "    .dataframe tbody tr th {\n",
       "        vertical-align: top;\n",
       "    }\n",
       "\n",
       "    .dataframe thead th {\n",
       "        text-align: right;\n",
       "    }\n",
       "</style>\n",
       "<table border=\"1\" class=\"dataframe\">\n",
       "  <thead>\n",
       "    <tr style=\"text-align: right;\">\n",
       "      <th></th>\n",
       "      <th>Instructor</th>\n",
       "      <th>Course</th>\n",
       "      <th>Quarter</th>\n",
       "      <th>Study Hours per Week</th>\n",
       "      <th>Average Grade Received</th>\n",
       "      <th>Subject Code</th>\n",
       "      <th>Course Number</th>\n",
       "      <th>Course Division</th>\n",
       "      <th>Academic Term</th>\n",
       "      <th>Academic Year</th>\n",
       "      <th>Department</th>\n",
       "      <th>School Affiliation</th>\n",
       "    </tr>\n",
       "  </thead>\n",
       "  <tbody>\n",
       "    <tr>\n",
       "      <th>0</th>\n",
       "      <td>Butler Elizabeth Annette</td>\n",
       "      <td>AAS 10 - Intro/African-American Studies</td>\n",
       "      <td>SP23</td>\n",
       "      <td>2.80</td>\n",
       "      <td>3.67</td>\n",
       "      <td>AAS</td>\n",
       "      <td>10</td>\n",
       "      <td>Lower</td>\n",
       "      <td>Spring</td>\n",
       "      <td>2023</td>\n",
       "      <td>African American Studies</td>\n",
       "      <td>School of Arts and Humanities</td>\n",
       "    </tr>\n",
       "    <tr>\n",
       "      <th>1</th>\n",
       "      <td>Butler Elizabeth Annette</td>\n",
       "      <td>AAS 170 - Legacies of Research</td>\n",
       "      <td>SP23</td>\n",
       "      <td>2.50</td>\n",
       "      <td>3.92</td>\n",
       "      <td>AAS</td>\n",
       "      <td>170</td>\n",
       "      <td>Upper</td>\n",
       "      <td>Spring</td>\n",
       "      <td>2023</td>\n",
       "      <td>African American Studies</td>\n",
       "      <td>School of Arts and Humanities</td>\n",
       "    </tr>\n",
       "    <tr>\n",
       "      <th>3</th>\n",
       "      <td>Shtienberg Gilad</td>\n",
       "      <td>ANAR 115 - Coastal Geomorphology/Environ</td>\n",
       "      <td>SP23</td>\n",
       "      <td>3.83</td>\n",
       "      <td>3.07</td>\n",
       "      <td>ANAR</td>\n",
       "      <td>115</td>\n",
       "      <td>Upper</td>\n",
       "      <td>Spring</td>\n",
       "      <td>2023</td>\n",
       "      <td>Anthropology</td>\n",
       "      <td>School Of Social Sciences</td>\n",
       "    </tr>\n",
       "    <tr>\n",
       "      <th>4</th>\n",
       "      <td>Braswell Geoffrey E.</td>\n",
       "      <td>ANAR 155 - Stdy Abrd: Ancient Mesoamerica</td>\n",
       "      <td>SP23</td>\n",
       "      <td>5.17</td>\n",
       "      <td>4.00</td>\n",
       "      <td>ANAR</td>\n",
       "      <td>155</td>\n",
       "      <td>Upper</td>\n",
       "      <td>Spring</td>\n",
       "      <td>2023</td>\n",
       "      <td>Anthropology</td>\n",
       "      <td>School Of Social Sciences</td>\n",
       "    </tr>\n",
       "    <tr>\n",
       "      <th>5</th>\n",
       "      <td>Hrvoj Mihic Branka</td>\n",
       "      <td>ANBI 111 - Human Evolution</td>\n",
       "      <td>SP23</td>\n",
       "      <td>2.50</td>\n",
       "      <td>2.95</td>\n",
       "      <td>ANBI</td>\n",
       "      <td>111</td>\n",
       "      <td>Upper</td>\n",
       "      <td>Spring</td>\n",
       "      <td>2023</td>\n",
       "      <td>Anthropology</td>\n",
       "      <td>School Of Social Sciences</td>\n",
       "    </tr>\n",
       "  </tbody>\n",
       "</table>\n",
       "</div>"
      ],
      "text/plain": [
       "                 Instructor                                      Course  \\\n",
       "0  Butler Elizabeth Annette    AAS 10 - Intro/African-American Studies    \n",
       "1  Butler Elizabeth Annette             AAS 170 - Legacies of Research    \n",
       "3          Shtienberg Gilad   ANAR 115 - Coastal Geomorphology/Environ    \n",
       "4      Braswell Geoffrey E.  ANAR 155 - Stdy Abrd: Ancient Mesoamerica    \n",
       "5        Hrvoj Mihic Branka                 ANBI 111 - Human Evolution    \n",
       "\n",
       "  Quarter  Study Hours per Week  Average Grade Received Subject Code  \\\n",
       "0    SP23                  2.80                    3.67          AAS   \n",
       "1    SP23                  2.50                    3.92          AAS   \n",
       "3    SP23                  3.83                    3.07         ANAR   \n",
       "4    SP23                  5.17                    4.00         ANAR   \n",
       "5    SP23                  2.50                    2.95         ANBI   \n",
       "\n",
       "  Course Number Course Division Academic Term  Academic Year  \\\n",
       "0            10           Lower        Spring           2023   \n",
       "1           170           Upper        Spring           2023   \n",
       "3           115           Upper        Spring           2023   \n",
       "4           155           Upper        Spring           2023   \n",
       "5           111           Upper        Spring           2023   \n",
       "\n",
       "                 Department             School Affiliation  \n",
       "0  African American Studies  School of Arts and Humanities  \n",
       "1  African American Studies  School of Arts and Humanities  \n",
       "3              Anthropology      School Of Social Sciences  \n",
       "4              Anthropology      School Of Social Sciences  \n",
       "5              Anthropology      School Of Social Sciences  "
      ]
     },
     "execution_count": 15,
     "metadata": {},
     "output_type": "execute_result"
    }
   ],
   "source": [
    "# School of Arts and Humanities Courses\n",
    "school_arts_humanities = {'AWP', 'AAS', 'CHIN', 'JAPN', 'JUDA', 'TWS', 'JWSP', 'HIAF', 'HIEA', 'HIEU', \n",
    "'HIGL', 'HILA', 'HILD', 'HINE', 'HISC', 'HITO', 'HIUS', 'HUM', 'LTAM', 'LTEA', 'LTEN', 'LTEU', \n",
    "'LTKO', 'LTLA', 'LTSP', 'LTWL', 'LTWR', 'MUS', 'PHIL', 'RELI', 'TDAC', 'TDDE', 'TDDR', 'TDGE', \n",
    "'TDHT', 'TDMV', 'TDPF', 'TDPR', 'TDTR', 'VIS', 'LTCH', 'LTTH', 'LTCS', 'LTGK', 'LTGM', 'TDDM', \n",
    "'TDPW', 'LTFR', 'LTRU', 'LTIT', 'ICAM', 'TDHD', 'TDCH', 'LTAF', 'ELWR'}\n",
    "\n",
    "# School of Biological Sciences Courses\n",
    "school_biological_sciences = {'BILD', 'BIBC', 'BICD', 'BIEB', 'BIMM', 'BIPN', 'BISP', 'FMPH', 'FPMU'}\n",
    "\n",
    "# School of Global Policy & Strategy Courses\n",
    "school_policy_strategy = {'POLI', 'ECON', 'MMW', 'GSS', 'LAWS'}\n",
    "\n",
    "# Jacobs School of Engineering Courses\n",
    "jacobs_school_engineering = {'SE', 'CSE', 'ECE', 'MAE', 'CENG', 'NANO', 'ENG', 'BENG'}\n",
    "\n",
    "# School of Physical Sciences Courses\n",
    "school_physical_sciences = {'CHEM', 'MATH', 'PHYS'}\n",
    "\n",
    "# Rady School of Management Courses\n",
    "rady_school_management = {'INTL', 'MGT', 'STPA'}\n",
    "\n",
    "# School Of Social Sciences Courses\n",
    "school_social_science = {'ANAR', 'ANBI', 'ANSC', 'ANTH', 'COGS', 'CSS', 'COMM', 'CGS', 'EDS', 'ETHN', 'GLBH', 'HDP', 'HDS', \n",
    "'LATI', 'LIGN', 'LIHL', 'LISP', 'PSYC', 'SOCE', 'SOCI', 'SOCA', 'SOCB', 'SOCC', 'SOCD', 'SOCL', 'USP', 'COCU', 'COGN', \n",
    "'COHI', 'COMT', 'COSF', 'DSGN', 'HMNR'}\n",
    "\n",
    "# Halıcıoğlu Data Science Institute (HDSI) Courses\n",
    "hdsi = {'DSC'}\n",
    "\n",
    "# Scripps Institution of Oceanography Courses\n",
    "scripps = {'SIO', 'CCS', 'ESYS'}\n",
    "\n",
    "# Marshall College Courses\n",
    "marshall = {'DOC', 'TMC'}\n",
    "\n",
    "# Seventh College Courses\n",
    "seventh = {'SYN'}\n",
    "\n",
    "# Sixth College Courses\n",
    "sixth = {'CAT'}\n",
    "\n",
    "# Warren College Courses\n",
    "warren = {'WCWP'}\n",
    "\n",
    "# ERC Courses\n",
    "erc = {'ERC'}\n",
    "\n",
    "# Muir College Courses\n",
    "muir = {'ENVR'}\n",
    "\n",
    "school_dict = {\n",
    "    'School of Arts and Humanities': school_arts_humanities, \n",
    "    'School of Biological Sciences': school_biological_sciences, \n",
    "    'School of Global Policy & Strategy': school_policy_strategy,\n",
    "    'Jacobs School of Engineering': jacobs_school_engineering,\n",
    "    'School of Physical Sciences': school_physical_sciences,\n",
    "    'Rady School of Management': rady_school_management,\n",
    "    'School Of Social Sciences': school_social_science,\n",
    "    'Halıcıoğlu Data Science Institute': hdsi,\n",
    "    'Scripps Institution of Oceanography': scripps,\n",
    "    'Marshall College': marshall,\n",
    "    'Seventh College': seventh,\n",
    "    'Sixth College': sixth,\n",
    "    'Warren College': warren,\n",
    "    'ERC': erc,\n",
    "    'Muir College': muir,\n",
    "}\n",
    "\n",
    "def find_school(course):\n",
    "    for school, courses_list in school_dict.items():\n",
    "        if course in courses_list:\n",
    "            return school\n",
    "    return 'UCSD'\n",
    "\n",
    "capes_df['School Affiliation'] = capes_df['Subject Code'].apply(find_school)\n",
    "capes_df.head()"
   ]
  },
  {
   "cell_type": "markdown",
   "id": "bf0bca8d",
   "metadata": {},
   "source": [
    "### Remove Fall 2022\n",
    "Because ChatGPT was released November 2022, it is hard to use the data from Fall 2022 to determine its effects. Therefore, we will remove it."
   ]
  },
  {
   "cell_type": "code",
   "execution_count": 16,
   "id": "329c258b",
   "metadata": {},
   "outputs": [
    {
     "data": {
      "text/plain": [
       "45735"
      ]
     },
     "execution_count": 16,
     "metadata": {},
     "output_type": "execute_result"
    }
   ],
   "source": [
    "# Number of observations before filtering\n",
    "len(capes_df)"
   ]
  },
  {
   "cell_type": "code",
   "execution_count": 17,
   "id": "c893c289",
   "metadata": {
    "scrolled": true
   },
   "outputs": [
    {
     "data": {
      "text/html": [
       "<div>\n",
       "<style scoped>\n",
       "    .dataframe tbody tr th:only-of-type {\n",
       "        vertical-align: middle;\n",
       "    }\n",
       "\n",
       "    .dataframe tbody tr th {\n",
       "        vertical-align: top;\n",
       "    }\n",
       "\n",
       "    .dataframe thead th {\n",
       "        text-align: right;\n",
       "    }\n",
       "</style>\n",
       "<table border=\"1\" class=\"dataframe\">\n",
       "  <thead>\n",
       "    <tr style=\"text-align: right;\">\n",
       "      <th></th>\n",
       "      <th>Instructor</th>\n",
       "      <th>Course</th>\n",
       "      <th>Quarter</th>\n",
       "      <th>Study Hours per Week</th>\n",
       "      <th>Average Grade Received</th>\n",
       "      <th>Subject Code</th>\n",
       "      <th>Course Number</th>\n",
       "      <th>Course Division</th>\n",
       "      <th>Academic Term</th>\n",
       "      <th>Academic Year</th>\n",
       "      <th>Department</th>\n",
       "      <th>School Affiliation</th>\n",
       "    </tr>\n",
       "  </thead>\n",
       "  <tbody>\n",
       "    <tr>\n",
       "      <th>0</th>\n",
       "      <td>Butler Elizabeth Annette</td>\n",
       "      <td>AAS 10 - Intro/African-American Studies</td>\n",
       "      <td>SP23</td>\n",
       "      <td>2.80</td>\n",
       "      <td>3.67</td>\n",
       "      <td>AAS</td>\n",
       "      <td>10</td>\n",
       "      <td>Lower</td>\n",
       "      <td>Spring</td>\n",
       "      <td>2023</td>\n",
       "      <td>African American Studies</td>\n",
       "      <td>School of Arts and Humanities</td>\n",
       "    </tr>\n",
       "    <tr>\n",
       "      <th>1</th>\n",
       "      <td>Butler Elizabeth Annette</td>\n",
       "      <td>AAS 170 - Legacies of Research</td>\n",
       "      <td>SP23</td>\n",
       "      <td>2.50</td>\n",
       "      <td>3.92</td>\n",
       "      <td>AAS</td>\n",
       "      <td>170</td>\n",
       "      <td>Upper</td>\n",
       "      <td>Spring</td>\n",
       "      <td>2023</td>\n",
       "      <td>African American Studies</td>\n",
       "      <td>School of Arts and Humanities</td>\n",
       "    </tr>\n",
       "    <tr>\n",
       "      <th>3</th>\n",
       "      <td>Shtienberg Gilad</td>\n",
       "      <td>ANAR 115 - Coastal Geomorphology/Environ</td>\n",
       "      <td>SP23</td>\n",
       "      <td>3.83</td>\n",
       "      <td>3.07</td>\n",
       "      <td>ANAR</td>\n",
       "      <td>115</td>\n",
       "      <td>Upper</td>\n",
       "      <td>Spring</td>\n",
       "      <td>2023</td>\n",
       "      <td>Anthropology</td>\n",
       "      <td>School Of Social Sciences</td>\n",
       "    </tr>\n",
       "    <tr>\n",
       "      <th>4</th>\n",
       "      <td>Braswell Geoffrey E.</td>\n",
       "      <td>ANAR 155 - Stdy Abrd: Ancient Mesoamerica</td>\n",
       "      <td>SP23</td>\n",
       "      <td>5.17</td>\n",
       "      <td>4.00</td>\n",
       "      <td>ANAR</td>\n",
       "      <td>155</td>\n",
       "      <td>Upper</td>\n",
       "      <td>Spring</td>\n",
       "      <td>2023</td>\n",
       "      <td>Anthropology</td>\n",
       "      <td>School Of Social Sciences</td>\n",
       "    </tr>\n",
       "    <tr>\n",
       "      <th>5</th>\n",
       "      <td>Hrvoj Mihic Branka</td>\n",
       "      <td>ANBI 111 - Human Evolution</td>\n",
       "      <td>SP23</td>\n",
       "      <td>2.50</td>\n",
       "      <td>2.95</td>\n",
       "      <td>ANBI</td>\n",
       "      <td>111</td>\n",
       "      <td>Upper</td>\n",
       "      <td>Spring</td>\n",
       "      <td>2023</td>\n",
       "      <td>Anthropology</td>\n",
       "      <td>School Of Social Sciences</td>\n",
       "    </tr>\n",
       "  </tbody>\n",
       "</table>\n",
       "</div>"
      ],
      "text/plain": [
       "                 Instructor                                      Course  \\\n",
       "0  Butler Elizabeth Annette    AAS 10 - Intro/African-American Studies    \n",
       "1  Butler Elizabeth Annette             AAS 170 - Legacies of Research    \n",
       "3          Shtienberg Gilad   ANAR 115 - Coastal Geomorphology/Environ    \n",
       "4      Braswell Geoffrey E.  ANAR 155 - Stdy Abrd: Ancient Mesoamerica    \n",
       "5        Hrvoj Mihic Branka                 ANBI 111 - Human Evolution    \n",
       "\n",
       "  Quarter  Study Hours per Week  Average Grade Received Subject Code  \\\n",
       "0    SP23                  2.80                    3.67          AAS   \n",
       "1    SP23                  2.50                    3.92          AAS   \n",
       "3    SP23                  3.83                    3.07         ANAR   \n",
       "4    SP23                  5.17                    4.00         ANAR   \n",
       "5    SP23                  2.50                    2.95         ANBI   \n",
       "\n",
       "  Course Number Course Division Academic Term  Academic Year  \\\n",
       "0            10           Lower        Spring           2023   \n",
       "1           170           Upper        Spring           2023   \n",
       "3           115           Upper        Spring           2023   \n",
       "4           155           Upper        Spring           2023   \n",
       "5           111           Upper        Spring           2023   \n",
       "\n",
       "                 Department             School Affiliation  \n",
       "0  African American Studies  School of Arts and Humanities  \n",
       "1  African American Studies  School of Arts and Humanities  \n",
       "3              Anthropology      School Of Social Sciences  \n",
       "4              Anthropology      School Of Social Sciences  \n",
       "5              Anthropology      School Of Social Sciences  "
      ]
     },
     "execution_count": 17,
     "metadata": {},
     "output_type": "execute_result"
    }
   ],
   "source": [
    "capes_df = capes_df[(capes_df['Academic Year'] != 2022) & (capes_df['Academic Term'] != 'Fall')]\n",
    "capes_df.head()"
   ]
  },
  {
   "cell_type": "markdown",
   "id": "f5270e9e",
   "metadata": {},
   "source": [
    "### Remove COVID quarters"
   ]
  },
  {
   "cell_type": "code",
   "execution_count": 18,
   "id": "30b66d51",
   "metadata": {},
   "outputs": [
    {
     "name": "stdout",
     "output_type": "stream",
     "text": [
      "Empty DataFrame\n",
      "Columns: [Instructor, Course, Quarter, Study Hours per Week, Average Grade Received, Subject Code, Course Number, Course Division, Academic Term, Academic Year, Department, School Affiliation]\n",
      "Index: []\n",
      "Empty DataFrame\n",
      "Columns: [Instructor, Course, Quarter, Study Hours per Week, Average Grade Received, Subject Code, Course Number, Course Division, Academic Term, Academic Year, Department, School Affiliation]\n",
      "Index: []\n"
     ]
    }
   ],
   "source": [
    "# Remove COVID quarters - Spring 2020 to Fall 2021\n",
    "capes_df = capes_df[(capes_df['Academic Year'] != 2020) & ((capes_df['Academic Term'] != 'Spring') | (capes_df['Academic Term'] != 'Winter'))]\n",
    "capes_df = capes_df[(capes_df['Academic Year'] != 2021)]\n",
    "\n",
    "# Check to make sure quarters are empty\n",
    "print(capes_df[(capes_df['Academic Year'] == 2020) & ((capes_df['Academic Term'] == 'Spring') | (capes_df['Academic Term'] == 'Winter'))])\n",
    "print(capes_df[capes_df['Academic Year'] == 2021])"
   ]
  },
  {
   "cell_type": "code",
   "execution_count": 19,
   "id": "823ff498",
   "metadata": {},
   "outputs": [
    {
     "data": {
      "text/plain": [
       "24730"
      ]
     },
     "execution_count": 19,
     "metadata": {},
     "output_type": "execute_result"
    }
   ],
   "source": [
    "# Number of observations after filtering\n",
    "len(capes_df)"
   ]
  },
  {
   "cell_type": "markdown",
   "id": "a0c1f042",
   "metadata": {},
   "source": [
    "### Split data into pre and post GPT\n",
    "In order to compare the effects of ChatGPT, we will split the data into two groups."
   ]
  },
  {
   "cell_type": "code",
   "execution_count": 20,
   "id": "f07cf132",
   "metadata": {},
   "outputs": [],
   "source": [
    "# Split the data into pre and post ChatGPT\n",
    "pre_gpt = capes_df[capes_df['Academic Year'] <= 2022]\n",
    "post_gpt = capes_df[capes_df['Academic Year'] > 2022]\n",
    "\n",
    "# Remove any departments that are not found in both\n",
    "common_departments = pd.merge(pre_gpt[['Department']], post_gpt[['Department']], on='Department', how='inner')\n",
    "pre_gpt = pre_gpt[pre_gpt['Department'].isin(common_departments['Department'])]\n",
    "post_gpt = post_gpt[post_gpt['Department'].isin(common_departments['Department'])]\n",
    "\n",
    "# Remove any schools that are not found in both\n",
    "common_schools = pd.merge(pre_gpt[['School Affiliation']], post_gpt[['School Affiliation']], on='School Affiliation', how='inner')\n",
    "pre_gpt = pre_gpt[pre_gpt['School Affiliation'].isin(common_schools['School Affiliation'])]\n",
    "post_gpt = post_gpt[post_gpt['School Affiliation'].isin(common_schools['School Affiliation'])]\n",
    "\n",
    "# Remove any subject codes that are not found in both\n",
    "common_codes = pd.merge(pre_gpt[['Subject Code']], post_gpt[['Subject Code']], on='Subject Code', how='inner')\n",
    "pre_gpt = pre_gpt[pre_gpt['Subject Code'].isin(common_codes['Subject Code'])]\n",
    "post_gpt = post_gpt[post_gpt['Subject Code'].isin(common_codes['Subject Code'])]"
   ]
  },
  {
   "cell_type": "code",
   "execution_count": 21,
   "id": "15c24f32",
   "metadata": {},
   "outputs": [
    {
     "data": {
      "text/html": [
       "<div>\n",
       "<style scoped>\n",
       "    .dataframe tbody tr th:only-of-type {\n",
       "        vertical-align: middle;\n",
       "    }\n",
       "\n",
       "    .dataframe tbody tr th {\n",
       "        vertical-align: top;\n",
       "    }\n",
       "\n",
       "    .dataframe thead th {\n",
       "        text-align: right;\n",
       "    }\n",
       "</style>\n",
       "<table border=\"1\" class=\"dataframe\">\n",
       "  <thead>\n",
       "    <tr style=\"text-align: right;\">\n",
       "      <th></th>\n",
       "      <th>Instructor</th>\n",
       "      <th>Course</th>\n",
       "      <th>Quarter</th>\n",
       "      <th>Study Hours per Week</th>\n",
       "      <th>Average Grade Received</th>\n",
       "      <th>Subject Code</th>\n",
       "      <th>Course Number</th>\n",
       "      <th>Course Division</th>\n",
       "      <th>Academic Term</th>\n",
       "      <th>Academic Year</th>\n",
       "      <th>Department</th>\n",
       "      <th>School Affiliation</th>\n",
       "    </tr>\n",
       "  </thead>\n",
       "  <tbody>\n",
       "    <tr>\n",
       "      <th>18043</th>\n",
       "      <td>Braswell Geoffrey E.</td>\n",
       "      <td>ANAR 135S - Ancient Mediterranean Civ</td>\n",
       "      <td>S319</td>\n",
       "      <td>6.50</td>\n",
       "      <td>4.00</td>\n",
       "      <td>ANAR</td>\n",
       "      <td>135S</td>\n",
       "      <td>Upper</td>\n",
       "      <td>Special Summer Session 3</td>\n",
       "      <td>2019</td>\n",
       "      <td>Anthropology</td>\n",
       "      <td>School Of Social Sciences</td>\n",
       "    </tr>\n",
       "    <tr>\n",
       "      <th>18053</th>\n",
       "      <td>Saad Andrew S</td>\n",
       "      <td>ECE 100 - Linear Electronic Systems</td>\n",
       "      <td>S319</td>\n",
       "      <td>5.85</td>\n",
       "      <td>2.94</td>\n",
       "      <td>ECE</td>\n",
       "      <td>100</td>\n",
       "      <td>Upper</td>\n",
       "      <td>Special Summer Session 3</td>\n",
       "      <td>2019</td>\n",
       "      <td>Electrical and Computer Engineering</td>\n",
       "      <td>Jacobs School of Engineering</td>\n",
       "    </tr>\n",
       "    <tr>\n",
       "      <th>18054</th>\n",
       "      <td>Wishard Guerra Alison G.</td>\n",
       "      <td>EDS 115 - Cog Development &amp; Education</td>\n",
       "      <td>S319</td>\n",
       "      <td>5.83</td>\n",
       "      <td>3.95</td>\n",
       "      <td>EDS</td>\n",
       "      <td>115</td>\n",
       "      <td>Upper</td>\n",
       "      <td>Special Summer Session 3</td>\n",
       "      <td>2019</td>\n",
       "      <td>Education Studies</td>\n",
       "      <td>School Of Social Sciences</td>\n",
       "    </tr>\n",
       "    <tr>\n",
       "      <th>18055</th>\n",
       "      <td>Black Alison Michelle</td>\n",
       "      <td>EDS 117 - Language Culture &amp; Education</td>\n",
       "      <td>S319</td>\n",
       "      <td>5.37</td>\n",
       "      <td>3.94</td>\n",
       "      <td>EDS</td>\n",
       "      <td>117</td>\n",
       "      <td>Upper</td>\n",
       "      <td>Special Summer Session 3</td>\n",
       "      <td>2019</td>\n",
       "      <td>Education Studies</td>\n",
       "      <td>School Of Social Sciences</td>\n",
       "    </tr>\n",
       "    <tr>\n",
       "      <th>18056</th>\n",
       "      <td>Forbes Cheryl A</td>\n",
       "      <td>EDS 125 - HistPolic&amp;Theory/Bilingual Ed</td>\n",
       "      <td>S319</td>\n",
       "      <td>3.50</td>\n",
       "      <td>3.92</td>\n",
       "      <td>EDS</td>\n",
       "      <td>125</td>\n",
       "      <td>Upper</td>\n",
       "      <td>Special Summer Session 3</td>\n",
       "      <td>2019</td>\n",
       "      <td>Education Studies</td>\n",
       "      <td>School Of Social Sciences</td>\n",
       "    </tr>\n",
       "  </tbody>\n",
       "</table>\n",
       "</div>"
      ],
      "text/plain": [
       "                     Instructor                                    Course  \\\n",
       "18043      Braswell Geoffrey E.    ANAR 135S - Ancient Mediterranean Civ    \n",
       "18053             Saad Andrew S      ECE 100 - Linear Electronic Systems    \n",
       "18054  Wishard Guerra Alison G.    EDS 115 - Cog Development & Education    \n",
       "18055     Black Alison Michelle   EDS 117 - Language Culture & Education    \n",
       "18056           Forbes Cheryl A  EDS 125 - HistPolic&Theory/Bilingual Ed    \n",
       "\n",
       "      Quarter  Study Hours per Week  Average Grade Received Subject Code  \\\n",
       "18043    S319                  6.50                    4.00         ANAR   \n",
       "18053    S319                  5.85                    2.94          ECE   \n",
       "18054    S319                  5.83                    3.95          EDS   \n",
       "18055    S319                  5.37                    3.94          EDS   \n",
       "18056    S319                  3.50                    3.92          EDS   \n",
       "\n",
       "      Course Number Course Division             Academic Term  Academic Year  \\\n",
       "18043          135S           Upper  Special Summer Session 3           2019   \n",
       "18053           100           Upper  Special Summer Session 3           2019   \n",
       "18054           115           Upper  Special Summer Session 3           2019   \n",
       "18055           117           Upper  Special Summer Session 3           2019   \n",
       "18056           125           Upper  Special Summer Session 3           2019   \n",
       "\n",
       "                                Department            School Affiliation  \n",
       "18043                         Anthropology     School Of Social Sciences  \n",
       "18053  Electrical and Computer Engineering  Jacobs School of Engineering  \n",
       "18054                    Education Studies     School Of Social Sciences  \n",
       "18055                    Education Studies     School Of Social Sciences  \n",
       "18056                    Education Studies     School Of Social Sciences  "
      ]
     },
     "execution_count": 21,
     "metadata": {},
     "output_type": "execute_result"
    }
   ],
   "source": [
    "pre_gpt.head()"
   ]
  },
  {
   "cell_type": "code",
   "execution_count": 22,
   "id": "4cf51c50",
   "metadata": {},
   "outputs": [
    {
     "data": {
      "text/html": [
       "<div>\n",
       "<style scoped>\n",
       "    .dataframe tbody tr th:only-of-type {\n",
       "        vertical-align: middle;\n",
       "    }\n",
       "\n",
       "    .dataframe tbody tr th {\n",
       "        vertical-align: top;\n",
       "    }\n",
       "\n",
       "    .dataframe thead th {\n",
       "        text-align: right;\n",
       "    }\n",
       "</style>\n",
       "<table border=\"1\" class=\"dataframe\">\n",
       "  <thead>\n",
       "    <tr style=\"text-align: right;\">\n",
       "      <th></th>\n",
       "      <th>Instructor</th>\n",
       "      <th>Course</th>\n",
       "      <th>Quarter</th>\n",
       "      <th>Study Hours per Week</th>\n",
       "      <th>Average Grade Received</th>\n",
       "      <th>Subject Code</th>\n",
       "      <th>Course Number</th>\n",
       "      <th>Course Division</th>\n",
       "      <th>Academic Term</th>\n",
       "      <th>Academic Year</th>\n",
       "      <th>Department</th>\n",
       "      <th>School Affiliation</th>\n",
       "    </tr>\n",
       "  </thead>\n",
       "  <tbody>\n",
       "    <tr>\n",
       "      <th>0</th>\n",
       "      <td>Butler Elizabeth Annette</td>\n",
       "      <td>AAS 10 - Intro/African-American Studies</td>\n",
       "      <td>SP23</td>\n",
       "      <td>2.80</td>\n",
       "      <td>3.67</td>\n",
       "      <td>AAS</td>\n",
       "      <td>10</td>\n",
       "      <td>Lower</td>\n",
       "      <td>Spring</td>\n",
       "      <td>2023</td>\n",
       "      <td>African American Studies</td>\n",
       "      <td>School of Arts and Humanities</td>\n",
       "    </tr>\n",
       "    <tr>\n",
       "      <th>1</th>\n",
       "      <td>Butler Elizabeth Annette</td>\n",
       "      <td>AAS 170 - Legacies of Research</td>\n",
       "      <td>SP23</td>\n",
       "      <td>2.50</td>\n",
       "      <td>3.92</td>\n",
       "      <td>AAS</td>\n",
       "      <td>170</td>\n",
       "      <td>Upper</td>\n",
       "      <td>Spring</td>\n",
       "      <td>2023</td>\n",
       "      <td>African American Studies</td>\n",
       "      <td>School of Arts and Humanities</td>\n",
       "    </tr>\n",
       "    <tr>\n",
       "      <th>3</th>\n",
       "      <td>Shtienberg Gilad</td>\n",
       "      <td>ANAR 115 - Coastal Geomorphology/Environ</td>\n",
       "      <td>SP23</td>\n",
       "      <td>3.83</td>\n",
       "      <td>3.07</td>\n",
       "      <td>ANAR</td>\n",
       "      <td>115</td>\n",
       "      <td>Upper</td>\n",
       "      <td>Spring</td>\n",
       "      <td>2023</td>\n",
       "      <td>Anthropology</td>\n",
       "      <td>School Of Social Sciences</td>\n",
       "    </tr>\n",
       "    <tr>\n",
       "      <th>4</th>\n",
       "      <td>Braswell Geoffrey E.</td>\n",
       "      <td>ANAR 155 - Stdy Abrd: Ancient Mesoamerica</td>\n",
       "      <td>SP23</td>\n",
       "      <td>5.17</td>\n",
       "      <td>4.00</td>\n",
       "      <td>ANAR</td>\n",
       "      <td>155</td>\n",
       "      <td>Upper</td>\n",
       "      <td>Spring</td>\n",
       "      <td>2023</td>\n",
       "      <td>Anthropology</td>\n",
       "      <td>School Of Social Sciences</td>\n",
       "    </tr>\n",
       "    <tr>\n",
       "      <th>5</th>\n",
       "      <td>Hrvoj Mihic Branka</td>\n",
       "      <td>ANBI 111 - Human Evolution</td>\n",
       "      <td>SP23</td>\n",
       "      <td>2.50</td>\n",
       "      <td>2.95</td>\n",
       "      <td>ANBI</td>\n",
       "      <td>111</td>\n",
       "      <td>Upper</td>\n",
       "      <td>Spring</td>\n",
       "      <td>2023</td>\n",
       "      <td>Anthropology</td>\n",
       "      <td>School Of Social Sciences</td>\n",
       "    </tr>\n",
       "  </tbody>\n",
       "</table>\n",
       "</div>"
      ],
      "text/plain": [
       "                 Instructor                                      Course  \\\n",
       "0  Butler Elizabeth Annette    AAS 10 - Intro/African-American Studies    \n",
       "1  Butler Elizabeth Annette             AAS 170 - Legacies of Research    \n",
       "3          Shtienberg Gilad   ANAR 115 - Coastal Geomorphology/Environ    \n",
       "4      Braswell Geoffrey E.  ANAR 155 - Stdy Abrd: Ancient Mesoamerica    \n",
       "5        Hrvoj Mihic Branka                 ANBI 111 - Human Evolution    \n",
       "\n",
       "  Quarter  Study Hours per Week  Average Grade Received Subject Code  \\\n",
       "0    SP23                  2.80                    3.67          AAS   \n",
       "1    SP23                  2.50                    3.92          AAS   \n",
       "3    SP23                  3.83                    3.07         ANAR   \n",
       "4    SP23                  5.17                    4.00         ANAR   \n",
       "5    SP23                  2.50                    2.95         ANBI   \n",
       "\n",
       "  Course Number Course Division Academic Term  Academic Year  \\\n",
       "0            10           Lower        Spring           2023   \n",
       "1           170           Upper        Spring           2023   \n",
       "3           115           Upper        Spring           2023   \n",
       "4           155           Upper        Spring           2023   \n",
       "5           111           Upper        Spring           2023   \n",
       "\n",
       "                 Department             School Affiliation  \n",
       "0  African American Studies  School of Arts and Humanities  \n",
       "1  African American Studies  School of Arts and Humanities  \n",
       "3              Anthropology      School Of Social Sciences  \n",
       "4              Anthropology      School Of Social Sciences  \n",
       "5              Anthropology      School Of Social Sciences  "
      ]
     },
     "execution_count": 22,
     "metadata": {},
     "output_type": "execute_result"
    }
   ],
   "source": [
    "post_gpt.head()"
   ]
  },
  {
   "cell_type": "markdown",
   "id": "a4c0bc68",
   "metadata": {},
   "source": [
    "### Concating both Dataframe\n",
    "This new dataframe will be used to test if our data is statistically significant for the EDA. We will concat both dataframes and add a new column called 'Label' that categorizes the data if it's pre or post data. "
   ]
  },
  {
   "cell_type": "code",
   "execution_count": 23,
   "id": "7d6b625d",
   "metadata": {},
   "outputs": [
    {
     "data": {
      "text/html": [
       "<div>\n",
       "<style scoped>\n",
       "    .dataframe tbody tr th:only-of-type {\n",
       "        vertical-align: middle;\n",
       "    }\n",
       "\n",
       "    .dataframe tbody tr th {\n",
       "        vertical-align: top;\n",
       "    }\n",
       "\n",
       "    .dataframe thead th {\n",
       "        text-align: right;\n",
       "    }\n",
       "</style>\n",
       "<table border=\"1\" class=\"dataframe\">\n",
       "  <thead>\n",
       "    <tr style=\"text-align: right;\">\n",
       "      <th></th>\n",
       "      <th>Instructor</th>\n",
       "      <th>Course</th>\n",
       "      <th>Quarter</th>\n",
       "      <th>Study_Hours</th>\n",
       "      <th>Average_Grade</th>\n",
       "      <th>Subject_Code</th>\n",
       "      <th>Course Number</th>\n",
       "      <th>Course_Division</th>\n",
       "      <th>Academic Term</th>\n",
       "      <th>Academic Year</th>\n",
       "      <th>Department</th>\n",
       "      <th>School_Affiliation</th>\n",
       "      <th>Label</th>\n",
       "    </tr>\n",
       "  </thead>\n",
       "  <tbody>\n",
       "    <tr>\n",
       "      <th>0</th>\n",
       "      <td>Braswell Geoffrey E.</td>\n",
       "      <td>ANAR 135S - Ancient Mediterranean Civ</td>\n",
       "      <td>S319</td>\n",
       "      <td>6.50</td>\n",
       "      <td>4.00</td>\n",
       "      <td>ANAR</td>\n",
       "      <td>135S</td>\n",
       "      <td>Upper</td>\n",
       "      <td>Special Summer Session 3</td>\n",
       "      <td>2019</td>\n",
       "      <td>Anthropology</td>\n",
       "      <td>School Of Social Sciences</td>\n",
       "      <td>Pre</td>\n",
       "    </tr>\n",
       "    <tr>\n",
       "      <th>1</th>\n",
       "      <td>Saad Andrew S</td>\n",
       "      <td>ECE 100 - Linear Electronic Systems</td>\n",
       "      <td>S319</td>\n",
       "      <td>5.85</td>\n",
       "      <td>2.94</td>\n",
       "      <td>ECE</td>\n",
       "      <td>100</td>\n",
       "      <td>Upper</td>\n",
       "      <td>Special Summer Session 3</td>\n",
       "      <td>2019</td>\n",
       "      <td>Electrical and Computer Engineering</td>\n",
       "      <td>Jacobs School of Engineering</td>\n",
       "      <td>Pre</td>\n",
       "    </tr>\n",
       "    <tr>\n",
       "      <th>2</th>\n",
       "      <td>Wishard Guerra Alison G.</td>\n",
       "      <td>EDS 115 - Cog Development &amp; Education</td>\n",
       "      <td>S319</td>\n",
       "      <td>5.83</td>\n",
       "      <td>3.95</td>\n",
       "      <td>EDS</td>\n",
       "      <td>115</td>\n",
       "      <td>Upper</td>\n",
       "      <td>Special Summer Session 3</td>\n",
       "      <td>2019</td>\n",
       "      <td>Education Studies</td>\n",
       "      <td>School Of Social Sciences</td>\n",
       "      <td>Pre</td>\n",
       "    </tr>\n",
       "    <tr>\n",
       "      <th>3</th>\n",
       "      <td>Black Alison Michelle</td>\n",
       "      <td>EDS 117 - Language Culture &amp; Education</td>\n",
       "      <td>S319</td>\n",
       "      <td>5.37</td>\n",
       "      <td>3.94</td>\n",
       "      <td>EDS</td>\n",
       "      <td>117</td>\n",
       "      <td>Upper</td>\n",
       "      <td>Special Summer Session 3</td>\n",
       "      <td>2019</td>\n",
       "      <td>Education Studies</td>\n",
       "      <td>School Of Social Sciences</td>\n",
       "      <td>Pre</td>\n",
       "    </tr>\n",
       "    <tr>\n",
       "      <th>4</th>\n",
       "      <td>Forbes Cheryl A</td>\n",
       "      <td>EDS 125 - HistPolic&amp;Theory/Bilingual Ed</td>\n",
       "      <td>S319</td>\n",
       "      <td>3.50</td>\n",
       "      <td>3.92</td>\n",
       "      <td>EDS</td>\n",
       "      <td>125</td>\n",
       "      <td>Upper</td>\n",
       "      <td>Special Summer Session 3</td>\n",
       "      <td>2019</td>\n",
       "      <td>Education Studies</td>\n",
       "      <td>School Of Social Sciences</td>\n",
       "      <td>Pre</td>\n",
       "    </tr>\n",
       "    <tr>\n",
       "      <th>...</th>\n",
       "      <td>...</td>\n",
       "      <td>...</td>\n",
       "      <td>...</td>\n",
       "      <td>...</td>\n",
       "      <td>...</td>\n",
       "      <td>...</td>\n",
       "      <td>...</td>\n",
       "      <td>...</td>\n",
       "      <td>...</td>\n",
       "      <td>...</td>\n",
       "      <td>...</td>\n",
       "      <td>...</td>\n",
       "      <td>...</td>\n",
       "    </tr>\n",
       "    <tr>\n",
       "      <th>23814</th>\n",
       "      <td>Boulter Sherry Lee</td>\n",
       "      <td>WCWP 10B - The Writing Course B</td>\n",
       "      <td>WI23</td>\n",
       "      <td>3.69</td>\n",
       "      <td>3.79</td>\n",
       "      <td>WCWP</td>\n",
       "      <td>10B</td>\n",
       "      <td>Lower</td>\n",
       "      <td>Winter</td>\n",
       "      <td>2023</td>\n",
       "      <td>Warren College Writing Program</td>\n",
       "      <td>Warren College</td>\n",
       "      <td>Post</td>\n",
       "    </tr>\n",
       "    <tr>\n",
       "      <th>23815</th>\n",
       "      <td>Johnson Eric Lynn</td>\n",
       "      <td>WCWP 10B - The Writing Course B</td>\n",
       "      <td>WI23</td>\n",
       "      <td>2.93</td>\n",
       "      <td>3.90</td>\n",
       "      <td>WCWP</td>\n",
       "      <td>10B</td>\n",
       "      <td>Lower</td>\n",
       "      <td>Winter</td>\n",
       "      <td>2023</td>\n",
       "      <td>Warren College Writing Program</td>\n",
       "      <td>Warren College</td>\n",
       "      <td>Post</td>\n",
       "    </tr>\n",
       "    <tr>\n",
       "      <th>23816</th>\n",
       "      <td>Savage Sarah S</td>\n",
       "      <td>WCWP 10B - The Writing Course B</td>\n",
       "      <td>WI23</td>\n",
       "      <td>3.99</td>\n",
       "      <td>3.93</td>\n",
       "      <td>WCWP</td>\n",
       "      <td>10B</td>\n",
       "      <td>Lower</td>\n",
       "      <td>Winter</td>\n",
       "      <td>2023</td>\n",
       "      <td>Warren College Writing Program</td>\n",
       "      <td>Warren College</td>\n",
       "      <td>Post</td>\n",
       "    </tr>\n",
       "    <tr>\n",
       "      <th>23817</th>\n",
       "      <td>Tocki Jasmine Rae</td>\n",
       "      <td>WCWP 10B - The Writing Course B</td>\n",
       "      <td>WI23</td>\n",
       "      <td>4.17</td>\n",
       "      <td>3.86</td>\n",
       "      <td>WCWP</td>\n",
       "      <td>10B</td>\n",
       "      <td>Lower</td>\n",
       "      <td>Winter</td>\n",
       "      <td>2023</td>\n",
       "      <td>Warren College Writing Program</td>\n",
       "      <td>Warren College</td>\n",
       "      <td>Post</td>\n",
       "    </tr>\n",
       "    <tr>\n",
       "      <th>23818</th>\n",
       "      <td>Welji Haleema Nazir</td>\n",
       "      <td>WCWP 10B - The Writing Course B</td>\n",
       "      <td>WI23</td>\n",
       "      <td>3.79</td>\n",
       "      <td>3.77</td>\n",
       "      <td>WCWP</td>\n",
       "      <td>10B</td>\n",
       "      <td>Lower</td>\n",
       "      <td>Winter</td>\n",
       "      <td>2023</td>\n",
       "      <td>Warren College Writing Program</td>\n",
       "      <td>Warren College</td>\n",
       "      <td>Post</td>\n",
       "    </tr>\n",
       "  </tbody>\n",
       "</table>\n",
       "<p>23819 rows × 13 columns</p>\n",
       "</div>"
      ],
      "text/plain": [
       "                     Instructor                                    Course  \\\n",
       "0          Braswell Geoffrey E.    ANAR 135S - Ancient Mediterranean Civ    \n",
       "1                 Saad Andrew S      ECE 100 - Linear Electronic Systems    \n",
       "2      Wishard Guerra Alison G.    EDS 115 - Cog Development & Education    \n",
       "3         Black Alison Michelle   EDS 117 - Language Culture & Education    \n",
       "4               Forbes Cheryl A  EDS 125 - HistPolic&Theory/Bilingual Ed    \n",
       "...                         ...                                       ...   \n",
       "23814        Boulter Sherry Lee          WCWP 10B - The Writing Course B    \n",
       "23815         Johnson Eric Lynn          WCWP 10B - The Writing Course B    \n",
       "23816            Savage Sarah S          WCWP 10B - The Writing Course B    \n",
       "23817         Tocki Jasmine Rae          WCWP 10B - The Writing Course B    \n",
       "23818       Welji Haleema Nazir          WCWP 10B - The Writing Course B    \n",
       "\n",
       "      Quarter  Study_Hours  Average_Grade Subject_Code Course Number  \\\n",
       "0        S319         6.50           4.00         ANAR          135S   \n",
       "1        S319         5.85           2.94          ECE           100   \n",
       "2        S319         5.83           3.95          EDS           115   \n",
       "3        S319         5.37           3.94          EDS           117   \n",
       "4        S319         3.50           3.92          EDS           125   \n",
       "...       ...          ...            ...          ...           ...   \n",
       "23814    WI23         3.69           3.79         WCWP           10B   \n",
       "23815    WI23         2.93           3.90         WCWP           10B   \n",
       "23816    WI23         3.99           3.93         WCWP           10B   \n",
       "23817    WI23         4.17           3.86         WCWP           10B   \n",
       "23818    WI23         3.79           3.77         WCWP           10B   \n",
       "\n",
       "      Course_Division             Academic Term  Academic Year  \\\n",
       "0               Upper  Special Summer Session 3           2019   \n",
       "1               Upper  Special Summer Session 3           2019   \n",
       "2               Upper  Special Summer Session 3           2019   \n",
       "3               Upper  Special Summer Session 3           2019   \n",
       "4               Upper  Special Summer Session 3           2019   \n",
       "...               ...                       ...            ...   \n",
       "23814           Lower                    Winter           2023   \n",
       "23815           Lower                    Winter           2023   \n",
       "23816           Lower                    Winter           2023   \n",
       "23817           Lower                    Winter           2023   \n",
       "23818           Lower                    Winter           2023   \n",
       "\n",
       "                                Department            School_Affiliation Label  \n",
       "0                             Anthropology     School Of Social Sciences   Pre  \n",
       "1      Electrical and Computer Engineering  Jacobs School of Engineering   Pre  \n",
       "2                        Education Studies     School Of Social Sciences   Pre  \n",
       "3                        Education Studies     School Of Social Sciences   Pre  \n",
       "4                        Education Studies     School Of Social Sciences   Pre  \n",
       "...                                    ...                           ...   ...  \n",
       "23814       Warren College Writing Program                Warren College  Post  \n",
       "23815       Warren College Writing Program                Warren College  Post  \n",
       "23816       Warren College Writing Program                Warren College  Post  \n",
       "23817       Warren College Writing Program                Warren College  Post  \n",
       "23818       Warren College Writing Program                Warren College  Post  \n",
       "\n",
       "[23819 rows x 13 columns]"
      ]
     },
     "execution_count": 23,
     "metadata": {},
     "output_type": "execute_result"
    }
   ],
   "source": [
    "def categorize(year):\n",
    "    if year > 2022:\n",
    "        return 'Post'\n",
    "    else:\n",
    "        return 'Pre'\n",
    "\n",
    "eda_df = pd.concat([pre_gpt, post_gpt]).reset_index(drop=True)\n",
    "eda_df['Label'] = eda_df['Academic Year'].apply(categorize)\n",
    "eda_df.rename(columns={'Study Hours per Week': 'Study_Hours',\n",
    "                        'Average Grade Received': 'Average_Grade',\n",
    "                       'Subject Code': 'Subject_Code', \n",
    "                      'Course Division': 'Course_Division',\n",
    "                      'School Affiliation': 'School_Affiliation'}, inplace=True)\n",
    "eda_df"
   ]
  },
  {
   "cell_type": "markdown",
   "id": "1942ac4e",
   "metadata": {},
   "source": [
    "# Results\n",
    "\n",
    "## Exploratory Data Analysis\n",
    "\n",
    "In order to analyze the affect of ChatGPT on UCSD students' learning outcome, we will be studying changes in the number of study hours per week and average grade received in each course. Additionally, to ensure the accuracy of our analysis, we will categorize the courses into specific groups based on relevant criteria."
   ]
  },
  {
   "cell_type": "markdown",
   "id": "10b3c7fc",
   "metadata": {},
   "source": [
    "### Study Hours per Week\n",
    "ChatGPT has essentially become a resource hub, making it easier for student to get answers to their questions. Because of its efficiency, we predict that students are taking less time to study because they are able to rely on ChatGPT more. \n",
    "\n",
    "Let's compare number of hours spent studying per week for years leading up to ChatGPT's release with the years after. "
   ]
  },
  {
   "cell_type": "markdown",
   "id": "00dcc4fe",
   "metadata": {},
   "source": [
    "First, we will plot the overall comparison:"
   ]
  },
  {
   "cell_type": "code",
   "execution_count": 24,
   "id": "2bb577ac",
   "metadata": {},
   "outputs": [
    {
     "data": {
      "text/plain": [
       "<matplotlib.legend.Legend at 0x7efa88d79e80>"
      ]
     },
     "execution_count": 24,
     "metadata": {},
     "output_type": "execute_result"
    },
    {
     "data": {
      "image/png": "[encoded data removed]",
      "text/plain": [
       "<Figure size 432x288 with 1 Axes>"
      ]
     },
     "metadata": {
      "needs_background": "light"
     },
     "output_type": "display_data"
    }
   ],
   "source": [
    "# Plot Overall Comparison\n",
    "pre_gpt_hours = pre_gpt['Study Hours per Week']\n",
    "post_gpt_hours = post_gpt['Study Hours per Week']\n",
    "\n",
    "plt.hist(pre_gpt_hours, label = \"Pre-ChatGPT\", density = True, bins = 30, color='#cfcfcf')\n",
    "plt.hist(post_gpt_hours, alpha = 0.5, label = \"Post-ChatGPT\", density = True, bins = 30, color='#74AA9C')\n",
    "plt.title(\"Study Hours per Week\")\n",
    "plt.xlabel(\"Hours\")\n",
    "plt.ylabel(\"Density\")\n",
    "plt.legend()"
   ]
  },
  {
   "cell_type": "markdown",
   "id": "b5b6f960",
   "metadata": {},
   "source": [
    "Here, we can see that the distribution of hours spent studying per week for Post-ChatGPT courses slightly differs from the distribution for Pre-ChatGPT courses. The distribution of Post-ChatGPT compared to Pre-ChatGPT indicates a smaller mode (earlier peak) which suggests a lower mean for the Post-ChatGPT dataset. However, because the mean is sensitive to outliers, this conclusion isn’t definitive as the Post-ChatGPT distribution surpasses that of the Pre-ChatGPT distribution within the range of 10 to 15 hours."
   ]
  },
  {
   "cell_type": "code",
   "execution_count": 77,
   "id": "1ca93c70",
   "metadata": {},
   "outputs": [
    {
     "data": {
      "image/png": "[encoded data removed]",
      "text/plain": [
       "<Figure size 576x432 with 1 Axes>"
      ]
     },
     "metadata": {
      "needs_background": "light"
     },
     "output_type": "display_data"
    }
   ],
   "source": [
    "pre_mean = pre_gpt_hours.mean()\n",
    "post_mean = post_gpt_hours.mean()\n",
    "\n",
    "plt.figure(figsize=(8, 6))\n",
    "plt.bar(['Pre GPT', 'Post GPT'], [pre_mean, post_mean],color=['#cfcfcf', '#74AA9C'])\n",
    "\n",
    "for index, value in enumerate([pre_mean, post_mean]):\n",
    "    plt.text(index, value + 0.1, str(round(value, 2)), ha='center', va='top')\n",
    "    \n",
    "plt.xlabel('Time Period')\n",
    "plt.ylabel('Mean')\n",
    "plt.title('Mean Study Hours')\n",
    "plt.show()"
   ]
  },
  {
   "cell_type": "markdown",
   "id": "90b8c68c",
   "metadata": {},
   "source": [
    "Although the overall mean study hours for Post-ChatGPT is greater than the overall mean study hours for Pre-ChatGPT, this difference is not significant as a difference of 0.15 in study hours is a difference of 9 minutes. This is a surprising result as our distribution indicates a small mode which we will explore more as we divide our dataset into different subgroups.\n",
    "\n",
    "<b>Study Hours per Week by Subject Code: </b>"
   ]
  },
  {
   "cell_type": "code",
   "execution_count": 25,
   "id": "033b2e86",
   "metadata": {},
   "outputs": [
    {
     "data": {
      "image/png": "[encoded data removed]",
      "text/plain": [
       "<Figure size 720x288 with 1 Axes>"
      ]
     },
     "metadata": {
      "needs_background": "light"
     },
     "output_type": "display_data"
    }
   ],
   "source": [
    "subject_codes = capes_df['Subject Code'].unique()\n",
    "subject_codes_dict = {code: i for i, code in enumerate(subject_codes)}\n",
    "\n",
    "plt.figure(figsize=(10, 4))\n",
    "\n",
    "plt.scatter(pre_gpt['Subject Code'], pre_gpt['Study Hours per Week'], alpha=0.6, label='Pre-ChatGPT', s=80, color='#cfcfcf')\n",
    "plt.scatter(post_gpt['Subject Code'], post_gpt['Study Hours per Week'], alpha=0.6, label='Post-ChatGPT', s=80, color='#74AA9C')\n",
    "\n",
    "# Adding labels and legend\n",
    "plt.xlabel('Grouped by Subject Codes')\n",
    "plt.ylabel('Study Hours per Week')\n",
    "plt.title('Study Hours per Week by Subject Code Before and After ChatGPT')\n",
    "plt.legend()\n",
    "\n",
    "# Improve the x-axis: replace numeric labels with subject codes\n",
    "# plt.xticks(ticks=np.arange(len(subject_codes)), labels=subject_codes, rotation='vertical')\n",
    "plt.xticks([])\n",
    "\n",
    "# Show plot\n",
    "plt.tight_layout()  # Adjusts subplot params to give some padding\n",
    "plt.show()"
   ]
  },
  {
   "cell_type": "markdown",
   "id": "c3c80840",
   "metadata": {},
   "source": [
    "From the scatter plot we can see that the study hours per week becomes more condensed for Post-ChatGPT courses when divided by subject codes. In some cases we can clearly see that the average study hours decreased for certain subjects Post-ChatGPT. \n",
    "\n"
   ]
  },
  {
   "cell_type": "code",
   "execution_count": 82,
   "id": "88b24048",
   "metadata": {},
   "outputs": [
    {
     "data": {
      "text/plain": [
       "0       NaN\n",
       "1       NaN\n",
       "3       NaN\n",
       "4       NaN\n",
       "5       NaN\n",
       "         ..\n",
       "62128   NaN\n",
       "62131   NaN\n",
       "62132   NaN\n",
       "62134   NaN\n",
       "62135   NaN\n",
       "Name: Study Hours per Week, Length: 23819, dtype: float64"
      ]
     },
     "execution_count": 82,
     "metadata": {},
     "output_type": "execute_result"
    }
   ],
   "source": [
    "# Plot differences by course division\n",
    "diff = post_gpt['Study Hours per Week'] - pre_gpt['Study Hours per Week']\n",
    "diff\n",
    "\n",
    "\n",
    "\n",
    "\n"
   ]
  },
  {
   "cell_type": "markdown",
   "id": "6f13b7b3",
   "metadata": {},
   "source": [
    "<b>Study Hours per Week by Course Divison: </b>"
   ]
  },
  {
   "cell_type": "code",
   "execution_count": 26,
   "id": "a2c7508e",
   "metadata": {
    "scrolled": true
   },
   "outputs": [
    {
     "data": {
      "image/png": "[encoded data removed]",
      "text/plain": [
       "<Figure size 720x432 with 1 Axes>"
      ]
     },
     "metadata": {
      "needs_background": "light"
     },
     "output_type": "display_data"
    }
   ],
   "source": [
    "pre_gpt_grouped = pre_gpt.groupby('Course Division')['Study Hours per Week'].mean().reset_index()\n",
    "post_gpt_grouped = post_gpt.groupby('Course Division')['Study Hours per Week'].mean().reset_index()\n",
    "\n",
    "# Ensure both grouped DataFrames have the same 'Subject Code' order for consistent plotting\n",
    "post_gpt_grouped = post_gpt_grouped.set_index('Course Division').reindex(index=pre_gpt_grouped['Course Division']).reset_index()\n",
    "\n",
    "fig, ax = plt.subplots(figsize=(10, 6))\n",
    "\n",
    "# Setting the positions of the bars\n",
    "bar_width = 0.35\n",
    "index = np.arange(len(pre_gpt_grouped['Course Division']))\n",
    "\n",
    "# Plotting both 'Pre' and 'Post' bars\n",
    "bars1 = plt.bar(index, pre_gpt_grouped['Study Hours per Week'], bar_width,\n",
    "                label='Pre-ChatGPT', color='#cfcfcf')\n",
    "\n",
    "bars2 = plt.bar(index + bar_width, post_gpt_grouped['Study Hours per Week'], bar_width,\n",
    "                label='Post-ChatGPT', color='#74AA9C')\n",
    "\n",
    "# Additional plot formatting\n",
    "plt.xlabel('Course Division')\n",
    "plt.ylabel('Average Study Hours per Week')\n",
    "plt.title('Average Study Hours per Week by Course Division: Pre vs. Post ChatGPT')\n",
    "plt.xticks(index + bar_width / 2, pre_gpt_grouped['Course Division'])\n",
    "plt.legend()\n",
    "\n",
    "plt.tight_layout()\n",
    "plt.show()"
   ]
  },
  {
   "cell_type": "markdown",
   "id": "9a9f2f75",
   "metadata": {},
   "source": [
    "We can see that the number of hours spent studying per week is lower after ChatGPT was released for both lower and upper division classes."
   ]
  },
  {
   "cell_type": "markdown",
   "id": "da423480",
   "metadata": {},
   "source": [
    "<b>Study Hours per Week by Departmnet: </b>"
   ]
  },
  {
   "cell_type": "code",
   "execution_count": 27,
   "id": "a597c208",
   "metadata": {},
   "outputs": [
    {
     "data": {
      "image/png": "[encoded data removed]",
      "text/plain": [
       "<Figure size 576x288 with 1 Axes>"
      ]
     },
     "metadata": {
      "needs_background": "light"
     },
     "output_type": "display_data"
    }
   ],
   "source": [
    "subject_codes = capes_df['Department'].unique()\n",
    "subject_codes_dict = {code: i for i, code in enumerate(subject_codes)}\n",
    "\n",
    "plt.figure(figsize=(8, 4))\n",
    "\n",
    "plt.scatter(pre_gpt['Department'], pre_gpt['Study Hours per Week'], alpha=0.6, label='Pre-ChatGPT', s=100, color='#cfcfcf')\n",
    "plt.scatter(post_gpt['Department'], post_gpt['Study Hours per Week'], alpha=0.6, label='Post-ChatGPT', s=100, color='#74AA9C')\n",
    "\n",
    "# Adding labels and legend\n",
    "plt.xlabel('Grouped by Department')\n",
    "plt.ylabel('Study Hours per Week')\n",
    "plt.title('Study Hours per Week by Department Before and After ChatGPT')\n",
    "plt.legend()\n",
    "\n",
    "# Improve the x-axis: replace numeric labels with subject codes\n",
    "# plt.xticks(ticks=np.arange(len(subject_codes)), labels=subject_codes, rotation='vertical')\n",
    "plt.xticks([])\n",
    "\n",
    "# Show plot\n",
    "plt.tight_layout()  # Adjusts subplot params to give some padding\n",
    "plt.show()"
   ]
  },
  {
   "cell_type": "markdown",
   "id": "afceae18",
   "metadata": {},
   "source": [
    "<b>Study Hours per Week by Schools: </b>"
   ]
  },
  {
   "cell_type": "code",
   "execution_count": 28,
   "id": "445049e8",
   "metadata": {},
   "outputs": [
    {
     "data": {
      "image/png": "[encoded data removed]",
      "text/plain": [
       "<Figure size 720x720 with 1 Axes>"
      ]
     },
     "metadata": {
      "needs_background": "light"
     },
     "output_type": "display_data"
    }
   ],
   "source": [
    "pre_gpt_grouped = pre_gpt.groupby('School Affiliation')['Study Hours per Week'].mean().reset_index()\n",
    "post_gpt_grouped = post_gpt.groupby('School Affiliation')['Study Hours per Week'].mean().reset_index()\n",
    "\n",
    "# Ensure both grouped DataFrames have the same 'Subject Code' order for consistent plotting\n",
    "post_gpt_grouped = post_gpt_grouped.set_index('School Affiliation').reindex(index=pre_gpt_grouped['School Affiliation']).reset_index()\n",
    "\n",
    "fig, ax = plt.subplots(figsize=(10, 10))\n",
    "\n",
    "# Setting the positions of the bars\n",
    "bar_width = 0.8\n",
    "index = np.arange(len(pre_gpt_grouped['School Affiliation']))\n",
    "\n",
    "# Plotting both 'Pre' and 'Post' bars\n",
    "bars1 = plt.bar(index, pre_gpt_grouped['Study Hours per Week'], bar_width,\n",
    "                label='Pre-ChatGPT', color='#cfcfcf')\n",
    "\n",
    "bars2 = plt.bar(index + 0.15, post_gpt_grouped['Study Hours per Week'], bar_width,\n",
    "                label='Post-ChatGPT', alpha=0.6, color='#74AA9C')\n",
    "\n",
    "# Additional plot formatting\n",
    "plt.xlabel('School Affiliation')\n",
    "plt.ylabel('Average Study Hours per Week')\n",
    "plt.title('Average Study Hours per Week by School Affiliation: Pre vs. Post ChatGPT')\n",
    "plt.xticks(index, pre_gpt_grouped['School Affiliation'], rotation=70)\n",
    "plt.legend()\n",
    "\n",
    "plt.tight_layout()\n",
    "plt.show()"
   ]
  },
  {
   "cell_type": "markdown",
   "id": "955cbfe5",
   "metadata": {},
   "source": [
    "***Write some conclusion HERE***"
   ]
  },
  {
   "cell_type": "markdown",
   "id": "ae5cee47",
   "metadata": {},
   "source": [
    "### Average Grade Received\n",
    "\n",
    "Next, we will analyze the affect of GPT on students' grades, using the same criteria as Study Hours per Week above."
   ]
  },
  {
   "cell_type": "markdown",
   "id": "d2ecd92d",
   "metadata": {},
   "source": [
    "First, let's plot the overall comparison:"
   ]
  },
  {
   "cell_type": "code",
   "execution_count": 29,
   "id": "8520c402",
   "metadata": {},
   "outputs": [
    {
     "data": {
      "text/plain": [
       "<matplotlib.legend.Legend at 0x7efa89b61e80>"
      ]
     },
     "execution_count": 29,
     "metadata": {},
     "output_type": "execute_result"
    },
    {
     "data": {
      "image/png": "[encoded data removed]",
      "text/plain": [
       "<Figure size 432x288 with 1 Axes>"
      ]
     },
     "metadata": {
      "needs_background": "light"
     },
     "output_type": "display_data"
    }
   ],
   "source": [
    "# Plot Overall Comparison\n",
    "pre_gpt_hours = pre_gpt['Average Grade Received']\n",
    "post_gpt_hours = post_gpt['Average Grade Received']\n",
    "\n",
    "plt.hist(pre_gpt_hours, label = \"Pre-ChatGPT\", density = True, bins = 30, color='#cfcfcf')\n",
    "plt.hist(post_gpt_hours, alpha = 0.5, label = \"Post-ChatGPT\", density = True, bins = 30, color='#74AA9C')\n",
    "plt.title(\"Average Grade Received\")\n",
    "plt.xlabel(\"Average Grade Received\")\n",
    "plt.ylabel(\"Density\")\n",
    "plt.legend()"
   ]
  },
  {
   "cell_type": "markdown",
   "id": "5fd8ed41",
   "metadata": {},
   "source": [
    "Here, we can see that there is a significant difference between average grade received. After ChatGPT was released in November 2022, the average grade increased (shifted right), and there is a greater amount of average grades that are above 3.5 GPA.\n",
    "\n",
    "Next, let's analyze it by more specific criteria.\n",
    "\n",
    "<b>Average Grade by Subject Code: </b>"
   ]
  },
  {
   "cell_type": "code",
   "execution_count": 30,
   "id": "b8bf8019",
   "metadata": {},
   "outputs": [
    {
     "data": {
      "image/png": "[encoded data removed]",
      "text/plain": [
       "<Figure size 720x288 with 1 Axes>"
      ]
     },
     "metadata": {
      "needs_background": "light"
     },
     "output_type": "display_data"
    }
   ],
   "source": [
    "subject_codes = capes_df['Subject Code'].unique()\n",
    "subject_codes_dict = {code: i for i, code in enumerate(subject_codes)}\n",
    "\n",
    "plt.figure(figsize=(10, 4))\n",
    "\n",
    "plt.scatter(pre_gpt['Subject Code'], pre_gpt['Average Grade Received'], alpha=0.6, label='Pre-ChatGPT', s=60, color='#cfcfcf')\n",
    "plt.scatter(post_gpt['Subject Code'], post_gpt['Average Grade Received'], alpha=0.6, label='Post-ChatGPT', s=60, color='#74AA9C')\n",
    "\n",
    "# Adding labels and legend\n",
    "plt.xlabel('Grouped by Subject Codes')\n",
    "plt.ylabel('Average Grade Received')\n",
    "plt.title('Average Grade Received by Subject Code Before and After ChatGPT')\n",
    "plt.legend()\n",
    "\n",
    "# Improve the x-axis: replace numeric labels with subject codes\n",
    "# plt.xticks(ticks=np.arange(len(subject_codes)), labels=subject_codes, rotation='vertical')\n",
    "plt.xticks([])\n",
    "\n",
    "# Show plot\n",
    "plt.tight_layout()  # Adjusts subplot params to give some padding\n",
    "plt.show()"
   ]
  },
  {
   "cell_type": "markdown",
   "id": "3e0c860c",
   "metadata": {},
   "source": [
    "<b>Average Grade by Course Division: </b>"
   ]
  },
  {
   "cell_type": "code",
   "execution_count": 31,
   "id": "7a14bdd0",
   "metadata": {
    "scrolled": true
   },
   "outputs": [
    {
     "data": {
      "image/png": "[encoded data removed]",
      "text/plain": [
       "<Figure size 720x432 with 1 Axes>"
      ]
     },
     "metadata": {
      "needs_background": "light"
     },
     "output_type": "display_data"
    }
   ],
   "source": [
    "pre_gpt_grouped = pre_gpt.groupby('Course Division')['Average Grade Received'].mean().reset_index()\n",
    "post_gpt_grouped = post_gpt.groupby('Course Division')['Average Grade Received'].mean().reset_index()\n",
    "\n",
    "# Ensure both grouped DataFrames have the same 'Subject Code' order for consistent plotting\n",
    "post_gpt_grouped = post_gpt_grouped.set_index('Course Division').reindex(index=pre_gpt_grouped['Course Division']).reset_index()\n",
    "\n",
    "fig, ax = plt.subplots(figsize=(10, 6))\n",
    "\n",
    "# Setting the positions of the bars\n",
    "bar_width = 0.35\n",
    "index = np.arange(len(pre_gpt_grouped['Course Division']))\n",
    "\n",
    "# Plotting both 'Pre' and 'Post' bars\n",
    "bars1 = plt.bar(index, pre_gpt_grouped['Average Grade Received'], bar_width,\n",
    "                label='Pre-ChatGPT', color='#cfcfcf')\n",
    "\n",
    "bars2 = plt.bar(index + bar_width, post_gpt_grouped['Average Grade Received'], bar_width,\n",
    "                label='Post-ChatGPT', color='#74AA9C')\n",
    "\n",
    "# Additional plot formatting\n",
    "plt.xlabel('Course Divison')\n",
    "plt.ylabel('Average Grade Received')\n",
    "plt.title('Average Grade Received by Course Divison: Pre vs. Post ChatGPT')\n",
    "plt.xticks(index + bar_width / 2, pre_gpt_grouped['Course Division'], rotation=45)\n",
    "plt.legend()\n",
    "\n",
    "plt.tight_layout()\n",
    "plt.show()"
   ]
  },
  {
   "cell_type": "markdown",
   "id": "31826a92",
   "metadata": {},
   "source": [
    "We can see that the average grade is slightly higher after ChatGPT was released for both lower and upper division classes."
   ]
  },
  {
   "cell_type": "markdown",
   "id": "69400f40",
   "metadata": {},
   "source": [
    "<b>Average Grade by Department: </b>"
   ]
  },
  {
   "cell_type": "code",
   "execution_count": 32,
   "id": "369710cb",
   "metadata": {},
   "outputs": [
    {
     "data": {
      "image/png": "[encoded data removed]",
      "text/plain": [
       "<Figure size 576x288 with 1 Axes>"
      ]
     },
     "metadata": {
      "needs_background": "light"
     },
     "output_type": "display_data"
    }
   ],
   "source": [
    "# Group by Department\n",
    "\n",
    "subject_codes = capes_df['Department'].unique()\n",
    "subject_codes_dict = {code: i for i, code in enumerate(subject_codes)}\n",
    "\n",
    "plt.figure(figsize=(8, 4))\n",
    "\n",
    "plt.scatter(pre_gpt['Department'], pre_gpt['Average Grade Received'], alpha=0.6, label='Pre-ChatGPT', s=100, color='#cfcfcf')\n",
    "plt.scatter(post_gpt['Department'], post_gpt['Average Grade Received'], alpha=0.6, label='Post-ChatGPT', s=100, color='#74AA9C')\n",
    "\n",
    "# Adding labels and legend\n",
    "plt.xlabel('Grouped by Department')\n",
    "plt.ylabel('Average Grade Received')\n",
    "plt.title('Average Grade Received by Department Before and After ChatGPT')\n",
    "plt.legend()\n",
    "\n",
    "# Improve the x-axis: replace numeric labels with subject codes\n",
    "# plt.xticks(ticks=np.arange(len(subject_codes)), labels=subject_codes, rotation='vertical')\n",
    "plt.xticks([])\n",
    "# plt.gca().invert_yaxis()\n",
    "\n",
    "# Show plot\n",
    "plt.tight_layout()  # Adjusts subplot params to give some padding\n",
    "plt.show()"
   ]
  },
  {
   "cell_type": "markdown",
   "id": "cd549002",
   "metadata": {},
   "source": [
    "<b>Average Grade by School: </b>"
   ]
  },
  {
   "cell_type": "code",
   "execution_count": 33,
   "id": "5ec1c5db",
   "metadata": {
    "scrolled": true
   },
   "outputs": [
    {
     "data": {
      "image/png": "[encoded data removed]",
      "text/plain": [
       "<Figure size 720x576 with 1 Axes>"
      ]
     },
     "metadata": {
      "needs_background": "light"
     },
     "output_type": "display_data"
    }
   ],
   "source": [
    "pre_gpt_grouped = pre_gpt.groupby('School Affiliation')['Average Grade Received'].mean().reset_index()\n",
    "post_gpt_grouped = post_gpt.groupby('School Affiliation')['Average Grade Received'].mean().reset_index()\n",
    "\n",
    "# Ensure both grouped DataFrames have the same 'Subject Code' order for consistent plotting\n",
    "post_gpt_grouped = post_gpt_grouped.set_index('School Affiliation').reindex(index=pre_gpt_grouped['School Affiliation']).reset_index()\n",
    "\n",
    "fig, ax = plt.subplots(figsize=(10, 8))\n",
    "\n",
    "# Setting the positions of the bars\n",
    "bar_width = 0.8\n",
    "index = np.arange(len(pre_gpt_grouped['School Affiliation']))\n",
    "\n",
    "# Plotting both 'Pre' and 'Post' bars\n",
    "bars1 = plt.bar(index, pre_gpt_grouped['Average Grade Received'], bar_width,\n",
    "                label='Pre-ChatGPT', color='#cfcfcf')\n",
    "\n",
    "bars2 = plt.bar(index + 0.15, post_gpt_grouped['Average Grade Received'], bar_width,\n",
    "                label='Post-ChatGPT', alpha=0.6, color='#74AA9C')\n",
    "\n",
    "# Additional plot formatting\n",
    "plt.xlabel('School Affiliation')\n",
    "plt.ylabel('Average Grade Received')\n",
    "plt.title('Average Grade Received by School Affiliation: Pre vs. Post ChatGPT')\n",
    "plt.xticks(index, pre_gpt_grouped['School Affiliation'], rotation=70)\n",
    "plt.legend()\n",
    "\n",
    "plt.tight_layout()\n",
    "plt.show()"
   ]
  },
  {
   "cell_type": "markdown",
   "id": "038ce465",
   "metadata": {},
   "source": [
    "***Write some conclusion HERE***"
   ]
  },
  {
   "cell_type": "markdown",
   "id": "6f16853a",
   "metadata": {},
   "source": [
    "## Inference: t-tests\n",
    "\n",
    "### Part I: Study Hours per Week\n",
    "We will conduct t-tests to determine if there is a statistically significant difference between hours spent studying before ChatGPT was released compared to after ChatGPT was released."
   ]
  },
  {
   "cell_type": "markdown",
   "id": "58972172",
   "metadata": {},
   "source": [
    "$H_0: \\bar{x}_{hoursPreGPT} = \\bar{y}_{hoursPreGPT}$\n",
    "\n",
    "$H_a: \\bar{x}_{hoursPreGPT} < \\bar{y}_{hoursPostGPT}$"
   ]
  },
  {
   "cell_type": "markdown",
   "id": "6c1014c8",
   "metadata": {},
   "source": [
    "Before proceeding, we need to verify the following t-test assumptions:\n",
    "- Data is continuous\n",
    "- Normally distributed\n",
    "- Sample size is large enough\n",
    "- Group variance is homogenous"
   ]
  },
  {
   "cell_type": "markdown",
   "id": "3ed7c9d7",
   "metadata": {},
   "source": [
    "#### **Data is continuous:** Satisfied\n",
    "\n",
    "The number of hours is measured numerically, precise to the decimal."
   ]
  },
  {
   "cell_type": "markdown",
   "id": "5dc8b9e3",
   "metadata": {},
   "source": [
    "#### **Normally distributed:** Satisfied\n",
    "In order to determine if our data is normally distributed, we will be using Shapiro-Wilk to test normality on both pre and post GPT data."
   ]
  },
  {
   "cell_type": "code",
   "execution_count": 34,
   "id": "6c0b05d5",
   "metadata": {},
   "outputs": [
    {
     "name": "stdout",
     "output_type": "stream",
     "text": [
      "Pre-GPT:  ShapiroResult(statistic=0.9341626167297363, pvalue=0.0)\n",
      "Post-GPT:  ShapiroResult(statistic=0.9382755160331726, pvalue=3.394261341400495e-28)\n"
     ]
    },
    {
     "name": "stderr",
     "output_type": "stream",
     "text": [
      "/opt/conda/lib/python3.9/site-packages/scipy/stats/morestats.py:1760: UserWarning: p-value may not be accurate for N > 5000.\n",
      "  warnings.warn(\"p-value may not be accurate for N > 5000.\")\n"
     ]
    }
   ],
   "source": [
    "# Pre-GPT normality\n",
    "print(\"Pre-GPT: \", stats.shapiro(pre_gpt['Study Hours per Week']))\n",
    "# Post-GPT normality\n",
    "print(\"Post-GPT: \", stats.shapiro(post_gpt['Study Hours per Week']))"
   ]
  },
  {
   "cell_type": "markdown",
   "id": "ae31ec71",
   "metadata": {},
   "source": [
    "As shown above, both p-values are less than 0.001, indicating that our data is normally distributed."
   ]
  },
  {
   "cell_type": "markdown",
   "id": "dd465ab9",
   "metadata": {},
   "source": [
    "#### **Sample size is large enough:** Satisfied"
   ]
  },
  {
   "cell_type": "code",
   "execution_count": 35,
   "id": "f8c6fd40",
   "metadata": {},
   "outputs": [
    {
     "name": "stdout",
     "output_type": "stream",
     "text": [
      "Pre-GPT:  21799\n",
      "Post-GPT:  2020\n"
     ]
    }
   ],
   "source": [
    "# Pre-GPT sample size\n",
    "print(\"Pre-GPT: \", len(pre_gpt['Study Hours per Week']))\n",
    "# Post-GPT sample size\n",
    "print(\"Post-GPT: \", len(post_gpt['Study Hours per Week']))"
   ]
  },
  {
   "cell_type": "markdown",
   "id": "4951fd76",
   "metadata": {},
   "source": [
    "As shown above, our sample sizes are over 500 each, so they are sufficient for our test. "
   ]
  },
  {
   "cell_type": "markdown",
   "id": "961646d2",
   "metadata": {},
   "source": [
    "#### **Group variance:** Satisfied\n",
    "In order to determine if our data is homogenous variance, we will be using Levene's Test."
   ]
  },
  {
   "cell_type": "code",
   "execution_count": 36,
   "id": "b218a3ad",
   "metadata": {},
   "outputs": [
    {
     "name": "stdout",
     "output_type": "stream",
     "text": [
      "Pre-GPT:  LeveneResult(statistic=0.05357838687654247, pvalue=0.8169516340443368)\n"
     ]
    }
   ],
   "source": [
    "# Pre-GPT variance\n",
    "print(\"Pre-GPT: \", stats.levene(pre_gpt['Study Hours per Week'], post_gpt['Study Hours per Week']))"
   ]
  },
  {
   "cell_type": "markdown",
   "id": "583c22fc",
   "metadata": {},
   "source": [
    "As shown above, because our p-value is greater than 0.001, our samples do have equal variances."
   ]
  },
  {
   "cell_type": "markdown",
   "id": "350faca1",
   "metadata": {},
   "source": [
    "Now, we can move on to the t-test:"
   ]
  },
  {
   "cell_type": "code",
   "execution_count": 37,
   "id": "317db3ce",
   "metadata": {},
   "outputs": [
    {
     "name": "stdout",
     "output_type": "stream",
     "text": [
      "t-stat: 4.976967928180408\n",
      "p-value: 6.503832351277996e-07\n"
     ]
    }
   ],
   "source": [
    "# T-Test\n",
    "t_stat, p_value = stats.ttest_ind(pre_gpt['Study Hours per Week'], post_gpt['Study Hours per Week'], equal_var=True)\n",
    "print(\"t-stat:\", t_stat)\n",
    "print(\"p-value:\", p_value)"
   ]
  },
  {
   "cell_type": "markdown",
   "id": "b391df34",
   "metadata": {},
   "source": [
    "**Conclusion:** Because our $p-value < 0.05$, we can conluide that there is statistically significant evidence to reject the null hypothesis. In other words, the number of hours spent studying after ChatGPT was released is significantly less than the number of hours spent studying before ChatGPT was released."
   ]
  },
  {
   "cell_type": "markdown",
   "id": "b5f2ff16",
   "metadata": {},
   "source": [
    "### Part II: Average Grade Received\n",
    "We will conduct t-tests to determine if there is a statistically significant difference between average grade received before ChatGPT was released compared to after ChatGPT was released."
   ]
  },
  {
   "cell_type": "markdown",
   "id": "d7240579",
   "metadata": {},
   "source": [
    "$H_0: \\bar{x}_{gradePreGPT} = \\bar{y}_{gradePostGPT}$\n",
    "\n",
    "$H_a: \\bar{x}_{gradePreGPT} < \\bar{y}_{gradePostGPT}$"
   ]
  },
  {
   "cell_type": "markdown",
   "id": "50554bf2",
   "metadata": {},
   "source": [
    "Before proceeding, we need to verify the following t-test assumptions:\n",
    "- Data is continuous\n",
    "- Normally distributed\n",
    "- Sample size is large enough\n",
    "- Group variance is homogenous"
   ]
  },
  {
   "cell_type": "markdown",
   "id": "af960a83",
   "metadata": {},
   "source": [
    "#### **Data is continuous:** Satisfied\n",
    "\n",
    "The average grade (GPA) is measured numerically, precise to the decimal."
   ]
  },
  {
   "cell_type": "markdown",
   "id": "b4a077c2",
   "metadata": {},
   "source": [
    "#### **Normally distributed:** Satisfied\n",
    "In order to determine if our data is normally distributed, we will be using Shapiro-Wilk to test normality on both pre and post GPT data."
   ]
  },
  {
   "cell_type": "code",
   "execution_count": 38,
   "id": "40f62d3d",
   "metadata": {},
   "outputs": [
    {
     "name": "stdout",
     "output_type": "stream",
     "text": [
      "Pre-GPT:  ShapiroResult(statistic=0.9907333850860596, pvalue=8.781742343430913e-35)\n",
      "Post-GPT:  ShapiroResult(statistic=0.9617482423782349, pvalue=1.1180114139849237e-22)\n"
     ]
    }
   ],
   "source": [
    "# Pre-GPT normality\n",
    "print(\"Pre-GPT: \", stats.shapiro(pre_gpt['Average Grade Received']))\n",
    "# Post-GPT normality\n",
    "print(\"Post-GPT: \", stats.shapiro(post_gpt['Average Grade Received']))"
   ]
  },
  {
   "cell_type": "markdown",
   "id": "87478237",
   "metadata": {},
   "source": [
    "As shown above, both p-values are less than 0.001, indicating that our data is normally distributed."
   ]
  },
  {
   "cell_type": "markdown",
   "id": "c3edad85",
   "metadata": {},
   "source": [
    "#### **Sample size is large enough:** Satisfied"
   ]
  },
  {
   "cell_type": "code",
   "execution_count": 39,
   "id": "626e2433",
   "metadata": {},
   "outputs": [
    {
     "name": "stdout",
     "output_type": "stream",
     "text": [
      "Pre-GPT:  21799\n",
      "Post-GPT:  2020\n"
     ]
    }
   ],
   "source": [
    "# Pre-GPT sample size\n",
    "print(\"Pre-GPT: \", len(pre_gpt['Average Grade Received']))\n",
    "# Post-GPT sample size\n",
    "print(\"Post-GPT: \", len(post_gpt['Average Grade Received']))"
   ]
  },
  {
   "cell_type": "markdown",
   "id": "0b946dfb",
   "metadata": {},
   "source": [
    "As shown above, our sample sizes are over 500 each, so they are sufficient for our test. "
   ]
  },
  {
   "cell_type": "markdown",
   "id": "a8e184ee",
   "metadata": {},
   "source": [
    "#### **Group variance:** Satisfied\n",
    "In order to determine if our data is homogenous variance, we will be using Levene's Test."
   ]
  },
  {
   "cell_type": "code",
   "execution_count": 40,
   "id": "af460378",
   "metadata": {},
   "outputs": [
    {
     "name": "stdout",
     "output_type": "stream",
     "text": [
      "Pre-GPT:  LeveneResult(statistic=17.59694172827727, pvalue=2.7401471481612037e-05)\n"
     ]
    }
   ],
   "source": [
    "# Pre-GPT variance\n",
    "print(\"Pre-GPT: \", stats.levene(pre_gpt['Average Grade Received'], post_gpt['Average Grade Received']))"
   ]
  },
  {
   "cell_type": "markdown",
   "id": "1fc1d91a",
   "metadata": {},
   "source": [
    "As shown above, because our p-value is greater than 0.001, our samples do have equal variances."
   ]
  },
  {
   "cell_type": "markdown",
   "id": "ca542c06",
   "metadata": {},
   "source": [
    "Now, we can move on to the t-test:"
   ]
  },
  {
   "cell_type": "code",
   "execution_count": 41,
   "id": "d22a52ef",
   "metadata": {},
   "outputs": [
    {
     "name": "stdout",
     "output_type": "stream",
     "text": [
      "t-stat: -15.847882016741721\n",
      "p-value: 2.820886946727031e-56\n"
     ]
    }
   ],
   "source": [
    "# T-Test\n",
    "t_stat, p_value = stats.ttest_ind(pre_gpt['Average Grade Received'], post_gpt['Average Grade Received'], equal_var=True)\n",
    "print(\"t-stat:\", t_stat)\n",
    "print(\"p-value:\", p_value)"
   ]
  },
  {
   "cell_type": "markdown",
   "id": "75982373",
   "metadata": {},
   "source": [
    "**Conclusion:** Because our $p-value < 0.05$, we can conclude that there is statistically significant evidence to reject the null hypothesis. In other words, the average grade received after ChatGPT was released is significantly greater than the average grade received before ChatGPT was released."
   ]
  },
  {
   "cell_type": "markdown",
   "id": "60622ab0",
   "metadata": {},
   "source": [
    "## Inference: Linear Regression\n",
    "Now that we know that our data is statistically significant overall, we will now test if each subgroup is also statistically significant using linear regression using our concat dataframe, `eda_df`. For each dependent variable (study hours per week and average grade), we will create a generalized linear regression (GLM) model for each of its subgroup and find its significance and magnitude. \n",
    "\n",
    "### Part I: Study Hours per Week by each Subgroup\n",
    "<b>Subject Code: </b>\n"
   ]
  },
  {
   "cell_type": "code",
   "execution_count": 42,
   "id": "8f659fe9",
   "metadata": {},
   "outputs": [
    {
     "name": "stdout",
     "output_type": "stream",
     "text": [
      "                 Generalized Linear Model Regression Results                  \n",
      "==============================================================================\n",
      "Dep. Variable:            Study_Hours   No. Observations:                23819\n",
      "Model:                            GLM   Df Residuals:                    23732\n",
      "Model Family:                Gaussian   Df Model:                           86\n",
      "Link Function:               Identity   Scale:                          3.5580\n",
      "Method:                          IRLS   Log-Likelihood:                -48870.\n",
      "Date:                Thu, 14 Mar 2024   Deviance:                       84438.\n",
      "Time:                        03:14:11   Pearson chi2:                 8.44e+04\n",
      "No. Iterations:                     3   Pseudo R-squ. (CS):             0.4711\n",
      "Covariance Type:            nonrobust                                         \n",
      "========================================================================================\n",
      "                           coef    std err          z      P>|z|      [0.025      0.975]\n",
      "----------------------------------------------------------------------------------------\n",
      "Intercept                3.6728      0.844      4.353      0.000       2.019       5.326\n",
      "Label[T.Pre]             0.2031      0.045      4.560      0.000       0.116       0.290\n",
      "Subject_Code[T.ANAR]     0.9195      0.893      1.030      0.303      -0.830       2.669\n",
      "Subject_Code[T.ANBI]     0.7454      0.875      0.852      0.394      -0.970       2.461\n",
      "Subject_Code[T.ANSC]     0.8472      0.855      0.991      0.322      -0.829       2.523\n",
      "Subject_Code[T.ANTH]     0.3041      0.860      0.354      0.724      -1.382       1.990\n",
      "Subject_Code[T.AWP]      3.4290      0.882      3.888      0.000       1.700       5.158\n",
      "Subject_Code[T.BENG]     3.5058      0.850      4.125      0.000       1.840       5.171\n",
      "Subject_Code[T.BIBC]     2.8901      0.854      3.385      0.001       1.217       4.564\n",
      "Subject_Code[T.BICD]     2.4578      0.853      2.882      0.004       0.786       4.129\n",
      "Subject_Code[T.BIEB]     1.3792      0.858      1.607      0.108      -0.303       3.062\n",
      "Subject_Code[T.BILD]     1.1628      0.850      1.368      0.171      -0.503       2.829\n",
      "Subject_Code[T.BIMM]     2.2917      0.848      2.701      0.007       0.629       3.955\n",
      "Subject_Code[T.BIPN]     3.3983      0.852      3.990      0.000       1.729       5.067\n",
      "Subject_Code[T.BISP]    -1.1355      0.878     -1.294      0.196      -2.856       0.585\n",
      "Subject_Code[T.CAT]      0.6002      0.854      0.703      0.482      -1.074       2.274\n",
      "Subject_Code[T.CENG]     4.2939      0.853      5.032      0.000       2.621       5.966\n",
      "Subject_Code[T.CGS]      0.8397      0.870      0.965      0.335      -0.866       2.546\n",
      "Subject_Code[T.CHEM]     3.5907      0.846      4.246      0.000       1.933       5.248\n",
      "Subject_Code[T.CHIN]     1.0290      0.850      1.210      0.226      -0.637       2.695\n",
      "Subject_Code[T.COGS]     1.6150      0.848      1.906      0.057      -0.046       3.276\n",
      "Subject_Code[T.COMM]     1.0694      0.847      1.262      0.207      -0.591       2.730\n",
      "Subject_Code[T.CSE]      4.7533      0.846      5.621      0.000       3.096       6.411\n",
      "Subject_Code[T.DOC]      1.4285      0.863      1.655      0.098      -0.263       3.120\n",
      "Subject_Code[T.DSC]      5.3323      0.877      6.077      0.000       3.613       7.052\n",
      "Subject_Code[T.DSGN]     1.9296      0.974      1.981      0.048       0.020       3.839\n",
      "Subject_Code[T.ECE]      4.4372      0.847      5.237      0.000       2.777       6.098\n",
      "Subject_Code[T.ECON]     1.6518      0.846      1.953      0.051      -0.006       3.309\n",
      "Subject_Code[T.EDS]      1.4708      0.851      1.729      0.084      -0.196       3.138\n",
      "Subject_Code[T.ENG]      0.7431      0.869      0.855      0.393      -0.961       2.447\n",
      "Subject_Code[T.ENVR]     0.5351      0.889      0.602      0.547      -1.206       2.277\n",
      "Subject_Code[T.ESYS]     0.6711      0.873      0.769      0.442      -1.039       2.382\n",
      "Subject_Code[T.ETHN]     0.9423      0.851      1.108      0.268      -0.725       2.610\n",
      "Subject_Code[T.FMPH]     0.7383      0.875      0.843      0.399      -0.978       2.454\n",
      "Subject_Code[T.GLBH]     0.4289      0.882      0.486      0.627      -1.299       2.157\n",
      "Subject_Code[T.HIAF]     0.3456      0.924      0.374      0.708      -1.466       2.157\n",
      "Subject_Code[T.HIEA]     1.7343      0.865      2.004      0.045       0.038       3.430\n",
      "Subject_Code[T.HIEU]     1.2107      0.854      1.418      0.156      -0.463       2.885\n",
      "Subject_Code[T.HILA]     0.9185      0.876      1.048      0.295      -0.799       2.636\n",
      "Subject_Code[T.HILD]     0.5061      0.861      0.587      0.557      -1.182       2.194\n",
      "Subject_Code[T.HINE]     0.6961      0.878      0.793      0.428      -1.024       2.416\n",
      "Subject_Code[T.HISC]     0.3751      0.879      0.427      0.670      -1.349       2.099\n",
      "Subject_Code[T.HITO]     1.2761      0.901      1.417      0.156      -0.489       3.041\n",
      "Subject_Code[T.HIUS]     0.8861      0.857      1.034      0.301      -0.793       2.565\n",
      "Subject_Code[T.HUM]      2.8771      0.853      3.372      0.001       1.205       4.550\n",
      "Subject_Code[T.INTL]     2.0940      0.869      2.411      0.016       0.392       3.796\n",
      "Subject_Code[T.JAPN]     0.7789      0.851      0.915      0.360      -0.890       2.447\n",
      "Subject_Code[T.LATI]     0.7353      0.943      0.779      0.436      -1.114       2.584\n",
      "Subject_Code[T.LIGN]     0.5991      0.853      0.703      0.482      -1.072       2.271\n",
      "Subject_Code[T.LIHL]     0.0019      0.880      0.002      0.998      -1.723       1.727\n",
      "Subject_Code[T.LTAM]     1.6171      1.076      1.503      0.133      -0.491       3.725\n",
      "Subject_Code[T.LTCH]     1.5537      0.974      1.595      0.111      -0.356       3.463\n",
      "Subject_Code[T.LTEA]     1.3551      0.871      1.555      0.120      -0.352       3.063\n",
      "Subject_Code[T.LTEN]     1.6099      0.853      1.886      0.059      -0.063       3.283\n",
      "Subject_Code[T.LTEU]     1.1361      0.931      1.220      0.222      -0.688       2.961\n",
      "Subject_Code[T.LTKO]     0.6668      0.889      0.750      0.453      -1.076       2.410\n",
      "Subject_Code[T.LTLA]     2.1414      0.967      2.215      0.027       0.247       4.036\n",
      "Subject_Code[T.LTSP]     1.6219      0.868      1.868      0.062      -0.080       3.324\n",
      "Subject_Code[T.LTTH]     1.6095      1.033      1.557      0.119      -0.416       3.635\n",
      "Subject_Code[T.LTWL]     0.6988      0.859      0.814      0.416      -0.984       2.382\n",
      "Subject_Code[T.LTWR]     0.6448      0.856      0.753      0.452      -1.034       2.323\n",
      "Subject_Code[T.MAE]      4.2855      0.846      5.063      0.000       2.627       5.944\n",
      "Subject_Code[T.MATH]     3.0831      0.845      3.648      0.000       1.426       4.740\n",
      "Subject_Code[T.MGT]      0.9746      0.846      1.152      0.249      -0.683       2.632\n",
      "Subject_Code[T.MMW]      2.2347      0.850      2.629      0.009       0.569       3.900\n",
      "Subject_Code[T.MUS]     -0.3750      0.847     -0.443      0.658      -2.036       1.286\n",
      "Subject_Code[T.NANO]     2.5856      0.860      3.008      0.003       0.901       4.270\n",
      "Subject_Code[T.PHIL]     1.2134      0.848      1.431      0.153      -0.449       2.876\n",
      "Subject_Code[T.PHYS]     2.5507      0.846      3.014      0.003       0.892       4.209\n",
      "Subject_Code[T.POLI]     1.1927      0.846      1.409      0.159      -0.466       2.851\n",
      "Subject_Code[T.PSYC]     1.0675      0.846      1.262      0.207      -0.591       2.726\n",
      "Subject_Code[T.RELI]     0.5089      0.883      0.577      0.564      -1.221       2.239\n",
      "Subject_Code[T.SE]       4.7464      0.849      5.592      0.000       3.083       6.410\n",
      "Subject_Code[T.SIO]      0.6666      0.849      0.785      0.433      -0.998       2.331\n",
      "Subject_Code[T.SOCI]     0.9707      0.847      1.146      0.252      -0.690       2.631\n",
      "Subject_Code[T.TDAC]    -0.3241      0.857     -0.378      0.705      -2.003       1.355\n",
      "Subject_Code[T.TDDE]     1.9456      0.954      2.040      0.041       0.076       3.815\n",
      "Subject_Code[T.TDDR]     0.2513      0.921      0.273      0.785      -1.555       2.057\n",
      "Subject_Code[T.TDGE]    -0.8405      0.858     -0.980      0.327      -2.522       0.841\n",
      "Subject_Code[T.TDHT]     0.6534      0.873      0.748      0.454      -1.058       2.364\n",
      "Subject_Code[T.TDMV]    -1.6902      0.848     -1.993      0.046      -3.353      -0.028\n",
      "Subject_Code[T.TDPF]    -0.0903      1.004     -0.090      0.928      -2.059       1.878\n",
      "Subject_Code[T.TDPR]     0.9600      0.943      1.018      0.309      -0.889       2.809\n",
      "Subject_Code[T.TDTR]    -1.2278      0.914     -1.344      0.179      -3.018       0.563\n",
      "Subject_Code[T.USP]      1.1174      0.851      1.313      0.189      -0.550       2.785\n",
      "Subject_Code[T.VIS]      1.7163      0.847      2.026      0.043       0.056       3.376\n",
      "Subject_Code[T.WCWP]     2.2080      0.872      2.533      0.011       0.499       3.916\n",
      "========================================================================================\n"
     ]
    }
   ],
   "source": [
    "outcome, predictors = patsy.dmatrices('Study_Hours ~ Label + Subject_Code', eda_df)\n",
    "mod = sm.GLM(outcome, predictors)\n",
    "res = mod.fit()\n",
    "print(res.summary())"
   ]
  },
  {
   "cell_type": "code",
   "execution_count": 43,
   "id": "6c56b394",
   "metadata": {},
   "outputs": [
    {
     "name": "stdout",
     "output_type": "stream",
     "text": [
      "['Pre', 'AWP', 'BENG', 'BIBC', 'BICD', 'BIMM', 'BIPN', 'CENG', 'CHEM', 'CSE', 'DSC', 'DSGN', 'ECE', 'HIEA', 'HUM', 'INTL', 'LTLA', 'MAE', 'MATH', 'MMW', 'NANO', 'PHYS', 'SE', 'TDDE', 'TDMV', 'VIS', 'WCWP']\n"
     ]
    }
   ],
   "source": [
    "p_values = res.pvalues\n",
    "column_names = predictors.design_info.column_names\n",
    "\n",
    "significant_columns = [column_names[i] for i, p in enumerate(p_values) if p <= 0.05]\n",
    "significant_columns = significant_columns[1:]\n",
    "significant_columns = [val.split('.')[1].replace(']', \"\") for val in significant_columns]\n",
    "    \n",
    "print(significant_columns)\n"
   ]
  },
  {
   "cell_type": "code",
   "execution_count": 44,
   "id": "26780f61",
   "metadata": {},
   "outputs": [
    {
     "name": "stdout",
     "output_type": "stream",
     "text": [
      "['ANAR', 'ANBI', 'ANSC', 'ANTH', 'BIEB', 'BILD', 'BISP', 'CAT', 'CGS', 'CHIN', 'COGS', 'COMM', 'DOC', 'ECON', 'EDS', 'ENG', 'ENVR', 'ESYS', 'ETHN', 'FMPH', 'GLBH', 'HIAF', 'HIEU', 'HILA', 'HILD', 'HINE', 'HISC', 'HITO', 'HIUS', 'JAPN', 'LATI', 'LIGN', 'LIHL', 'LTAM', 'LTCH', 'LTEA', 'LTEN', 'LTEU', 'LTKO', 'LTSP', 'LTTH', 'LTWL', 'LTWR', 'MGT', 'MUS', 'PHIL', 'POLI', 'PSYC', 'RELI', 'SIO', 'SOCI', 'TDAC', 'TDDR', 'TDGE', 'TDHT', 'TDPF', 'TDPR', 'TDTR', 'USP']\n"
     ]
    }
   ],
   "source": [
    "non_significant_columns = [column_names[i] for i, p in enumerate(p_values) if p >= 0.05]\n",
    "non_significant_columns = [val.split('.')[1].replace(']', \"\") for val in non_significant_columns]\n",
    "print(non_significant_columns)"
   ]
  },
  {
   "cell_type": "markdown",
   "id": "14932c5e",
   "metadata": {},
   "source": [
    "(As u can see some courses are statistically significant while others aren't. this can be due to the data set being too small for some subjects as demand for certains courses may cause a course to be offered more or less. IE Demand for ANAR courses compared to CSE and Business courses)"
   ]
  },
  {
   "cell_type": "markdown",
   "id": "5f6beaf6",
   "metadata": {},
   "source": [
    "<b>Course Division: </b>"
   ]
  },
  {
   "cell_type": "code",
   "execution_count": 45,
   "id": "ce5ce58b",
   "metadata": {},
   "outputs": [
    {
     "name": "stdout",
     "output_type": "stream",
     "text": [
      "                 Generalized Linear Model Regression Results                  \n",
      "==============================================================================\n",
      "Dep. Variable:            Study_Hours   No. Observations:                23819\n",
      "Model:                            GLM   Df Residuals:                    23816\n",
      "Model Family:                Gaussian   Df Model:                            2\n",
      "Link Function:               Identity   Scale:                          5.7051\n",
      "Method:                          IRLS   Log-Likelihood:                -54535.\n",
      "Date:                Thu, 14 Mar 2024   Deviance:                   1.3587e+05\n",
      "Time:                        03:14:14   Pearson chi2:                 1.36e+05\n",
      "No. Iterations:                     3   Pseudo R-squ. (CS):            0.01859\n",
      "Covariance Type:            nonrobust                                         \n",
      "============================================================================================\n",
      "                               coef    std err          z      P>|z|      [0.025      0.975]\n",
      "--------------------------------------------------------------------------------------------\n",
      "Intercept                    5.1055      0.058     88.584      0.000       4.993       5.218\n",
      "Label[T.Pre]                 0.2879      0.056      5.183      0.000       0.179       0.397\n",
      "Course_Division[T.Upper]     0.6744      0.033     20.536      0.000       0.610       0.739\n",
      "============================================================================================\n"
     ]
    }
   ],
   "source": [
    "outcome, predictors = patsy.dmatrices('Study_Hours ~ Label + Course_Division', eda_df)\n",
    "mod = sm.GLM(outcome, predictors)\n",
    "res = mod.fit()\n",
    "print(res.summary())"
   ]
  },
  {
   "cell_type": "markdown",
   "id": "6d3e2c9a",
   "metadata": {},
   "source": [
    "(p-value less thatn 0.05 there significant and the diff is about 0.28 and 0.67)"
   ]
  },
  {
   "cell_type": "markdown",
   "id": "c86797ef",
   "metadata": {},
   "source": [
    "<b>Department: </b>"
   ]
  },
  {
   "cell_type": "code",
   "execution_count": 46,
   "id": "0fbf149c",
   "metadata": {},
   "outputs": [
    {
     "name": "stdout",
     "output_type": "stream",
     "text": [
      "                 Generalized Linear Model Regression Results                  \n",
      "==============================================================================\n",
      "Dep. Variable:            Study_Hours   No. Observations:                23819\n",
      "Model:                            GLM   Df Residuals:                    23769\n",
      "Model Family:                Gaussian   Df Model:                           49\n",
      "Link Function:               Identity   Scale:                          3.6694\n",
      "Method:                          IRLS   Log-Likelihood:                -49255.\n",
      "Date:                Thu, 14 Mar 2024   Deviance:                       87218.\n",
      "Time:                        03:14:21   Pearson chi2:                 8.72e+04\n",
      "No. Iterations:                     3   Pseudo R-squ. (CS):             0.4434\n",
      "Covariance Type:            nonrobust                                         \n",
      "======================================================================================================================\n",
      "                                                         coef    std err          z      P>|z|      [0.025      0.975]\n",
      "----------------------------------------------------------------------------------------------------------------------\n",
      "Intercept                                              3.6706      0.857      4.284      0.000       1.991       5.350\n",
      "Label[T.Pre]                                           0.2086      0.045      4.621      0.000       0.120       0.297\n",
      "Department[T.Analytical Writing Program]               3.4267      0.896      3.826      0.000       1.671       5.182\n",
      "Department[T.Anthropology]                             0.6710      0.862      0.778      0.436      -1.019       2.361\n",
      "Department[T.Bioengineering]                           3.5029      0.863      4.059      0.000       1.811       5.194\n",
      "Department[T.Biology]                                  2.1402      0.858      2.494      0.013       0.458       3.822\n",
      "Department[T.Chemistry & Biochemistry]                 3.5878      0.859      4.177      0.000       1.904       5.271\n",
      "Department[T.Chinese Studies]                          1.0258      0.863      1.188      0.235      -0.666       2.718\n",
      "Department[T.Cognitive Science]                        1.6203      0.861      1.883      0.060      -0.066       3.307\n",
      "Department[T.Communication]                            1.0665      0.860      1.240      0.215      -0.620       2.753\n",
      "Department[T.Computer Science & Engineering]           0.7401      0.883      0.838      0.402      -0.990       2.470\n",
      "Department[T.Computer Science and Engineering]         4.7503      0.859      5.532      0.000       3.067       6.433\n",
      "Department[T.Critical Gender Studies]                  0.8371      0.884      0.947      0.344      -0.895       2.570\n",
      "Department[T.Data Science]                             5.3322      0.891      5.984      0.000       3.586       7.079\n",
      "Department[T.Dimensions of Culture Program]            1.4257      0.876      1.627      0.104      -0.292       3.143\n",
      "Department[T.Economics]                                1.6488      0.859      1.920      0.055      -0.034       3.332\n",
      "Department[T.Education Studies]                        1.4680      0.864      1.699      0.089      -0.225       3.161\n",
      "Department[T.Electrical and Computer Engineering]      4.4343      0.860      5.153      0.000       2.748       6.121\n",
      "Department[T.Environmental Studies]                    0.5322      0.902      0.590      0.555      -1.236       2.301\n",
      "Department[T.Environmental Systems]                    0.6681      0.886      0.754      0.451      -1.069       2.405\n",
      "Department[T.Ethnic Studies]                           0.9394      0.864      1.087      0.277      -0.754       2.633\n",
      "Department[T.Global Health Program]                    0.4277      0.896      0.478      0.633      -1.327       2.183\n",
      "Department[T.History]                                  0.9622      0.860      1.119      0.263      -0.723       2.647\n",
      "Department[T.Humanities]                               2.8741      0.867      3.317      0.001       1.176       4.573\n",
      "Department[T.International Studies]                    2.0915      0.882      2.371      0.018       0.363       3.820\n",
      "Department[T.Japanese Studies]                         0.7761      0.864      0.898      0.369      -0.918       2.470\n",
      "Department[T.Latin American Studies]                   0.7331      0.958      0.765      0.444      -1.144       2.611\n",
      "Department[T.Linguistics]                              0.4797      0.864      0.555      0.579      -1.214       2.174\n",
      "Department[T.Literature]                               1.1677      0.860      1.358      0.174      -0.517       2.853\n",
      "Department[T.Making of the Modern World]               2.2316      0.863      2.585      0.010       0.540       3.923\n",
      "Department[T.Mathematics]                              3.0803      0.858      3.589      0.000       1.398       4.763\n",
      "Department[T.Mechanical and Aerospace Engineering]     4.2826      0.860      4.983      0.000       2.598       5.967\n",
      "Department[T.Music]                                   -0.3779      0.861     -0.439      0.661      -2.065       1.309\n",
      "Department[T.NanoEngineering Program]                  4.2910      0.867      4.952      0.000       2.593       5.989\n",
      "Department[T.Nanoengineering]                          2.5829      0.873      2.959      0.003       0.872       4.294\n",
      "Department[T.Philosophy]                               1.2105      0.861      1.405      0.160      -0.478       2.899\n",
      "Department[T.Physics]                                  2.5477      0.859      2.965      0.003       0.863       4.232\n",
      "Department[T.Political Science]                        1.1896      0.859      1.384      0.166      -0.495       2.874\n",
      "Department[T.Psychology]                               1.0645      0.859      1.239      0.215      -0.619       2.748\n",
      "Department[T.Public Health]                            0.7377      0.889      0.830      0.407      -1.005       2.480\n",
      "Department[T.Rady School of Management]                0.9720      0.859      1.132      0.258      -0.712       2.656\n",
      "Department[T.Scripps Institution of Oceanography]      0.6639      0.863      0.770      0.442      -1.027       2.355\n",
      "Department[T.Sixth College Academic Programs]          0.5977      0.867      0.689      0.491      -1.103       2.298\n",
      "Department[T.Sociology]                                0.9680      0.860      1.125      0.261      -0.718       2.654\n",
      "Department[T.Structural Engineering]                   4.7434      0.862      5.503      0.000       3.054       6.433\n",
      "Department[T.Study of Religion]                        0.5060      0.896      0.564      0.572      -1.251       2.263\n",
      "Department[T.Theatre and Dance]                       -0.9563      0.859     -1.113      0.266      -2.640       0.728\n",
      "Department[T.Urban Studies & Planning Prog]            1.1147      0.864      1.290      0.197      -0.579       2.808\n",
      "Department[T.Visual Arts]                              1.7135      0.860      1.992      0.046       0.028       3.399\n",
      "Department[T.Warren College Writing Program]           2.2064      0.885      2.492      0.013       0.471       3.941\n",
      "======================================================================================================================\n"
     ]
    }
   ],
   "source": [
    "outcome, predictors = patsy.dmatrices('Study_Hours ~ Label + Department', eda_df)\n",
    "mod = sm.GLM(outcome, predictors)\n",
    "res = mod.fit()\n",
    "print(res.summary())"
   ]
  },
  {
   "cell_type": "code",
   "execution_count": 47,
   "id": "802d2824",
   "metadata": {},
   "outputs": [
    {
     "name": "stdout",
     "output_type": "stream",
     "text": [
      "['Pre', 'Analytical Writing Program', 'Bioengineering', 'Biology', 'Chemistry & Biochemistry', 'Computer Science and Engineering', 'Data Science', 'Electrical and Computer Engineering', 'Humanities', 'International Studies', 'Making of the Modern World', 'Mathematics', 'Mechanical and Aerospace Engineering', 'NanoEngineering Program', 'Nanoengineering', 'Physics', 'Structural Engineering', 'Visual Arts', 'Warren College Writing Program']\n"
     ]
    }
   ],
   "source": [
    "p_values = res.pvalues\n",
    "column_names = predictors.design_info.column_names\n",
    "\n",
    "significant_columns = [column_names[i] for i, p in enumerate(p_values) if p <= 0.05]\n",
    "significant_columns = significant_columns[1:]\n",
    "significant_columns = [val.split('.')[1].replace(']', \"\") for val in significant_columns]\n",
    "    \n",
    "print(significant_columns)"
   ]
  },
  {
   "cell_type": "code",
   "execution_count": 48,
   "id": "e446259c",
   "metadata": {},
   "outputs": [
    {
     "name": "stdout",
     "output_type": "stream",
     "text": [
      "['Anthropology', 'Chinese Studies', 'Cognitive Science', 'Communication', 'Computer Science & Engineering', 'Critical Gender Studies', 'Dimensions of Culture Program', 'Economics', 'Education Studies', 'Environmental Studies', 'Environmental Systems', 'Ethnic Studies', 'Global Health Program', 'History', 'Japanese Studies', 'Latin American Studies', 'Linguistics', 'Literature', 'Music', 'Philosophy', 'Political Science', 'Psychology', 'Public Health', 'Rady School of Management', 'Scripps Institution of Oceanography', 'Sixth College Academic Programs', 'Sociology', 'Study of Religion', 'Theatre and Dance', 'Urban Studies & Planning Prog']\n"
     ]
    }
   ],
   "source": [
    "non_significant_columns = [column_names[i] for i, p in enumerate(p_values) if p >= 0.05]\n",
    "non_significant_columns = [val.split('.')[1].replace(']', \"\") for val in non_significant_columns]\n",
    "    \n",
    "print(non_significant_columns)"
   ]
  },
  {
   "cell_type": "markdown",
   "id": "9ff6f678",
   "metadata": {},
   "source": [
    "(similar to subject code)"
   ]
  },
  {
   "cell_type": "markdown",
   "id": "4c6232e7",
   "metadata": {},
   "source": [
    "<b>School Affiliation: </b>"
   ]
  },
  {
   "cell_type": "code",
   "execution_count": 49,
   "id": "ebabd2f5",
   "metadata": {},
   "outputs": [
    {
     "name": "stdout",
     "output_type": "stream",
     "text": [
      "                 Generalized Linear Model Regression Results                  \n",
      "==============================================================================\n",
      "Dep. Variable:            Study_Hours   No. Observations:                23819\n",
      "Model:                            GLM   Df Residuals:                    23805\n",
      "Model Family:                Gaussian   Df Model:                           13\n",
      "Link Function:               Identity   Scale:                          4.0592\n",
      "Method:                          IRLS   Log-Likelihood:                -50476.\n",
      "Date:                Thu, 14 Mar 2024   Deviance:                       96629.\n",
      "Time:                        03:14:25   Pearson chi2:                 9.66e+04\n",
      "No. Iterations:                     3   Pseudo R-squ. (CS):             0.3510\n",
      "Covariance Type:            nonrobust                                         \n",
      "=============================================================================================================================\n",
      "                                                                coef    std err          z      P>|z|      [0.025      0.975]\n",
      "-----------------------------------------------------------------------------------------------------------------------------\n",
      "Intercept                                                     8.9901      0.259     34.745      0.000       8.483       9.497\n",
      "Label[T.Pre]                                                  0.2382      0.047      5.048      0.000       0.146       0.331\n",
      "School_Affiliation[T.Jacobs School of Engineering]           -1.0443      0.261     -4.000      0.000      -1.556      -0.533\n",
      "School_Affiliation[T.Marshall College]                       -3.9202      0.323    -12.141      0.000      -4.553      -3.287\n",
      "School_Affiliation[T.Muir College]                           -4.8144      0.394    -12.216      0.000      -5.587      -4.042\n",
      "School_Affiliation[T.Rady School of Management]              -4.2888      0.266    -16.139      0.000      -4.810      -3.768\n",
      "School_Affiliation[T.School Of Social Sciences]              -4.2875      0.261    -16.451      0.000      -4.798      -3.777\n",
      "School_Affiliation[T.School of Arts and Humanities]          -4.6394      0.260    -17.811      0.000      -5.150      -4.129\n",
      "School_Affiliation[T.School of Biological Sciences]          -3.2569      0.263    -12.371      0.000      -3.773      -2.741\n",
      "School_Affiliation[T.School of Global Policy & Strategy]     -3.7795      0.262    -14.409      0.000      -4.294      -3.265\n",
      "School_Affiliation[T.School of Physical Sciences]            -2.2391      0.261     -8.573      0.000      -2.751      -1.727\n",
      "School_Affiliation[T.Scripps Institution of Oceanography]    -4.6817      0.276    -16.977      0.000      -5.222      -4.141\n",
      "School_Affiliation[T.Sixth College]                          -4.7471      0.295    -16.081      0.000      -5.326      -4.168\n",
      "School_Affiliation[T.Warren College]                         -3.1336      0.349     -8.988      0.000      -3.817      -2.450\n",
      "=============================================================================================================================\n"
     ]
    }
   ],
   "source": [
    "outcome, predictors = patsy.dmatrices('Study_Hours ~ Label + School_Affiliation', eda_df)\n",
    "mod = sm.GLM(outcome, predictors)\n",
    "res = mod.fit()\n",
    "print(res.summary())"
   ]
  },
  {
   "cell_type": "markdown",
   "id": "29bd6277",
   "metadata": {},
   "source": [
    "(All are significant)"
   ]
  },
  {
   "cell_type": "markdown",
   "id": "ad3a4cea",
   "metadata": {},
   "source": [
    "### Part II: Average Grade by each Subgroup\n"
   ]
  },
  {
   "cell_type": "markdown",
   "id": "e3673d5b",
   "metadata": {},
   "source": [
    "<b>Subject Code: </b>"
   ]
  },
  {
   "cell_type": "code",
   "execution_count": 50,
   "id": "eee3654e",
   "metadata": {},
   "outputs": [
    {
     "name": "stdout",
     "output_type": "stream",
     "text": [
      "                 Generalized Linear Model Regression Results                  \n",
      "==============================================================================\n",
      "Dep. Variable:          Average_Grade   No. Observations:                23819\n",
      "Model:                            GLM   Df Residuals:                    23732\n",
      "Model Family:                Gaussian   Df Model:                           86\n",
      "Link Function:               Identity   Scale:                        0.099974\n",
      "Method:                          IRLS   Log-Likelihood:                -6328.3\n",
      "Date:                Thu, 14 Mar 2024   Deviance:                       2372.6\n",
      "Time:                        03:14:39   Pearson chi2:                 2.37e+03\n",
      "No. Iterations:                     3   Pseudo R-squ. (CS):             0.4616\n",
      "Covariance Type:            nonrobust                                         \n",
      "========================================================================================\n",
      "                           coef    std err          z      P>|z|      [0.025      0.975]\n",
      "----------------------------------------------------------------------------------------\n",
      "Intercept                3.7536      0.141     26.540      0.000       3.476       4.031\n",
      "Label[T.Pre]            -0.1290      0.007    -17.286      0.000      -0.144      -0.114\n",
      "Subject_Code[T.ANAR]    -0.1914      0.150     -1.279      0.201      -0.485       0.102\n",
      "Subject_Code[T.ANBI]    -0.4640      0.147     -3.163      0.002      -0.752      -0.176\n",
      "Subject_Code[T.ANSC]    -0.1923      0.143     -1.342      0.180      -0.473       0.089\n",
      "Subject_Code[T.ANTH]    -0.2491      0.144     -1.728      0.084      -0.532       0.033\n",
      "Subject_Code[T.AWP]     -1.0566      0.148     -7.147      0.000      -1.346      -0.767\n",
      "Subject_Code[T.BENG]    -0.2731      0.142     -1.917      0.055      -0.552       0.006\n",
      "Subject_Code[T.BIBC]    -0.6398      0.143     -4.470      0.000      -0.920      -0.359\n",
      "Subject_Code[T.BICD]    -0.5352      0.143     -3.744      0.000      -0.815      -0.255\n",
      "Subject_Code[T.BIEB]    -0.5220      0.144     -3.627      0.000      -0.804      -0.240\n",
      "Subject_Code[T.BILD]    -0.5613      0.142     -3.940      0.000      -0.841      -0.282\n",
      "Subject_Code[T.BIMM]    -0.3858      0.142     -2.713      0.007      -0.665      -0.107\n",
      "Subject_Code[T.BIPN]    -0.5691      0.143     -3.987      0.000      -0.849      -0.289\n",
      "Subject_Code[T.BISP]     0.1729      0.147      1.175      0.240      -0.115       0.461\n",
      "Subject_Code[T.CAT]     -0.2423      0.143     -1.692      0.091      -0.523       0.038\n",
      "Subject_Code[T.CENG]    -0.2600      0.143     -1.818      0.069      -0.540       0.020\n",
      "Subject_Code[T.CGS]     -0.1125      0.146     -0.771      0.441      -0.399       0.173\n",
      "Subject_Code[T.CHEM]    -0.6670      0.142     -4.705      0.000      -0.945      -0.389\n",
      "Subject_Code[T.CHIN]    -0.1343      0.143     -0.942      0.346      -0.414       0.145\n",
      "Subject_Code[T.COGS]    -0.3479      0.142     -2.449      0.014      -0.626      -0.069\n",
      "Subject_Code[T.COMM]    -0.3153      0.142     -2.220      0.026      -0.594      -0.037\n",
      "Subject_Code[T.CSE]     -0.4830      0.142     -3.407      0.001      -0.761      -0.205\n",
      "Subject_Code[T.DOC]     -0.3238      0.145     -2.239      0.025      -0.607      -0.040\n",
      "Subject_Code[T.DSC]     -0.4776      0.147     -3.247      0.001      -0.766      -0.189\n",
      "Subject_Code[T.DSGN]    -0.1095      0.163     -0.670      0.503      -0.429       0.211\n",
      "Subject_Code[T.ECE]     -0.6222      0.142     -4.381      0.000      -0.901      -0.344\n",
      "Subject_Code[T.ECON]    -0.7514      0.142     -5.301      0.000      -1.029      -0.474\n",
      "Subject_Code[T.EDS]      0.0722      0.143      0.507      0.612      -0.207       0.352\n",
      "Subject_Code[T.ENG]      0.1618      0.146      1.111      0.267      -0.124       0.447\n",
      "Subject_Code[T.ENVR]    -0.2236      0.149     -1.502      0.133      -0.516       0.068\n",
      "Subject_Code[T.ESYS]    -0.2663      0.146     -1.821      0.069      -0.553       0.020\n",
      "Subject_Code[T.ETHN]    -0.0977      0.143     -0.685      0.493      -0.377       0.182\n",
      "Subject_Code[T.FMPH]    -0.2318      0.147     -1.580      0.114      -0.519       0.056\n",
      "Subject_Code[T.GLBH]    -0.0157      0.148     -0.106      0.915      -0.305       0.274\n",
      "Subject_Code[T.HIAF]    -0.2537      0.155     -1.637      0.102      -0.557       0.050\n",
      "Subject_Code[T.HIEA]    -0.4600      0.145     -3.171      0.002      -0.744      -0.176\n",
      "Subject_Code[T.HIEU]    -0.3596      0.143     -2.512      0.012      -0.640      -0.079\n",
      "Subject_Code[T.HILA]    -0.2978      0.147     -2.028      0.043      -0.586      -0.010\n",
      "Subject_Code[T.HILD]    -0.3635      0.144     -2.517      0.012      -0.647      -0.081\n",
      "Subject_Code[T.HINE]    -0.3358      0.147     -2.282      0.022      -0.624      -0.047\n",
      "Subject_Code[T.HISC]    -0.3938      0.147     -2.671      0.008      -0.683      -0.105\n",
      "Subject_Code[T.HITO]    -0.2392      0.151     -1.585      0.113      -0.535       0.057\n",
      "Subject_Code[T.HIUS]    -0.3795      0.144     -2.643      0.008      -0.661      -0.098\n",
      "Subject_Code[T.HUM]     -0.6554      0.143     -4.582      0.000      -0.936      -0.375\n",
      "Subject_Code[T.INTL]    -0.3665      0.146     -2.517      0.012      -0.652      -0.081\n",
      "Subject_Code[T.JAPN]    -0.1074      0.143     -0.752      0.452      -0.387       0.172\n",
      "Subject_Code[T.LATI]    -0.2584      0.158     -1.634      0.102      -0.568       0.052\n",
      "Subject_Code[T.LIGN]    -0.4479      0.143     -3.133      0.002      -0.728      -0.168\n",
      "Subject_Code[T.LIHL]    -0.1171      0.148     -0.794      0.427      -0.406       0.172\n",
      "Subject_Code[T.LTAM]    -0.1132      0.180     -0.628      0.530      -0.467       0.240\n",
      "Subject_Code[T.LTCH]    -0.1805      0.163     -1.105      0.269      -0.501       0.140\n",
      "Subject_Code[T.LTEA]    -0.1654      0.146     -1.133      0.257      -0.452       0.121\n",
      "Subject_Code[T.LTEN]    -0.2616      0.143     -1.828      0.067      -0.542       0.019\n",
      "Subject_Code[T.LTEU]     0.0287      0.156      0.184      0.854      -0.277       0.335\n",
      "Subject_Code[T.LTKO]    -0.0659      0.149     -0.442      0.658      -0.358       0.226\n",
      "Subject_Code[T.LTLA]    -0.3938      0.162     -2.431      0.015      -0.711      -0.076\n",
      "Subject_Code[T.LTSP]    -0.1786      0.146     -1.227      0.220      -0.464       0.107\n",
      "Subject_Code[T.LTTH]    -0.0475      0.173     -0.274      0.784      -0.387       0.292\n",
      "Subject_Code[T.LTWL]    -0.2439      0.144     -1.695      0.090      -0.526       0.038\n",
      "Subject_Code[T.LTWR]    -0.0349      0.144     -0.243      0.808      -0.316       0.246\n",
      "Subject_Code[T.MAE]     -0.4777      0.142     -3.367      0.001      -0.756      -0.200\n",
      "Subject_Code[T.MATH]    -0.7801      0.142     -5.506      0.000      -1.058      -0.502\n",
      "Subject_Code[T.MGT]     -0.3856      0.142     -2.720      0.007      -0.664      -0.108\n",
      "Subject_Code[T.MMW]     -0.4088      0.142     -2.870      0.004      -0.688      -0.130\n",
      "Subject_Code[T.MUS]     -0.0034      0.142     -0.024      0.981      -0.282       0.275\n",
      "Subject_Code[T.NANO]    -0.2915      0.144     -2.023      0.043      -0.574      -0.009\n",
      "Subject_Code[T.PHIL]    -0.5940      0.142     -4.178      0.000      -0.873      -0.315\n",
      "Subject_Code[T.PHYS]    -0.5352      0.142     -3.773      0.000      -0.813      -0.257\n",
      "Subject_Code[T.POLI]    -0.3308      0.142     -2.331      0.020      -0.609      -0.053\n",
      "Subject_Code[T.PSYC]    -0.4377      0.142     -3.087      0.002      -0.716      -0.160\n",
      "Subject_Code[T.RELI]    -0.0285      0.148     -0.192      0.847      -0.319       0.262\n",
      "Subject_Code[T.SE]      -0.6419      0.142     -4.511      0.000      -0.921      -0.363\n",
      "Subject_Code[T.SIO]     -0.3489      0.142     -2.451      0.014      -0.628      -0.070\n",
      "Subject_Code[T.SOCI]    -0.3391      0.142     -2.388      0.017      -0.617      -0.061\n",
      "Subject_Code[T.TDAC]     0.1759      0.144      1.225      0.221      -0.106       0.457\n",
      "Subject_Code[T.TDDE]    -0.0773      0.160     -0.483      0.629      -0.391       0.236\n",
      "Subject_Code[T.TDDR]    -0.0014      0.154     -0.009      0.993      -0.304       0.301\n",
      "Subject_Code[T.TDGE]    -0.0602      0.144     -0.419      0.676      -0.342       0.222\n",
      "Subject_Code[T.TDHT]    -0.2280      0.146     -1.558      0.119      -0.515       0.059\n",
      "Subject_Code[T.TDMV]     0.2541      0.142      1.787      0.074      -0.025       0.533\n",
      "Subject_Code[T.TDPF]     0.3539      0.168      2.102      0.036       0.024       0.684\n",
      "Subject_Code[T.TDPR]     0.2060      0.158      1.303      0.193      -0.104       0.516\n",
      "Subject_Code[T.TDTR]     0.1359      0.153      0.887      0.375      -0.164       0.436\n",
      "Subject_Code[T.USP]     -0.2235      0.143     -1.567      0.117      -0.503       0.056\n",
      "Subject_Code[T.VIS]     -0.0963      0.142     -0.679      0.497      -0.375       0.182\n",
      "Subject_Code[T.WCWP]    -0.2970      0.146     -2.033      0.042      -0.583      -0.011\n",
      "========================================================================================\n"
     ]
    }
   ],
   "source": [
    "outcome, predictors = patsy.dmatrices('Average_Grade ~ Label + Subject_Code', eda_df)\n",
    "mod = sm.GLM(outcome, predictors)\n",
    "res = mod.fit()\n",
    "print(res.summary())"
   ]
  },
  {
   "cell_type": "code",
   "execution_count": 51,
   "id": "3d65774f",
   "metadata": {},
   "outputs": [
    {
     "name": "stdout",
     "output_type": "stream",
     "text": [
      "['Pre', 'ANBI', 'AWP', 'BIBC', 'BICD', 'BIEB', 'BILD', 'BIMM', 'BIPN', 'CHEM', 'COGS', 'COMM', 'CSE', 'DOC', 'DSC', 'ECE', 'ECON', 'HIEA', 'HIEU', 'HILA', 'HILD', 'HINE', 'HISC', 'HIUS', 'HUM', 'INTL', 'LIGN', 'LTLA', 'MAE', 'MATH', 'MGT', 'MMW', 'NANO', 'PHIL', 'PHYS', 'POLI', 'PSYC', 'SE', 'SIO', 'SOCI', 'TDPF', 'WCWP']\n"
     ]
    }
   ],
   "source": [
    "p_values = res.pvalues\n",
    "column_names = predictors.design_info.column_names\n",
    "\n",
    "significant_columns = [column_names[i] for i, p in enumerate(p_values) if p <= 0.05]\n",
    "significant_columns = significant_columns[1:]\n",
    "significant_columns = [val.split('.')[1].replace(']', \"\") for val in significant_columns]\n",
    "    \n",
    "print(significant_columns)"
   ]
  },
  {
   "cell_type": "code",
   "execution_count": 52,
   "id": "8ceb0e2f",
   "metadata": {},
   "outputs": [
    {
     "name": "stdout",
     "output_type": "stream",
     "text": [
      "['ANAR', 'ANSC', 'ANTH', 'BENG', 'BISP', 'CAT', 'CENG', 'CGS', 'CHIN', 'DSGN', 'EDS', 'ENG', 'ENVR', 'ESYS', 'ETHN', 'FMPH', 'GLBH', 'HIAF', 'HITO', 'JAPN', 'LATI', 'LIHL', 'LTAM', 'LTCH', 'LTEA', 'LTEN', 'LTEU', 'LTKO', 'LTSP', 'LTTH', 'LTWL', 'LTWR', 'MUS', 'RELI', 'TDAC', 'TDDE', 'TDDR', 'TDGE', 'TDHT', 'TDMV', 'TDPR', 'TDTR', 'USP', 'VIS']\n"
     ]
    }
   ],
   "source": [
    "non_significant_columns = [column_names[i] for i, p in enumerate(p_values) if p >= 0.05]\n",
    "non_significant_columns = [val.split('.')[1].replace(']', \"\") for val in non_significant_columns]\n",
    "print(non_significant_columns)"
   ]
  },
  {
   "cell_type": "markdown",
   "id": "0fe23414",
   "metadata": {},
   "source": [
    "<b>Course Division: </b>"
   ]
  },
  {
   "cell_type": "code",
   "execution_count": 53,
   "id": "9acf6c60",
   "metadata": {},
   "outputs": [
    {
     "name": "stdout",
     "output_type": "stream",
     "text": [
      "                 Generalized Linear Model Regression Results                  \n",
      "==============================================================================\n",
      "Dep. Variable:          Average_Grade   No. Observations:                23819\n",
      "Model:                            GLM   Df Residuals:                    23816\n",
      "Model Family:                Gaussian   Df Model:                            2\n",
      "Link Function:               Identity   Scale:                         0.15849\n",
      "Method:                          IRLS   Log-Likelihood:                -11858.\n",
      "Date:                Thu, 14 Mar 2024   Deviance:                       3774.6\n",
      "Time:                        03:14:42   Pearson chi2:                 3.77e+03\n",
      "No. Iterations:                     3   Pseudo R-squ. (CS):            0.01898\n",
      "Covariance Type:            nonrobust                                         \n",
      "============================================================================================\n",
      "                               coef    std err          z      P>|z|      [0.025      0.975]\n",
      "--------------------------------------------------------------------------------------------\n",
      "Intercept                    3.3161      0.010    345.199      0.000       3.297       3.335\n",
      "Label[T.Pre]                -0.1463      0.009    -15.802      0.000      -0.164      -0.128\n",
      "Course_Division[T.Upper]     0.0780      0.005     14.252      0.000       0.067       0.089\n",
      "============================================================================================\n"
     ]
    }
   ],
   "source": [
    "outcome, predictors = patsy.dmatrices('Average_Grade ~ Label + Course_Division', eda_df)\n",
    "mod = sm.GLM(outcome, predictors)\n",
    "res = mod.fit()\n",
    "print(res.summary())"
   ]
  },
  {
   "cell_type": "markdown",
   "id": "81f77cd8",
   "metadata": {},
   "source": [
    "<b>Department: </b>"
   ]
  },
  {
   "cell_type": "code",
   "execution_count": 54,
   "id": "6e21a96f",
   "metadata": {},
   "outputs": [
    {
     "name": "stdout",
     "output_type": "stream",
     "text": [
      "                 Generalized Linear Model Regression Results                  \n",
      "==============================================================================\n",
      "Dep. Variable:          Average_Grade   No. Observations:                23819\n",
      "Model:                            GLM   Df Residuals:                    23769\n",
      "Model Family:                Gaussian   Df Model:                           49\n",
      "Link Function:               Identity   Scale:                         0.10338\n",
      "Method:                          IRLS   Log-Likelihood:                -6745.9\n",
      "Date:                Thu, 14 Mar 2024   Deviance:                       2457.2\n",
      "Time:                        03:14:50   Pearson chi2:                 2.46e+03\n",
      "No. Iterations:                     3   Pseudo R-squ. (CS):             0.4313\n",
      "Covariance Type:            nonrobust                                         \n",
      "======================================================================================================================\n",
      "                                                         coef    std err          z      P>|z|      [0.025      0.975]\n",
      "----------------------------------------------------------------------------------------------------------------------\n",
      "Intercept                                              3.7541      0.144     26.102      0.000       3.472       4.036\n",
      "Label[T.Pre]                                          -0.1302      0.008    -17.189      0.000      -0.145      -0.115\n",
      "Department[T.Analytical Writing Program]              -1.0561      0.150     -7.025      0.000      -1.351      -0.761\n",
      "Department[T.Anthropology]                            -0.2513      0.145     -1.737      0.082      -0.535       0.032\n",
      "Department[T.Bioengineering]                          -0.2724      0.145     -1.881      0.060      -0.556       0.011\n",
      "Department[T.Biology]                                 -0.4913      0.144     -3.410      0.001      -0.774      -0.209\n",
      "Department[T.Chemistry & Biochemistry]                -0.6664      0.144     -4.622      0.000      -0.949      -0.384\n",
      "Department[T.Chinese Studies]                         -0.1336      0.145     -0.922      0.357      -0.418       0.150\n",
      "Department[T.Cognitive Science]                       -0.3413      0.144     -2.363      0.018      -0.624      -0.058\n",
      "Department[T.Communication]                           -0.3147      0.144     -2.179      0.029      -0.598      -0.032\n",
      "Department[T.Computer Science & Engineering]           0.1625      0.148      1.097      0.273      -0.128       0.453\n",
      "Department[T.Computer Science and Engineering]        -0.4823      0.144     -3.346      0.001      -0.765      -0.200\n",
      "Department[T.Critical Gender Studies]                 -0.1120      0.148     -0.755      0.450      -0.403       0.179\n",
      "Department[T.Data Science]                            -0.4776      0.150     -3.193      0.001      -0.771      -0.184\n",
      "Department[T.Dimensions of Culture Program]           -0.3232      0.147     -2.197      0.028      -0.612      -0.035\n",
      "Department[T.Economics]                               -0.7508      0.144     -5.209      0.000      -1.033      -0.468\n",
      "Department[T.Education Studies]                        0.0728      0.145      0.502      0.615      -0.211       0.357\n",
      "Department[T.Electrical and Computer Engineering]     -0.6216      0.144     -4.304      0.000      -0.905      -0.339\n",
      "Department[T.Environmental Studies]                   -0.2230      0.151     -1.472      0.141      -0.520       0.074\n",
      "Department[T.Environmental Systems]                   -0.2657      0.149     -1.786      0.074      -0.557       0.026\n",
      "Department[T.Ethnic Studies]                          -0.0971      0.145     -0.669      0.503      -0.381       0.187\n",
      "Department[T.Global Health Program]                   -0.0154      0.150     -0.103      0.918      -0.310       0.279\n",
      "Department[T.History]                                 -0.3626      0.144     -2.513      0.012      -0.645      -0.080\n",
      "Department[T.Humanities]                              -0.6548      0.145     -4.502      0.000      -0.940      -0.370\n",
      "Department[T.International Studies]                   -0.3659      0.148     -2.472      0.013      -0.656      -0.076\n",
      "Department[T.Japanese Studies]                        -0.1067      0.145     -0.736      0.462      -0.391       0.178\n",
      "Department[T.Latin American Studies]                  -0.2579      0.161     -1.604      0.109      -0.573       0.057\n",
      "Department[T.Linguistics]                             -0.3827      0.145     -2.638      0.008      -0.667      -0.098\n",
      "Department[T.Literature]                              -0.1709      0.144     -1.185      0.236      -0.454       0.112\n",
      "Department[T.Making of the Modern World]              -0.4081      0.145     -2.817      0.005      -0.692      -0.124\n",
      "Department[T.Mathematics]                             -0.7795      0.144     -5.410      0.000      -1.062      -0.497\n",
      "Department[T.Mechanical and Aerospace Engineering]    -0.4770      0.144     -3.307      0.001      -0.760      -0.194\n",
      "Department[T.Music]                                   -0.0027      0.144     -0.019      0.985      -0.286       0.280\n",
      "Department[T.NanoEngineering Program]                 -0.2594      0.145     -1.784      0.074      -0.545       0.026\n",
      "Department[T.Nanoengineering]                         -0.2909      0.147     -1.985      0.047      -0.578      -0.004\n",
      "Department[T.Philosophy]                              -0.5933      0.145     -4.104      0.000      -0.877      -0.310\n",
      "Department[T.Physics]                                 -0.5345      0.144     -3.706      0.000      -0.817      -0.252\n",
      "Department[T.Political Science]                       -0.3301      0.144     -2.288      0.022      -0.613      -0.047\n",
      "Department[T.Psychology]                              -0.4371      0.144     -3.031      0.002      -0.720      -0.154\n",
      "Department[T.Public Health]                           -0.2317      0.149     -1.553      0.121      -0.524       0.061\n",
      "Department[T.Rady School of Management]               -0.3851      0.144     -2.671      0.008      -0.668      -0.102\n",
      "Department[T.Scripps Institution of Oceanography]     -0.3483      0.145     -2.406      0.016      -0.632      -0.065\n",
      "Department[T.Sixth College Academic Programs]         -0.2418      0.146     -1.660      0.097      -0.527       0.044\n",
      "Department[T.Sociology]                               -0.3385      0.144     -2.344      0.019      -0.621      -0.055\n",
      "Department[T.Structural Engineering]                  -0.6413      0.145     -4.432      0.000      -0.925      -0.358\n",
      "Department[T.Study of Religion]                       -0.0278      0.150     -0.185      0.853      -0.323       0.267\n",
      "Department[T.Theatre and Dance]                        0.1417      0.144      0.982      0.326      -0.141       0.424\n",
      "Department[T.Urban Studies & Planning Prog]           -0.2229      0.145     -1.537      0.124      -0.507       0.061\n",
      "Department[T.Visual Arts]                             -0.0957      0.144     -0.663      0.507      -0.379       0.187\n",
      "Department[T.Warren College Writing Program]          -0.2966      0.149     -1.996      0.046      -0.588      -0.005\n",
      "======================================================================================================================\n"
     ]
    }
   ],
   "source": [
    "outcome, predictors = patsy.dmatrices('Average_Grade ~ Label + Department', eda_df)\n",
    "mod = sm.GLM(outcome, predictors)\n",
    "res = mod.fit()\n",
    "print(res.summary())"
   ]
  },
  {
   "cell_type": "code",
   "execution_count": 55,
   "id": "62e74704",
   "metadata": {},
   "outputs": [
    {
     "name": "stdout",
     "output_type": "stream",
     "text": [
      "['Pre', 'Analytical Writing Program', 'Biology', 'Chemistry & Biochemistry', 'Cognitive Science', 'Communication', 'Computer Science and Engineering', 'Data Science', 'Dimensions of Culture Program', 'Economics', 'Electrical and Computer Engineering', 'History', 'Humanities', 'International Studies', 'Linguistics', 'Making of the Modern World', 'Mathematics', 'Mechanical and Aerospace Engineering', 'Nanoengineering', 'Philosophy', 'Physics', 'Political Science', 'Psychology', 'Rady School of Management', 'Scripps Institution of Oceanography', 'Sociology', 'Structural Engineering', 'Warren College Writing Program']\n"
     ]
    }
   ],
   "source": [
    "p_values = res.pvalues\n",
    "column_names = predictors.design_info.column_names\n",
    "\n",
    "significant_columns = [column_names[i] for i, p in enumerate(p_values) if p <= 0.05]\n",
    "significant_columns = significant_columns[1:]\n",
    "significant_columns = [val.split('.')[1].replace(']', \"\") for val in significant_columns]\n",
    "    \n",
    "print(significant_columns)"
   ]
  },
  {
   "cell_type": "code",
   "execution_count": 56,
   "id": "1546bba5",
   "metadata": {},
   "outputs": [
    {
     "name": "stdout",
     "output_type": "stream",
     "text": [
      "['Anthropology', 'Bioengineering', 'Chinese Studies', 'Computer Science & Engineering', 'Critical Gender Studies', 'Education Studies', 'Environmental Studies', 'Environmental Systems', 'Ethnic Studies', 'Global Health Program', 'Japanese Studies', 'Latin American Studies', 'Literature', 'Music', 'NanoEngineering Program', 'Public Health', 'Sixth College Academic Programs', 'Study of Religion', 'Theatre and Dance', 'Urban Studies & Planning Prog', 'Visual Arts']\n"
     ]
    }
   ],
   "source": [
    "non_significant_columns = [column_names[i] for i, p in enumerate(p_values) if p >= 0.05]\n",
    "non_significant_columns = [val.split('.')[1].replace(']', \"\") for val in non_significant_columns]\n",
    "    \n",
    "print(non_significant_columns)"
   ]
  },
  {
   "cell_type": "markdown",
   "id": "9ae7c6c9",
   "metadata": {},
   "source": [
    "<b>School Affiliation: </b>"
   ]
  },
  {
   "cell_type": "code",
   "execution_count": 57,
   "id": "5e8a0216",
   "metadata": {},
   "outputs": [
    {
     "name": "stdout",
     "output_type": "stream",
     "text": [
      "                 Generalized Linear Model Regression Results                  \n",
      "==============================================================================\n",
      "Dep. Variable:          Average_Grade   No. Observations:                23819\n",
      "Model:                            GLM   Df Residuals:                    23805\n",
      "Model Family:                Gaussian   Df Model:                           13\n",
      "Link Function:               Identity   Scale:                         0.13033\n",
      "Method:                          IRLS   Log-Likelihood:                -9523.0\n",
      "Date:                Thu, 14 Mar 2024   Deviance:                       3102.5\n",
      "Time:                        03:14:54   Pearson chi2:                 3.10e+03\n",
      "No. Iterations:                     3   Pseudo R-squ. (CS):             0.2132\n",
      "Covariance Type:            nonrobust                                         \n",
      "=============================================================================================================================\n",
      "                                                                coef    std err          z      P>|z|      [0.025      0.975]\n",
      "-----------------------------------------------------------------------------------------------------------------------------\n",
      "Intercept                                                     3.2790      0.046     70.725      0.000       3.188       3.370\n",
      "Label[T.Pre]                                                 -0.1362      0.008    -16.105      0.000      -0.153      -0.120\n",
      "School_Affiliation[T.Jacobs School of Engineering]            0.0118      0.047      0.252      0.801      -0.080       0.103\n",
      "School_Affiliation[T.Marshall College]                        0.1571      0.058      2.716      0.007       0.044       0.271\n",
      "School_Affiliation[T.Muir College]                            0.2575      0.071      3.646      0.000       0.119       0.396\n",
      "School_Affiliation[T.Rady School of Management]               0.0966      0.048      2.029      0.042       0.003       0.190\n",
      "School_Affiliation[T.School Of Social Sciences]               0.1873      0.047      4.010      0.000       0.096       0.279\n",
      "School_Affiliation[T.School of Arts and Humanities]           0.3045      0.047      6.524      0.000       0.213       0.396\n",
      "School_Affiliation[T.School of Biological Sciences]          -0.0014      0.047     -0.030      0.976      -0.094       0.091\n",
      "School_Affiliation[T.School of Global Policy & Strategy]     -0.0714      0.047     -1.519      0.129      -0.164       0.021\n",
      "School_Affiliation[T.School of Physical Sciences]            -0.2015      0.047     -4.306      0.000      -0.293      -0.110\n",
      "School_Affiliation[T.Scripps Institution of Oceanography]     0.1453      0.049      2.941      0.003       0.048       0.242\n",
      "School_Affiliation[T.Sixth College]                           0.2384      0.053      4.507      0.000       0.135       0.342\n",
      "School_Affiliation[T.Warren College]                          0.1825      0.062      2.922      0.003       0.060       0.305\n",
      "=============================================================================================================================\n"
     ]
    }
   ],
   "source": [
    "outcome, predictors = patsy.dmatrices('Average_Grade ~ Label + School_Affiliation', eda_df)\n",
    "mod = sm.GLM(outcome, predictors)\n",
    "res = mod.fit()\n",
    "print(res.summary())"
   ]
  },
  {
   "cell_type": "code",
   "execution_count": 58,
   "id": "36da1126",
   "metadata": {},
   "outputs": [
    {
     "name": "stdout",
     "output_type": "stream",
     "text": [
      "['Pre', 'Marshall College', 'Muir College', 'Rady School of Management', 'School Of Social Sciences', 'School of Arts and Humanities', 'School of Physical Sciences', 'Scripps Institution of Oceanography', 'Sixth College', 'Warren College']\n"
     ]
    }
   ],
   "source": [
    "p_values = res.pvalues\n",
    "column_names = predictors.design_info.column_names\n",
    "\n",
    "significant_columns = [column_names[i] for i, p in enumerate(p_values) if p <= 0.05]\n",
    "significant_columns = significant_columns[1:]\n",
    "significant_columns = [val.split('.')[1].replace(']', \"\") for val in significant_columns]\n",
    "    \n",
    "print(significant_columns)"
   ]
  },
  {
   "cell_type": "code",
   "execution_count": 59,
   "id": "2284458a",
   "metadata": {},
   "outputs": [
    {
     "name": "stdout",
     "output_type": "stream",
     "text": [
      "['Jacobs School of Engineering', 'School of Biological Sciences', 'School of Global Policy & Strategy']\n"
     ]
    }
   ],
   "source": [
    "non_significant_columns = [column_names[i] for i, p in enumerate(p_values) if p >= 0.05]\n",
    "non_significant_columns = [val.split('.')[1].replace(']', \"\") for val in non_significant_columns]\n",
    "    \n",
    "print(non_significant_columns)"
   ]
  },
  {
   "cell_type": "markdown",
   "id": "bf653ca1",
   "metadata": {},
   "source": [
    "# Conclusion\n",
    "As seen in the tests performed above, there are statistically significant differences in statistics for years prior to ChatGPT's release and after that. ***FINISH***"
   ]
  },
  {
   "cell_type": "markdown",
   "id": "e0d898d4",
   "metadata": {},
   "source": [
    "# Ethics & Privacy"
   ]
  },
  {
   "cell_type": "markdown",
   "id": "8169c4e0",
   "metadata": {},
   "source": [
    "Regarding the project's ethics and privacy, we will guarantee that our approach respects ethics and privacy issues while remaining lawful and fair throughout the development of our project. We will acknowledge that there may be unintended use of our data and results which we will heavily discourage and address here and throughout our project. The data that we've suggested can also carry some inherent biases in which the selection or omission of specific variables can potentially lead us to overlook certain factors while placing excessive emphasis on others.\n",
    "\n",
    "For instance, by focusing mainly on how ChatGPT affects students' grades, we might undervalue the impact of COVID-19 on academic performance. Specifically, during the years leading up to ChatGPT’s release, many courses were taught online or in hybrid settings, which may have affected students’ learning experience. Additionally, because ChatGPT was released in the middle of Fall 2022, the influence of ChatGPT may or may not have an effect on grades during this quarter which can influence the comparison of grades pre and post ChatGPT. Furthermore, the data is dependent on professors’ willingness to report average grades as some classes will/can be removed due to professors not reporting grades. Another example includes professors’ teaching style as it can heavily impact student performance as well and a teacher may or may not teach the same class for multiple quarters which can affect grades as a teacher can get better at teaching over time. \n",
    "\n",
    "To overcome these biases and confounds, our approach involves creating multiple subgroups for a more detailed exploration of the data. We can actively assess the effects of ChatGPT between departments, schools, or course levels to control for these confounds. Additionally, we can consider grouping by quarter or by class which can help limit the confounds. We can also try to explore other subgroups and acknowledge limitations within our EDA if necessary.\n",
    "Concerning potential issues related to data privacy and equitable impact in our topic area, we recognize the risk of influencing students’ and professors’ opinion towards ChatGPT. It can also produce doubts on whether students are taking classes at UCSD with academic honesty and integrity. However, given that student enrollment is anonymous in the dataset, data privacy concerns are minimal but we will still emphasize and discourage the use of our research for this intent. Furthermore, this dataset is specific towards UCSD students which we will emphasize that our research should not be used to generalize all students including those outside of UCSD. \n",
    "\n",
    "In the context of privacy of the data, the data utilized for our project was sourced from a publicly available dataset created by a UCSD student. This dataset consists of all the data webscrapped from CAPES, which is UCSD’s previous evaluation system that was recently replaced by SETS during the summer of 2023. Because CAPES is designated for academic and educational purposes, the data ensure privacy and anonymity for students represented in the data. Our use complies with all relevant institutional and legal standards, maintaining the integrity and respecting the contributions of the data. "
   ]
  },
  {
   "cell_type": "markdown",
   "id": "b3805b0b",
   "metadata": {},
   "source": [
    "# Team Expectations "
   ]
  },
  {
   "cell_type": "markdown",
   "id": "06c98a49",
   "metadata": {},
   "source": [
    "* *Maintain open and regular communication to keep all team members informed and engaged.*\n",
    "* *Take responsibility for your contributions, acknowledging both successes and areas for improvement.*\n",
    "* *Work collaboratively, offering and seeking support to leverage the team's collective strengths.*\n",
    "* *Acknowledge the importance of personal time, promoting flexibility to enhance well-being and productivity.*\n",
    "* *Prioritize transparency, especially during busy periods, to manage expectations and maintain trust.*\n",
    "* *Cultivate a collaborative and supportive team environment, prioritizing reliability, accountability, respect, openness to feedback, and a willingness to learn from mistakes*"
   ]
  },
  {
   "cell_type": "markdown",
   "id": "a6b6359b",
   "metadata": {},
   "source": [
    "# Project Timeline Proposal"
   ]
  },
  {
   "cell_type": "markdown",
   "id": "984a60e7",
   "metadata": {},
   "source": [
    "| Meeting Date  | Meeting Time| Completed Before Meeting  | Discussed at Meeting |\n",
    "|---|---|---|---|\n",
    "| 2/6  |  1 PM |  Do our own research on potential topic | Find and discuss topics; Choose a topic; Start looking at related datasets; Assign group members to complete each section of the project proposal | \n",
    "| 2/20  | 1 PM  | Find datasets correponding to the different time periods we want to analyze  | Discuss which datasets we want to use and how we will compile our data; Select datasets that we want to use and assign each person to think about how we will clean the data   |\n",
    "| 2/24  | 4 PM  | Think about what datasets are compatible | Review/Edit wrangling/EDA (and review for submission); Discuss Analysis Plan  |\n",
    "| 2/25  | Before 11:59 PM  | Review project checkpoint | Turn in Checkpoint #1: Data |\n",
    "| 2/27  | 1 PM  | Think about analysis details and what we need to complete | Discuss analysis; Assign subtasks for data analysis; Complete project check-in |\n",
    "| 3/5   | 1 PM   | Review analysis and draft conclusion points | Discuss/edit full project; Assign remaining necessary tasks |\n",
    "| 3/7   | 1 PM   | Continue to work on analysis | RESTART PROJECT |\n",
    "| 3/9   | 1 PM   | Finish rewriting project proposal and data checkpoint #1 | Discuss EDA and aim to finish soon |\n",
    "| 3/10  | Before 11:59 PM  | Review project EDA | Turn in Checkpoint #2: EDA |\n",
    "| 3/12  | 1 PM   | Continue to work on final tasks | Review project; Discuss points of improvement |\n",
    "| 3/20  | Before 11:59 PM  | Finalize project | Turn in Final Project & Group Project Surveys |"
   ]
  }
 ],
 "metadata": {
  "kernelspec": {
   "display_name": "Python 3 (ipykernel)",
   "language": "python",
   "name": "python3"
  },
  "language_info": {
   "codemirror_mode": {
    "name": "ipython",
    "version": 3
   },
   "file_extension": ".py",
   "mimetype": "text/x-python",
   "name": "python",
   "nbconvert_exporter": "python",
   "pygments_lexer": "ipython3",
   "version": "3.9.5"
  }
 },
 "nbformat": 4,
 "nbformat_minor": 5
}
